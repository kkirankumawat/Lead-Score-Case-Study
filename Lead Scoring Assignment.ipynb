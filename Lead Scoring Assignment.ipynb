{
 "cells": [
  {
   "cell_type": "code",
   "execution_count": 1,
   "id": "c1b945f6",
   "metadata": {},
   "outputs": [],
   "source": [
    "# importing libraries\n",
    "import numpy as np, pandas as pd\n",
    "import matplotlib.pyplot as plt\n",
    "import seaborn as sns\n",
    "\n",
    "import warnings\n",
    "warnings.filterwarnings('ignore')"
   ]
  },
  {
   "cell_type": "markdown",
   "id": "536f003a",
   "metadata": {},
   "source": [
    "### Step 1: Importing Data"
   ]
  },
  {
   "cell_type": "code",
   "execution_count": 2,
   "id": "f4dddc41",
   "metadata": {},
   "outputs": [],
   "source": [
    "leads=pd.read_csv('Leads.csv')"
   ]
  },
  {
   "cell_type": "code",
   "execution_count": 3,
   "id": "04470c43",
   "metadata": {},
   "outputs": [
    {
     "data": {
      "text/html": [
       "<div>\n",
       "<style scoped>\n",
       "    .dataframe tbody tr th:only-of-type {\n",
       "        vertical-align: middle;\n",
       "    }\n",
       "\n",
       "    .dataframe tbody tr th {\n",
       "        vertical-align: top;\n",
       "    }\n",
       "\n",
       "    .dataframe thead th {\n",
       "        text-align: right;\n",
       "    }\n",
       "</style>\n",
       "<table border=\"1\" class=\"dataframe\">\n",
       "  <thead>\n",
       "    <tr style=\"text-align: right;\">\n",
       "      <th></th>\n",
       "      <th>Prospect ID</th>\n",
       "      <th>Lead Number</th>\n",
       "      <th>Lead Origin</th>\n",
       "      <th>Lead Source</th>\n",
       "      <th>Do Not Email</th>\n",
       "      <th>Do Not Call</th>\n",
       "      <th>Converted</th>\n",
       "      <th>TotalVisits</th>\n",
       "      <th>Total Time Spent on Website</th>\n",
       "      <th>Page Views Per Visit</th>\n",
       "      <th>...</th>\n",
       "      <th>Get updates on DM Content</th>\n",
       "      <th>Lead Profile</th>\n",
       "      <th>City</th>\n",
       "      <th>Asymmetrique Activity Index</th>\n",
       "      <th>Asymmetrique Profile Index</th>\n",
       "      <th>Asymmetrique Activity Score</th>\n",
       "      <th>Asymmetrique Profile Score</th>\n",
       "      <th>I agree to pay the amount through cheque</th>\n",
       "      <th>A free copy of Mastering The Interview</th>\n",
       "      <th>Last Notable Activity</th>\n",
       "    </tr>\n",
       "  </thead>\n",
       "  <tbody>\n",
       "    <tr>\n",
       "      <th>0</th>\n",
       "      <td>7927b2df-8bba-4d29-b9a2-b6e0beafe620</td>\n",
       "      <td>660737</td>\n",
       "      <td>API</td>\n",
       "      <td>Olark Chat</td>\n",
       "      <td>No</td>\n",
       "      <td>No</td>\n",
       "      <td>0</td>\n",
       "      <td>0.0</td>\n",
       "      <td>0</td>\n",
       "      <td>0.0</td>\n",
       "      <td>...</td>\n",
       "      <td>No</td>\n",
       "      <td>Select</td>\n",
       "      <td>Select</td>\n",
       "      <td>02.Medium</td>\n",
       "      <td>02.Medium</td>\n",
       "      <td>15.0</td>\n",
       "      <td>15.0</td>\n",
       "      <td>No</td>\n",
       "      <td>No</td>\n",
       "      <td>Modified</td>\n",
       "    </tr>\n",
       "    <tr>\n",
       "      <th>1</th>\n",
       "      <td>2a272436-5132-4136-86fa-dcc88c88f482</td>\n",
       "      <td>660728</td>\n",
       "      <td>API</td>\n",
       "      <td>Organic Search</td>\n",
       "      <td>No</td>\n",
       "      <td>No</td>\n",
       "      <td>0</td>\n",
       "      <td>5.0</td>\n",
       "      <td>674</td>\n",
       "      <td>2.5</td>\n",
       "      <td>...</td>\n",
       "      <td>No</td>\n",
       "      <td>Select</td>\n",
       "      <td>Select</td>\n",
       "      <td>02.Medium</td>\n",
       "      <td>02.Medium</td>\n",
       "      <td>15.0</td>\n",
       "      <td>15.0</td>\n",
       "      <td>No</td>\n",
       "      <td>No</td>\n",
       "      <td>Email Opened</td>\n",
       "    </tr>\n",
       "    <tr>\n",
       "      <th>2</th>\n",
       "      <td>8cc8c611-a219-4f35-ad23-fdfd2656bd8a</td>\n",
       "      <td>660727</td>\n",
       "      <td>Landing Page Submission</td>\n",
       "      <td>Direct Traffic</td>\n",
       "      <td>No</td>\n",
       "      <td>No</td>\n",
       "      <td>1</td>\n",
       "      <td>2.0</td>\n",
       "      <td>1532</td>\n",
       "      <td>2.0</td>\n",
       "      <td>...</td>\n",
       "      <td>No</td>\n",
       "      <td>Potential Lead</td>\n",
       "      <td>Mumbai</td>\n",
       "      <td>02.Medium</td>\n",
       "      <td>01.High</td>\n",
       "      <td>14.0</td>\n",
       "      <td>20.0</td>\n",
       "      <td>No</td>\n",
       "      <td>Yes</td>\n",
       "      <td>Email Opened</td>\n",
       "    </tr>\n",
       "    <tr>\n",
       "      <th>3</th>\n",
       "      <td>0cc2df48-7cf4-4e39-9de9-19797f9b38cc</td>\n",
       "      <td>660719</td>\n",
       "      <td>Landing Page Submission</td>\n",
       "      <td>Direct Traffic</td>\n",
       "      <td>No</td>\n",
       "      <td>No</td>\n",
       "      <td>0</td>\n",
       "      <td>1.0</td>\n",
       "      <td>305</td>\n",
       "      <td>1.0</td>\n",
       "      <td>...</td>\n",
       "      <td>No</td>\n",
       "      <td>Select</td>\n",
       "      <td>Mumbai</td>\n",
       "      <td>02.Medium</td>\n",
       "      <td>01.High</td>\n",
       "      <td>13.0</td>\n",
       "      <td>17.0</td>\n",
       "      <td>No</td>\n",
       "      <td>No</td>\n",
       "      <td>Modified</td>\n",
       "    </tr>\n",
       "    <tr>\n",
       "      <th>4</th>\n",
       "      <td>3256f628-e534-4826-9d63-4a8b88782852</td>\n",
       "      <td>660681</td>\n",
       "      <td>Landing Page Submission</td>\n",
       "      <td>Google</td>\n",
       "      <td>No</td>\n",
       "      <td>No</td>\n",
       "      <td>1</td>\n",
       "      <td>2.0</td>\n",
       "      <td>1428</td>\n",
       "      <td>1.0</td>\n",
       "      <td>...</td>\n",
       "      <td>No</td>\n",
       "      <td>Select</td>\n",
       "      <td>Mumbai</td>\n",
       "      <td>02.Medium</td>\n",
       "      <td>01.High</td>\n",
       "      <td>15.0</td>\n",
       "      <td>18.0</td>\n",
       "      <td>No</td>\n",
       "      <td>No</td>\n",
       "      <td>Modified</td>\n",
       "    </tr>\n",
       "  </tbody>\n",
       "</table>\n",
       "<p>5 rows × 37 columns</p>\n",
       "</div>"
      ],
      "text/plain": [
       "                            Prospect ID  Lead Number              Lead Origin  \\\n",
       "0  7927b2df-8bba-4d29-b9a2-b6e0beafe620       660737                      API   \n",
       "1  2a272436-5132-4136-86fa-dcc88c88f482       660728                      API   \n",
       "2  8cc8c611-a219-4f35-ad23-fdfd2656bd8a       660727  Landing Page Submission   \n",
       "3  0cc2df48-7cf4-4e39-9de9-19797f9b38cc       660719  Landing Page Submission   \n",
       "4  3256f628-e534-4826-9d63-4a8b88782852       660681  Landing Page Submission   \n",
       "\n",
       "      Lead Source Do Not Email Do Not Call  Converted  TotalVisits  \\\n",
       "0      Olark Chat           No          No          0          0.0   \n",
       "1  Organic Search           No          No          0          5.0   \n",
       "2  Direct Traffic           No          No          1          2.0   \n",
       "3  Direct Traffic           No          No          0          1.0   \n",
       "4          Google           No          No          1          2.0   \n",
       "\n",
       "   Total Time Spent on Website  Page Views Per Visit  ...  \\\n",
       "0                            0                   0.0  ...   \n",
       "1                          674                   2.5  ...   \n",
       "2                         1532                   2.0  ...   \n",
       "3                          305                   1.0  ...   \n",
       "4                         1428                   1.0  ...   \n",
       "\n",
       "  Get updates on DM Content    Lead Profile    City  \\\n",
       "0                        No          Select  Select   \n",
       "1                        No          Select  Select   \n",
       "2                        No  Potential Lead  Mumbai   \n",
       "3                        No          Select  Mumbai   \n",
       "4                        No          Select  Mumbai   \n",
       "\n",
       "  Asymmetrique Activity Index Asymmetrique Profile Index  \\\n",
       "0                   02.Medium                  02.Medium   \n",
       "1                   02.Medium                  02.Medium   \n",
       "2                   02.Medium                    01.High   \n",
       "3                   02.Medium                    01.High   \n",
       "4                   02.Medium                    01.High   \n",
       "\n",
       "  Asymmetrique Activity Score Asymmetrique Profile Score  \\\n",
       "0                        15.0                       15.0   \n",
       "1                        15.0                       15.0   \n",
       "2                        14.0                       20.0   \n",
       "3                        13.0                       17.0   \n",
       "4                        15.0                       18.0   \n",
       "\n",
       "  I agree to pay the amount through cheque  \\\n",
       "0                                       No   \n",
       "1                                       No   \n",
       "2                                       No   \n",
       "3                                       No   \n",
       "4                                       No   \n",
       "\n",
       "  A free copy of Mastering The Interview Last Notable Activity  \n",
       "0                                     No              Modified  \n",
       "1                                     No          Email Opened  \n",
       "2                                    Yes          Email Opened  \n",
       "3                                     No              Modified  \n",
       "4                                     No              Modified  \n",
       "\n",
       "[5 rows x 37 columns]"
      ]
     },
     "execution_count": 3,
     "metadata": {},
     "output_type": "execute_result"
    }
   ],
   "source": [
    "leads.head()"
   ]
  },
  {
   "cell_type": "markdown",
   "id": "77a11f4d",
   "metadata": {},
   "source": [
    "### Step 2: Inspecting the Dataframe"
   ]
  },
  {
   "cell_type": "code",
   "execution_count": 4,
   "id": "2d38a592",
   "metadata": {},
   "outputs": [
    {
     "data": {
      "text/plain": [
       "(9240, 37)"
      ]
     },
     "execution_count": 4,
     "metadata": {},
     "output_type": "execute_result"
    }
   ],
   "source": [
    "leads.shape"
   ]
  },
  {
   "cell_type": "code",
   "execution_count": 5,
   "id": "4731d36e",
   "metadata": {},
   "outputs": [
    {
     "name": "stdout",
     "output_type": "stream",
     "text": [
      "<class 'pandas.core.frame.DataFrame'>\n",
      "RangeIndex: 9240 entries, 0 to 9239\n",
      "Data columns (total 37 columns):\n",
      " #   Column                                         Non-Null Count  Dtype  \n",
      "---  ------                                         --------------  -----  \n",
      " 0   Prospect ID                                    9240 non-null   object \n",
      " 1   Lead Number                                    9240 non-null   int64  \n",
      " 2   Lead Origin                                    9240 non-null   object \n",
      " 3   Lead Source                                    9204 non-null   object \n",
      " 4   Do Not Email                                   9240 non-null   object \n",
      " 5   Do Not Call                                    9240 non-null   object \n",
      " 6   Converted                                      9240 non-null   int64  \n",
      " 7   TotalVisits                                    9103 non-null   float64\n",
      " 8   Total Time Spent on Website                    9240 non-null   int64  \n",
      " 9   Page Views Per Visit                           9103 non-null   float64\n",
      " 10  Last Activity                                  9137 non-null   object \n",
      " 11  Country                                        6779 non-null   object \n",
      " 12  Specialization                                 7802 non-null   object \n",
      " 13  How did you hear about X Education             7033 non-null   object \n",
      " 14  What is your current occupation                6550 non-null   object \n",
      " 15  What matters most to you in choosing a course  6531 non-null   object \n",
      " 16  Search                                         9240 non-null   object \n",
      " 17  Magazine                                       9240 non-null   object \n",
      " 18  Newspaper Article                              9240 non-null   object \n",
      " 19  X Education Forums                             9240 non-null   object \n",
      " 20  Newspaper                                      9240 non-null   object \n",
      " 21  Digital Advertisement                          9240 non-null   object \n",
      " 22  Through Recommendations                        9240 non-null   object \n",
      " 23  Receive More Updates About Our Courses         9240 non-null   object \n",
      " 24  Tags                                           5887 non-null   object \n",
      " 25  Lead Quality                                   4473 non-null   object \n",
      " 26  Update me on Supply Chain Content              9240 non-null   object \n",
      " 27  Get updates on DM Content                      9240 non-null   object \n",
      " 28  Lead Profile                                   6531 non-null   object \n",
      " 29  City                                           7820 non-null   object \n",
      " 30  Asymmetrique Activity Index                    5022 non-null   object \n",
      " 31  Asymmetrique Profile Index                     5022 non-null   object \n",
      " 32  Asymmetrique Activity Score                    5022 non-null   float64\n",
      " 33  Asymmetrique Profile Score                     5022 non-null   float64\n",
      " 34  I agree to pay the amount through cheque       9240 non-null   object \n",
      " 35  A free copy of Mastering The Interview         9240 non-null   object \n",
      " 36  Last Notable Activity                          9240 non-null   object \n",
      "dtypes: float64(4), int64(3), object(30)\n",
      "memory usage: 2.6+ MB\n"
     ]
    }
   ],
   "source": [
    "leads.info()"
   ]
  },
  {
   "cell_type": "code",
   "execution_count": 6,
   "id": "409d0596",
   "metadata": {},
   "outputs": [
    {
     "data": {
      "text/html": [
       "<div>\n",
       "<style scoped>\n",
       "    .dataframe tbody tr th:only-of-type {\n",
       "        vertical-align: middle;\n",
       "    }\n",
       "\n",
       "    .dataframe tbody tr th {\n",
       "        vertical-align: top;\n",
       "    }\n",
       "\n",
       "    .dataframe thead th {\n",
       "        text-align: right;\n",
       "    }\n",
       "</style>\n",
       "<table border=\"1\" class=\"dataframe\">\n",
       "  <thead>\n",
       "    <tr style=\"text-align: right;\">\n",
       "      <th></th>\n",
       "      <th>Lead Number</th>\n",
       "      <th>Converted</th>\n",
       "      <th>TotalVisits</th>\n",
       "      <th>Total Time Spent on Website</th>\n",
       "      <th>Page Views Per Visit</th>\n",
       "      <th>Asymmetrique Activity Score</th>\n",
       "      <th>Asymmetrique Profile Score</th>\n",
       "    </tr>\n",
       "  </thead>\n",
       "  <tbody>\n",
       "    <tr>\n",
       "      <th>count</th>\n",
       "      <td>9240.000000</td>\n",
       "      <td>9240.000000</td>\n",
       "      <td>9103.000000</td>\n",
       "      <td>9240.000000</td>\n",
       "      <td>9103.000000</td>\n",
       "      <td>5022.000000</td>\n",
       "      <td>5022.000000</td>\n",
       "    </tr>\n",
       "    <tr>\n",
       "      <th>mean</th>\n",
       "      <td>617188.435606</td>\n",
       "      <td>0.385390</td>\n",
       "      <td>3.445238</td>\n",
       "      <td>487.698268</td>\n",
       "      <td>2.362820</td>\n",
       "      <td>14.306252</td>\n",
       "      <td>16.344883</td>\n",
       "    </tr>\n",
       "    <tr>\n",
       "      <th>std</th>\n",
       "      <td>23405.995698</td>\n",
       "      <td>0.486714</td>\n",
       "      <td>4.854853</td>\n",
       "      <td>548.021466</td>\n",
       "      <td>2.161418</td>\n",
       "      <td>1.386694</td>\n",
       "      <td>1.811395</td>\n",
       "    </tr>\n",
       "    <tr>\n",
       "      <th>min</th>\n",
       "      <td>579533.000000</td>\n",
       "      <td>0.000000</td>\n",
       "      <td>0.000000</td>\n",
       "      <td>0.000000</td>\n",
       "      <td>0.000000</td>\n",
       "      <td>7.000000</td>\n",
       "      <td>11.000000</td>\n",
       "    </tr>\n",
       "    <tr>\n",
       "      <th>25%</th>\n",
       "      <td>596484.500000</td>\n",
       "      <td>0.000000</td>\n",
       "      <td>1.000000</td>\n",
       "      <td>12.000000</td>\n",
       "      <td>1.000000</td>\n",
       "      <td>14.000000</td>\n",
       "      <td>15.000000</td>\n",
       "    </tr>\n",
       "    <tr>\n",
       "      <th>50%</th>\n",
       "      <td>615479.000000</td>\n",
       "      <td>0.000000</td>\n",
       "      <td>3.000000</td>\n",
       "      <td>248.000000</td>\n",
       "      <td>2.000000</td>\n",
       "      <td>14.000000</td>\n",
       "      <td>16.000000</td>\n",
       "    </tr>\n",
       "    <tr>\n",
       "      <th>75%</th>\n",
       "      <td>637387.250000</td>\n",
       "      <td>1.000000</td>\n",
       "      <td>5.000000</td>\n",
       "      <td>936.000000</td>\n",
       "      <td>3.000000</td>\n",
       "      <td>15.000000</td>\n",
       "      <td>18.000000</td>\n",
       "    </tr>\n",
       "    <tr>\n",
       "      <th>max</th>\n",
       "      <td>660737.000000</td>\n",
       "      <td>1.000000</td>\n",
       "      <td>251.000000</td>\n",
       "      <td>2272.000000</td>\n",
       "      <td>55.000000</td>\n",
       "      <td>18.000000</td>\n",
       "      <td>20.000000</td>\n",
       "    </tr>\n",
       "  </tbody>\n",
       "</table>\n",
       "</div>"
      ],
      "text/plain": [
       "         Lead Number    Converted  TotalVisits  Total Time Spent on Website  \\\n",
       "count    9240.000000  9240.000000  9103.000000                  9240.000000   \n",
       "mean   617188.435606     0.385390     3.445238                   487.698268   \n",
       "std     23405.995698     0.486714     4.854853                   548.021466   \n",
       "min    579533.000000     0.000000     0.000000                     0.000000   \n",
       "25%    596484.500000     0.000000     1.000000                    12.000000   \n",
       "50%    615479.000000     0.000000     3.000000                   248.000000   \n",
       "75%    637387.250000     1.000000     5.000000                   936.000000   \n",
       "max    660737.000000     1.000000   251.000000                  2272.000000   \n",
       "\n",
       "       Page Views Per Visit  Asymmetrique Activity Score  \\\n",
       "count           9103.000000                  5022.000000   \n",
       "mean               2.362820                    14.306252   \n",
       "std                2.161418                     1.386694   \n",
       "min                0.000000                     7.000000   \n",
       "25%                1.000000                    14.000000   \n",
       "50%                2.000000                    14.000000   \n",
       "75%                3.000000                    15.000000   \n",
       "max               55.000000                    18.000000   \n",
       "\n",
       "       Asymmetrique Profile Score  \n",
       "count                 5022.000000  \n",
       "mean                    16.344883  \n",
       "std                      1.811395  \n",
       "min                     11.000000  \n",
       "25%                     15.000000  \n",
       "50%                     16.000000  \n",
       "75%                     18.000000  \n",
       "max                     20.000000  "
      ]
     },
     "execution_count": 6,
     "metadata": {},
     "output_type": "execute_result"
    }
   ],
   "source": [
    "leads.describe()"
   ]
  },
  {
   "cell_type": "code",
   "execution_count": 7,
   "id": "490cd1b6",
   "metadata": {},
   "outputs": [
    {
     "data": {
      "text/plain": [
       "Prospect ID                                       0.00\n",
       "Lead Number                                       0.00\n",
       "Lead Origin                                       0.00\n",
       "Lead Source                                       0.39\n",
       "Do Not Email                                      0.00\n",
       "Do Not Call                                       0.00\n",
       "Converted                                         0.00\n",
       "TotalVisits                                       1.48\n",
       "Total Time Spent on Website                       0.00\n",
       "Page Views Per Visit                              1.48\n",
       "Last Activity                                     1.11\n",
       "Country                                          26.63\n",
       "Specialization                                   15.56\n",
       "How did you hear about X Education               23.89\n",
       "What is your current occupation                  29.11\n",
       "What matters most to you in choosing a course    29.32\n",
       "Search                                            0.00\n",
       "Magazine                                          0.00\n",
       "Newspaper Article                                 0.00\n",
       "X Education Forums                                0.00\n",
       "Newspaper                                         0.00\n",
       "Digital Advertisement                             0.00\n",
       "Through Recommendations                           0.00\n",
       "Receive More Updates About Our Courses            0.00\n",
       "Tags                                             36.29\n",
       "Lead Quality                                     51.59\n",
       "Update me on Supply Chain Content                 0.00\n",
       "Get updates on DM Content                         0.00\n",
       "Lead Profile                                     29.32\n",
       "City                                             15.37\n",
       "Asymmetrique Activity Index                      45.65\n",
       "Asymmetrique Profile Index                       45.65\n",
       "Asymmetrique Activity Score                      45.65\n",
       "Asymmetrique Profile Score                       45.65\n",
       "I agree to pay the amount through cheque          0.00\n",
       "A free copy of Mastering The Interview            0.00\n",
       "Last Notable Activity                             0.00\n",
       "dtype: float64"
      ]
     },
     "execution_count": 7,
     "metadata": {},
     "output_type": "execute_result"
    }
   ],
   "source": [
    "# checking the % of null values\n",
    "round(leads.isnull().sum()/len(leads)*100,2)"
   ]
  },
  {
   "cell_type": "code",
   "execution_count": 8,
   "id": "bbae5310",
   "metadata": {},
   "outputs": [],
   "source": [
    "# We can remove Prospect ID from the dataframe as it doesn't impart any useful information\n",
    "leads.drop('Prospect ID',axis=1,inplace=True)"
   ]
  },
  {
   "cell_type": "code",
   "execution_count": 9,
   "id": "53c455fd",
   "metadata": {},
   "outputs": [
    {
     "data": {
      "text/html": [
       "<div>\n",
       "<style scoped>\n",
       "    .dataframe tbody tr th:only-of-type {\n",
       "        vertical-align: middle;\n",
       "    }\n",
       "\n",
       "    .dataframe tbody tr th {\n",
       "        vertical-align: top;\n",
       "    }\n",
       "\n",
       "    .dataframe thead th {\n",
       "        text-align: right;\n",
       "    }\n",
       "</style>\n",
       "<table border=\"1\" class=\"dataframe\">\n",
       "  <thead>\n",
       "    <tr style=\"text-align: right;\">\n",
       "      <th></th>\n",
       "      <th>Lead Number</th>\n",
       "      <th>Lead Origin</th>\n",
       "      <th>Lead Source</th>\n",
       "      <th>Do Not Email</th>\n",
       "      <th>Do Not Call</th>\n",
       "      <th>Converted</th>\n",
       "      <th>TotalVisits</th>\n",
       "      <th>Total Time Spent on Website</th>\n",
       "      <th>Page Views Per Visit</th>\n",
       "      <th>Last Activity</th>\n",
       "      <th>...</th>\n",
       "      <th>Get updates on DM Content</th>\n",
       "      <th>Lead Profile</th>\n",
       "      <th>City</th>\n",
       "      <th>Asymmetrique Activity Index</th>\n",
       "      <th>Asymmetrique Profile Index</th>\n",
       "      <th>Asymmetrique Activity Score</th>\n",
       "      <th>Asymmetrique Profile Score</th>\n",
       "      <th>I agree to pay the amount through cheque</th>\n",
       "      <th>A free copy of Mastering The Interview</th>\n",
       "      <th>Last Notable Activity</th>\n",
       "    </tr>\n",
       "  </thead>\n",
       "  <tbody>\n",
       "    <tr>\n",
       "      <th>0</th>\n",
       "      <td>660737</td>\n",
       "      <td>API</td>\n",
       "      <td>Olark Chat</td>\n",
       "      <td>No</td>\n",
       "      <td>No</td>\n",
       "      <td>0</td>\n",
       "      <td>0.0</td>\n",
       "      <td>0</td>\n",
       "      <td>0.0</td>\n",
       "      <td>Page Visited on Website</td>\n",
       "      <td>...</td>\n",
       "      <td>No</td>\n",
       "      <td>NaN</td>\n",
       "      <td>NaN</td>\n",
       "      <td>02.Medium</td>\n",
       "      <td>02.Medium</td>\n",
       "      <td>15.0</td>\n",
       "      <td>15.0</td>\n",
       "      <td>No</td>\n",
       "      <td>No</td>\n",
       "      <td>Modified</td>\n",
       "    </tr>\n",
       "    <tr>\n",
       "      <th>1</th>\n",
       "      <td>660728</td>\n",
       "      <td>API</td>\n",
       "      <td>Organic Search</td>\n",
       "      <td>No</td>\n",
       "      <td>No</td>\n",
       "      <td>0</td>\n",
       "      <td>5.0</td>\n",
       "      <td>674</td>\n",
       "      <td>2.5</td>\n",
       "      <td>Email Opened</td>\n",
       "      <td>...</td>\n",
       "      <td>No</td>\n",
       "      <td>NaN</td>\n",
       "      <td>NaN</td>\n",
       "      <td>02.Medium</td>\n",
       "      <td>02.Medium</td>\n",
       "      <td>15.0</td>\n",
       "      <td>15.0</td>\n",
       "      <td>No</td>\n",
       "      <td>No</td>\n",
       "      <td>Email Opened</td>\n",
       "    </tr>\n",
       "    <tr>\n",
       "      <th>2</th>\n",
       "      <td>660727</td>\n",
       "      <td>Landing Page Submission</td>\n",
       "      <td>Direct Traffic</td>\n",
       "      <td>No</td>\n",
       "      <td>No</td>\n",
       "      <td>1</td>\n",
       "      <td>2.0</td>\n",
       "      <td>1532</td>\n",
       "      <td>2.0</td>\n",
       "      <td>Email Opened</td>\n",
       "      <td>...</td>\n",
       "      <td>No</td>\n",
       "      <td>Potential Lead</td>\n",
       "      <td>Mumbai</td>\n",
       "      <td>02.Medium</td>\n",
       "      <td>01.High</td>\n",
       "      <td>14.0</td>\n",
       "      <td>20.0</td>\n",
       "      <td>No</td>\n",
       "      <td>Yes</td>\n",
       "      <td>Email Opened</td>\n",
       "    </tr>\n",
       "    <tr>\n",
       "      <th>3</th>\n",
       "      <td>660719</td>\n",
       "      <td>Landing Page Submission</td>\n",
       "      <td>Direct Traffic</td>\n",
       "      <td>No</td>\n",
       "      <td>No</td>\n",
       "      <td>0</td>\n",
       "      <td>1.0</td>\n",
       "      <td>305</td>\n",
       "      <td>1.0</td>\n",
       "      <td>Unreachable</td>\n",
       "      <td>...</td>\n",
       "      <td>No</td>\n",
       "      <td>NaN</td>\n",
       "      <td>Mumbai</td>\n",
       "      <td>02.Medium</td>\n",
       "      <td>01.High</td>\n",
       "      <td>13.0</td>\n",
       "      <td>17.0</td>\n",
       "      <td>No</td>\n",
       "      <td>No</td>\n",
       "      <td>Modified</td>\n",
       "    </tr>\n",
       "    <tr>\n",
       "      <th>4</th>\n",
       "      <td>660681</td>\n",
       "      <td>Landing Page Submission</td>\n",
       "      <td>Google</td>\n",
       "      <td>No</td>\n",
       "      <td>No</td>\n",
       "      <td>1</td>\n",
       "      <td>2.0</td>\n",
       "      <td>1428</td>\n",
       "      <td>1.0</td>\n",
       "      <td>Converted to Lead</td>\n",
       "      <td>...</td>\n",
       "      <td>No</td>\n",
       "      <td>NaN</td>\n",
       "      <td>Mumbai</td>\n",
       "      <td>02.Medium</td>\n",
       "      <td>01.High</td>\n",
       "      <td>15.0</td>\n",
       "      <td>18.0</td>\n",
       "      <td>No</td>\n",
       "      <td>No</td>\n",
       "      <td>Modified</td>\n",
       "    </tr>\n",
       "  </tbody>\n",
       "</table>\n",
       "<p>5 rows × 36 columns</p>\n",
       "</div>"
      ],
      "text/plain": [
       "   Lead Number              Lead Origin     Lead Source Do Not Email  \\\n",
       "0       660737                      API      Olark Chat           No   \n",
       "1       660728                      API  Organic Search           No   \n",
       "2       660727  Landing Page Submission  Direct Traffic           No   \n",
       "3       660719  Landing Page Submission  Direct Traffic           No   \n",
       "4       660681  Landing Page Submission          Google           No   \n",
       "\n",
       "  Do Not Call  Converted  TotalVisits  Total Time Spent on Website  \\\n",
       "0          No          0          0.0                            0   \n",
       "1          No          0          5.0                          674   \n",
       "2          No          1          2.0                         1532   \n",
       "3          No          0          1.0                          305   \n",
       "4          No          1          2.0                         1428   \n",
       "\n",
       "   Page Views Per Visit            Last Activity  ...  \\\n",
       "0                   0.0  Page Visited on Website  ...   \n",
       "1                   2.5             Email Opened  ...   \n",
       "2                   2.0             Email Opened  ...   \n",
       "3                   1.0              Unreachable  ...   \n",
       "4                   1.0        Converted to Lead  ...   \n",
       "\n",
       "  Get updates on DM Content    Lead Profile    City  \\\n",
       "0                        No             NaN     NaN   \n",
       "1                        No             NaN     NaN   \n",
       "2                        No  Potential Lead  Mumbai   \n",
       "3                        No             NaN  Mumbai   \n",
       "4                        No             NaN  Mumbai   \n",
       "\n",
       "  Asymmetrique Activity Index Asymmetrique Profile Index  \\\n",
       "0                   02.Medium                  02.Medium   \n",
       "1                   02.Medium                  02.Medium   \n",
       "2                   02.Medium                    01.High   \n",
       "3                   02.Medium                    01.High   \n",
       "4                   02.Medium                    01.High   \n",
       "\n",
       "  Asymmetrique Activity Score Asymmetrique Profile Score  \\\n",
       "0                        15.0                       15.0   \n",
       "1                        15.0                       15.0   \n",
       "2                        14.0                       20.0   \n",
       "3                        13.0                       17.0   \n",
       "4                        15.0                       18.0   \n",
       "\n",
       "  I agree to pay the amount through cheque  \\\n",
       "0                                       No   \n",
       "1                                       No   \n",
       "2                                       No   \n",
       "3                                       No   \n",
       "4                                       No   \n",
       "\n",
       "  A free copy of Mastering The Interview Last Notable Activity  \n",
       "0                                     No              Modified  \n",
       "1                                     No          Email Opened  \n",
       "2                                    Yes          Email Opened  \n",
       "3                                     No              Modified  \n",
       "4                                     No              Modified  \n",
       "\n",
       "[5 rows x 36 columns]"
      ]
     },
     "execution_count": 9,
     "metadata": {},
     "output_type": "execute_result"
    }
   ],
   "source": [
    "# There are some variables containing 'Select' as value which is equivalent to null values, hence replacing 'Select' with nulls\n",
    "leads=leads.replace('Select',np.nan)\n",
    "leads.head()"
   ]
  },
  {
   "cell_type": "markdown",
   "id": "62d0f4d8",
   "metadata": {},
   "source": [
    "### Step 3: Data Cleaning and EDA"
   ]
  },
  {
   "cell_type": "code",
   "execution_count": 10,
   "id": "085c1694",
   "metadata": {},
   "outputs": [
    {
     "data": {
      "text/plain": [
       "Lead Number                                       0.00\n",
       "Lead Origin                                       0.00\n",
       "Lead Source                                       0.39\n",
       "Do Not Email                                      0.00\n",
       "Do Not Call                                       0.00\n",
       "Converted                                         0.00\n",
       "TotalVisits                                       1.48\n",
       "Total Time Spent on Website                       0.00\n",
       "Page Views Per Visit                              1.48\n",
       "Last Activity                                     1.11\n",
       "Country                                          26.63\n",
       "Specialization                                   36.58\n",
       "How did you hear about X Education               78.46\n",
       "What is your current occupation                  29.11\n",
       "What matters most to you in choosing a course    29.32\n",
       "Search                                            0.00\n",
       "Magazine                                          0.00\n",
       "Newspaper Article                                 0.00\n",
       "X Education Forums                                0.00\n",
       "Newspaper                                         0.00\n",
       "Digital Advertisement                             0.00\n",
       "Through Recommendations                           0.00\n",
       "Receive More Updates About Our Courses            0.00\n",
       "Tags                                             36.29\n",
       "Lead Quality                                     51.59\n",
       "Update me on Supply Chain Content                 0.00\n",
       "Get updates on DM Content                         0.00\n",
       "Lead Profile                                     74.19\n",
       "City                                             39.71\n",
       "Asymmetrique Activity Index                      45.65\n",
       "Asymmetrique Profile Index                       45.65\n",
       "Asymmetrique Activity Score                      45.65\n",
       "Asymmetrique Profile Score                       45.65\n",
       "I agree to pay the amount through cheque          0.00\n",
       "A free copy of Mastering The Interview            0.00\n",
       "Last Notable Activity                             0.00\n",
       "dtype: float64"
      ]
     },
     "execution_count": 10,
     "metadata": {},
     "output_type": "execute_result"
    }
   ],
   "source": [
    "# again checking the null values after replacing 'Select' with null values\n",
    "round(leads.isnull().sum()/len(leads)*100,2)"
   ]
  },
  {
   "cell_type": "code",
   "execution_count": 11,
   "id": "6f9c6b8c",
   "metadata": {},
   "outputs": [],
   "source": [
    "# dropping columns having null values > 45%\n",
    "leads.drop(['How did you hear about X Education','Lead Quality','Lead Profile','Asymmetrique Activity Index','Asymmetrique Profile Index','Asymmetrique Activity Score','Asymmetrique Profile Score'],axis=1,inplace=True)"
   ]
  },
  {
   "cell_type": "code",
   "execution_count": 12,
   "id": "9e76772b",
   "metadata": {},
   "outputs": [
    {
     "data": {
      "text/html": [
       "<div>\n",
       "<style scoped>\n",
       "    .dataframe tbody tr th:only-of-type {\n",
       "        vertical-align: middle;\n",
       "    }\n",
       "\n",
       "    .dataframe tbody tr th {\n",
       "        vertical-align: top;\n",
       "    }\n",
       "\n",
       "    .dataframe thead th {\n",
       "        text-align: right;\n",
       "    }\n",
       "</style>\n",
       "<table border=\"1\" class=\"dataframe\">\n",
       "  <thead>\n",
       "    <tr style=\"text-align: right;\">\n",
       "      <th></th>\n",
       "      <th>Lead Number</th>\n",
       "      <th>Lead Origin</th>\n",
       "      <th>Lead Source</th>\n",
       "      <th>Do Not Email</th>\n",
       "      <th>Do Not Call</th>\n",
       "      <th>Converted</th>\n",
       "      <th>TotalVisits</th>\n",
       "      <th>Total Time Spent on Website</th>\n",
       "      <th>Page Views Per Visit</th>\n",
       "      <th>Last Activity</th>\n",
       "      <th>...</th>\n",
       "      <th>Digital Advertisement</th>\n",
       "      <th>Through Recommendations</th>\n",
       "      <th>Receive More Updates About Our Courses</th>\n",
       "      <th>Tags</th>\n",
       "      <th>Update me on Supply Chain Content</th>\n",
       "      <th>Get updates on DM Content</th>\n",
       "      <th>City</th>\n",
       "      <th>I agree to pay the amount through cheque</th>\n",
       "      <th>A free copy of Mastering The Interview</th>\n",
       "      <th>Last Notable Activity</th>\n",
       "    </tr>\n",
       "  </thead>\n",
       "  <tbody>\n",
       "    <tr>\n",
       "      <th>0</th>\n",
       "      <td>660737</td>\n",
       "      <td>API</td>\n",
       "      <td>Olark Chat</td>\n",
       "      <td>No</td>\n",
       "      <td>No</td>\n",
       "      <td>0</td>\n",
       "      <td>0.0</td>\n",
       "      <td>0</td>\n",
       "      <td>0.0</td>\n",
       "      <td>Page Visited on Website</td>\n",
       "      <td>...</td>\n",
       "      <td>No</td>\n",
       "      <td>No</td>\n",
       "      <td>No</td>\n",
       "      <td>Interested in other courses</td>\n",
       "      <td>No</td>\n",
       "      <td>No</td>\n",
       "      <td>NaN</td>\n",
       "      <td>No</td>\n",
       "      <td>No</td>\n",
       "      <td>Modified</td>\n",
       "    </tr>\n",
       "    <tr>\n",
       "      <th>1</th>\n",
       "      <td>660728</td>\n",
       "      <td>API</td>\n",
       "      <td>Organic Search</td>\n",
       "      <td>No</td>\n",
       "      <td>No</td>\n",
       "      <td>0</td>\n",
       "      <td>5.0</td>\n",
       "      <td>674</td>\n",
       "      <td>2.5</td>\n",
       "      <td>Email Opened</td>\n",
       "      <td>...</td>\n",
       "      <td>No</td>\n",
       "      <td>No</td>\n",
       "      <td>No</td>\n",
       "      <td>Ringing</td>\n",
       "      <td>No</td>\n",
       "      <td>No</td>\n",
       "      <td>NaN</td>\n",
       "      <td>No</td>\n",
       "      <td>No</td>\n",
       "      <td>Email Opened</td>\n",
       "    </tr>\n",
       "    <tr>\n",
       "      <th>2</th>\n",
       "      <td>660727</td>\n",
       "      <td>Landing Page Submission</td>\n",
       "      <td>Direct Traffic</td>\n",
       "      <td>No</td>\n",
       "      <td>No</td>\n",
       "      <td>1</td>\n",
       "      <td>2.0</td>\n",
       "      <td>1532</td>\n",
       "      <td>2.0</td>\n",
       "      <td>Email Opened</td>\n",
       "      <td>...</td>\n",
       "      <td>No</td>\n",
       "      <td>No</td>\n",
       "      <td>No</td>\n",
       "      <td>Will revert after reading the email</td>\n",
       "      <td>No</td>\n",
       "      <td>No</td>\n",
       "      <td>Mumbai</td>\n",
       "      <td>No</td>\n",
       "      <td>Yes</td>\n",
       "      <td>Email Opened</td>\n",
       "    </tr>\n",
       "    <tr>\n",
       "      <th>3</th>\n",
       "      <td>660719</td>\n",
       "      <td>Landing Page Submission</td>\n",
       "      <td>Direct Traffic</td>\n",
       "      <td>No</td>\n",
       "      <td>No</td>\n",
       "      <td>0</td>\n",
       "      <td>1.0</td>\n",
       "      <td>305</td>\n",
       "      <td>1.0</td>\n",
       "      <td>Unreachable</td>\n",
       "      <td>...</td>\n",
       "      <td>No</td>\n",
       "      <td>No</td>\n",
       "      <td>No</td>\n",
       "      <td>Ringing</td>\n",
       "      <td>No</td>\n",
       "      <td>No</td>\n",
       "      <td>Mumbai</td>\n",
       "      <td>No</td>\n",
       "      <td>No</td>\n",
       "      <td>Modified</td>\n",
       "    </tr>\n",
       "    <tr>\n",
       "      <th>4</th>\n",
       "      <td>660681</td>\n",
       "      <td>Landing Page Submission</td>\n",
       "      <td>Google</td>\n",
       "      <td>No</td>\n",
       "      <td>No</td>\n",
       "      <td>1</td>\n",
       "      <td>2.0</td>\n",
       "      <td>1428</td>\n",
       "      <td>1.0</td>\n",
       "      <td>Converted to Lead</td>\n",
       "      <td>...</td>\n",
       "      <td>No</td>\n",
       "      <td>No</td>\n",
       "      <td>No</td>\n",
       "      <td>Will revert after reading the email</td>\n",
       "      <td>No</td>\n",
       "      <td>No</td>\n",
       "      <td>Mumbai</td>\n",
       "      <td>No</td>\n",
       "      <td>No</td>\n",
       "      <td>Modified</td>\n",
       "    </tr>\n",
       "  </tbody>\n",
       "</table>\n",
       "<p>5 rows × 29 columns</p>\n",
       "</div>"
      ],
      "text/plain": [
       "   Lead Number              Lead Origin     Lead Source Do Not Email  \\\n",
       "0       660737                      API      Olark Chat           No   \n",
       "1       660728                      API  Organic Search           No   \n",
       "2       660727  Landing Page Submission  Direct Traffic           No   \n",
       "3       660719  Landing Page Submission  Direct Traffic           No   \n",
       "4       660681  Landing Page Submission          Google           No   \n",
       "\n",
       "  Do Not Call  Converted  TotalVisits  Total Time Spent on Website  \\\n",
       "0          No          0          0.0                            0   \n",
       "1          No          0          5.0                          674   \n",
       "2          No          1          2.0                         1532   \n",
       "3          No          0          1.0                          305   \n",
       "4          No          1          2.0                         1428   \n",
       "\n",
       "   Page Views Per Visit            Last Activity  ... Digital Advertisement  \\\n",
       "0                   0.0  Page Visited on Website  ...                    No   \n",
       "1                   2.5             Email Opened  ...                    No   \n",
       "2                   2.0             Email Opened  ...                    No   \n",
       "3                   1.0              Unreachable  ...                    No   \n",
       "4                   1.0        Converted to Lead  ...                    No   \n",
       "\n",
       "  Through Recommendations Receive More Updates About Our Courses  \\\n",
       "0                      No                                     No   \n",
       "1                      No                                     No   \n",
       "2                      No                                     No   \n",
       "3                      No                                     No   \n",
       "4                      No                                     No   \n",
       "\n",
       "                                  Tags Update me on Supply Chain Content  \\\n",
       "0          Interested in other courses                                No   \n",
       "1                              Ringing                                No   \n",
       "2  Will revert after reading the email                                No   \n",
       "3                              Ringing                                No   \n",
       "4  Will revert after reading the email                                No   \n",
       "\n",
       "  Get updates on DM Content    City I agree to pay the amount through cheque  \\\n",
       "0                        No     NaN                                       No   \n",
       "1                        No     NaN                                       No   \n",
       "2                        No  Mumbai                                       No   \n",
       "3                        No  Mumbai                                       No   \n",
       "4                        No  Mumbai                                       No   \n",
       "\n",
       "  A free copy of Mastering The Interview Last Notable Activity  \n",
       "0                                     No              Modified  \n",
       "1                                     No          Email Opened  \n",
       "2                                    Yes          Email Opened  \n",
       "3                                     No              Modified  \n",
       "4                                     No              Modified  \n",
       "\n",
       "[5 rows x 29 columns]"
      ]
     },
     "execution_count": 12,
     "metadata": {},
     "output_type": "execute_result"
    }
   ],
   "source": [
    "leads.head()"
   ]
  },
  {
   "cell_type": "markdown",
   "id": "cde62b8e",
   "metadata": {},
   "source": [
    "#### Imputing null values"
   ]
  },
  {
   "cell_type": "code",
   "execution_count": 13,
   "id": "2ce8703f",
   "metadata": {},
   "outputs": [
    {
     "data": {
      "text/plain": [
       "0"
      ]
     },
     "execution_count": 13,
     "metadata": {},
     "output_type": "execute_result"
    }
   ],
   "source": [
    "# 1. imputing 'TotalVisits' with median value\n",
    "leads['TotalVisits']=leads['TotalVisits'].fillna(leads['TotalVisits'].median())\n",
    "leads['TotalVisits'].isnull().sum()"
   ]
  },
  {
   "cell_type": "code",
   "execution_count": 14,
   "id": "7f1a1168",
   "metadata": {},
   "outputs": [
    {
     "data": {
      "text/plain": [
       "0"
      ]
     },
     "execution_count": 14,
     "metadata": {},
     "output_type": "execute_result"
    }
   ],
   "source": [
    "# 2. imputing 'Page Views Per Visit' with median value\n",
    "leads['Page Views Per Visit']=leads['Page Views Per Visit'].fillna(leads['Page Views Per Visit'].median())\n",
    "leads['Page Views Per Visit'].isnull().sum()"
   ]
  },
  {
   "cell_type": "code",
   "execution_count": 15,
   "id": "95347f1a",
   "metadata": {},
   "outputs": [
    {
     "data": {
      "image/png": "[encoded data removed]",
      "text/plain": [
       "<Figure size 1440x360 with 3 Axes>"
      ]
     },
     "metadata": {
      "needs_background": "light"
     },
     "output_type": "display_data"
    }
   ],
   "source": [
    "# There are outliers present in 'TotalVisits' and 'Page Views Per Visit' so checking the same\n",
    "plt.figure(figsize=(20,5))\n",
    "plt.subplot(1,3,1)\n",
    "sns.boxplot(data=leads,y='TotalVisits')\n",
    "plt.subplot(1,3,2)\n",
    "sns.boxplot(data=leads,y='Total Time Spent on Website')\n",
    "plt.subplot(1,3,3)\n",
    "sns.boxplot(data=leads,y='Page Views Per Visit')\n",
    "plt.show()"
   ]
  },
  {
   "cell_type": "code",
   "execution_count": 16,
   "id": "f047af04",
   "metadata": {},
   "outputs": [
    {
     "data": {
      "text/plain": [
       "10.0"
      ]
     },
     "execution_count": 16,
     "metadata": {},
     "output_type": "execute_result"
    }
   ],
   "source": [
    "np.percentile(leads['TotalVisits'], 95)"
   ]
  },
  {
   "cell_type": "code",
   "execution_count": 17,
   "id": "c6c689af",
   "metadata": {},
   "outputs": [
    {
     "data": {
      "text/plain": [
       "(8773, 29)"
      ]
     },
     "execution_count": 17,
     "metadata": {},
     "output_type": "execute_result"
    }
   ],
   "source": [
    "leads=leads.loc[leads['TotalVisits']<10.0,:]\n",
    "leads.shape"
   ]
  },
  {
   "cell_type": "code",
   "execution_count": 18,
   "id": "47a95817",
   "metadata": {},
   "outputs": [
    {
     "data": {
      "image/png": "[encoded data removed]",
      "text/plain": [
       "<Figure size 1440x360 with 3 Axes>"
      ]
     },
     "metadata": {
      "needs_background": "light"
     },
     "output_type": "display_data"
    }
   ],
   "source": [
    "plt.figure(figsize=(20,5))\n",
    "plt.subplot(1,3,1)\n",
    "sns.boxplot(data=leads,y='TotalVisits')\n",
    "plt.subplot(1,3,2)\n",
    "sns.boxplot(data=leads,y='Total Time Spent on Website')\n",
    "plt.subplot(1,3,3)\n",
    "sns.boxplot(data=leads,y='Page Views Per Visit')\n",
    "plt.show()"
   ]
  },
  {
   "cell_type": "markdown",
   "id": "d611da92",
   "metadata": {},
   "source": [
    "Still few outliers are present in variables 'TotalVisits' and 'Page Views Per Visit' but we are ok with them."
   ]
  },
  {
   "cell_type": "code",
   "execution_count": 19,
   "id": "6426150c",
   "metadata": {},
   "outputs": [
    {
     "data": {
      "text/plain": [
       "Lead Number                                       0.000000\n",
       "Lead Origin                                       0.000000\n",
       "Lead Source                                       0.410350\n",
       "Do Not Email                                      0.000000\n",
       "Do Not Call                                       0.000000\n",
       "Converted                                         0.000000\n",
       "TotalVisits                                       0.000000\n",
       "Total Time Spent on Website                       0.000000\n",
       "Page Views Per Visit                              0.000000\n",
       "Last Activity                                     1.174057\n",
       "Country                                          27.972187\n",
       "Specialization                                   37.661005\n",
       "What is your current occupation                  29.340021\n",
       "What matters most to you in choosing a course    29.545195\n",
       "Search                                            0.000000\n",
       "Magazine                                          0.000000\n",
       "Newspaper Article                                 0.000000\n",
       "X Education Forums                                0.000000\n",
       "Newspaper                                         0.000000\n",
       "Digital Advertisement                             0.000000\n",
       "Through Recommendations                           0.000000\n",
       "Receive More Updates About Our Courses            0.000000\n",
       "Tags                                             36.543942\n",
       "Update me on Supply Chain Content                 0.000000\n",
       "Get updates on DM Content                         0.000000\n",
       "City                                             40.886812\n",
       "I agree to pay the amount through cheque          0.000000\n",
       "A free copy of Mastering The Interview            0.000000\n",
       "Last Notable Activity                             0.000000\n",
       "dtype: float64"
      ]
     },
     "execution_count": 19,
     "metadata": {},
     "output_type": "execute_result"
    }
   ],
   "source": [
    "leads.isnull().sum()/len(leads)*100"
   ]
  },
  {
   "cell_type": "code",
   "execution_count": 20,
   "id": "952bb39f",
   "metadata": {},
   "outputs": [
    {
     "data": {
      "text/plain": [
       "Google               2742\n",
       "Direct Traffic       2391\n",
       "Olark Chat           1739\n",
       "Organic Search       1006\n",
       "Reference             532\n",
       "Welingak Website      141\n",
       "Referral Sites        105\n",
       "Facebook               55\n",
       "bing                    6\n",
       "google                  5\n",
       "Click2call              3\n",
       "Social Media            2\n",
       "Live Chat               2\n",
       "youtubechannel          1\n",
       "Press_Release           1\n",
       "testone                 1\n",
       "Pay per Click Ads       1\n",
       "welearnblog_Home        1\n",
       "WeLearn                 1\n",
       "blog                    1\n",
       "NC_EDM                  1\n",
       "Name: Lead Source, dtype: int64"
      ]
     },
     "execution_count": 20,
     "metadata": {},
     "output_type": "execute_result"
    }
   ],
   "source": [
    "leads['Lead Source'].value_counts()"
   ]
  },
  {
   "cell_type": "code",
   "execution_count": 21,
   "id": "2b91d418",
   "metadata": {},
   "outputs": [
    {
     "data": {
      "text/plain": [
       "0"
      ]
     },
     "execution_count": 21,
     "metadata": {},
     "output_type": "execute_result"
    }
   ],
   "source": [
    "# 3. imputing the null value in lead source with mode \n",
    "leads['Lead Source']=leads['Lead Source'].fillna(leads['Lead Source'].mode()[0])\n",
    "leads['Lead Source'].isnull().sum()"
   ]
  },
  {
   "cell_type": "code",
   "execution_count": 22,
   "id": "e4115046",
   "metadata": {},
   "outputs": [
    {
     "data": {
      "text/plain": [
       "Google               2783\n",
       "Direct Traffic       2391\n",
       "Olark Chat           1739\n",
       "Organic Search       1006\n",
       "Reference             532\n",
       "Welingak Website      141\n",
       "Referral Sites        105\n",
       "Facebook               55\n",
       "bing                    6\n",
       "Click2call              3\n",
       "Social Media            2\n",
       "Live Chat               2\n",
       "Pay per Click Ads       1\n",
       "blog                    1\n",
       "WeLearn                 1\n",
       "welearnblog_Home        1\n",
       "youtubechannel          1\n",
       "testone                 1\n",
       "Press_Release           1\n",
       "NC_EDM                  1\n",
       "Name: Lead Source, dtype: int64"
      ]
     },
     "execution_count": 22,
     "metadata": {},
     "output_type": "execute_result"
    }
   ],
   "source": [
    "# replacing 'google' with 'Google' as both are same\n",
    "leads['Lead Source']=leads['Lead Source'].replace('google','Google')\n",
    "leads['Lead Source'].value_counts()"
   ]
  },
  {
   "cell_type": "code",
   "execution_count": 23,
   "id": "926f693e",
   "metadata": {},
   "outputs": [
    {
     "data": {
      "text/plain": [
       "0"
      ]
     },
     "execution_count": 23,
     "metadata": {},
     "output_type": "execute_result"
    }
   ],
   "source": [
    "# 4. imputing 'Last Activity' with mode \n",
    "leads['Last Activity']=leads['Last Activity'].fillna(leads['Last Activity'].mode()[0])\n",
    "leads['Last Activity'].isnull().sum()"
   ]
  },
  {
   "cell_type": "code",
   "execution_count": 24,
   "id": "4a45ee14",
   "metadata": {},
   "outputs": [
    {
     "data": {
      "text/plain": [
       "0"
      ]
     },
     "execution_count": 24,
     "metadata": {},
     "output_type": "execute_result"
    }
   ],
   "source": [
    "# 5. imputing 'Country' with mode\n",
    "leads['Country']=leads['Country'].fillna(leads['Country'].mode()[0])\n",
    "leads['Country'].isnull().sum()"
   ]
  },
  {
   "cell_type": "code",
   "execution_count": 25,
   "id": "a7bf6c1a",
   "metadata": {},
   "outputs": [
    {
     "data": {
      "text/plain": [
       "0"
      ]
     },
     "execution_count": 25,
     "metadata": {},
     "output_type": "execute_result"
    }
   ],
   "source": [
    "# 6. imputing 'Specialization':It consists of 36 % of null values so we will create new category named as Not Selected for nulls\n",
    "leads['Specialization']=leads['Specialization'].fillna('Not Selected')\n",
    "leads['Specialization'].isnull().sum()"
   ]
  },
  {
   "cell_type": "code",
   "execution_count": 26,
   "id": "d89cb825",
   "metadata": {},
   "outputs": [
    {
     "data": {
      "text/plain": [
       "Not Selected                         3304\n",
       "Finance Management                    921\n",
       "Marketing Management                  803\n",
       "Human Resource Management             791\n",
       "Operations Management                 476\n",
       "Business Administration               375\n",
       "IT Projects Management                348\n",
       "Supply Chain Management               323\n",
       "Banking, Investment And Insurance     312\n",
       "Media and Advertising                 186\n",
       "Travel and Tourism                    173\n",
       "International Business                167\n",
       "Healthcare Management                 142\n",
       "Hospitality Management                105\n",
       "E-COMMERCE                            103\n",
       "Retail Management                      91\n",
       "Rural and Agribusiness                 64\n",
       "E-Business                             55\n",
       "Services Excellence                    34\n",
       "Name: Specialization, dtype: int64"
      ]
     },
     "execution_count": 26,
     "metadata": {},
     "output_type": "execute_result"
    }
   ],
   "source": [
    "leads['Specialization'].value_counts()"
   ]
  },
  {
   "cell_type": "code",
   "execution_count": 27,
   "id": "9aada336",
   "metadata": {},
   "outputs": [
    {
     "data": {
      "text/plain": [
       "Management_Specialization            4000\n",
       "Not Selected                         3304\n",
       "Business Administration               375\n",
       "Banking, Investment And Insurance     312\n",
       "Media and Advertising                 186\n",
       "Travel and Tourism                    173\n",
       "International Business                167\n",
       "E-COMMERCE                            103\n",
       "Rural and Agribusiness                 64\n",
       "E-Business                             55\n",
       "Services Excellence                    34\n",
       "Name: Specialization, dtype: int64"
      ]
     },
     "execution_count": 27,
     "metadata": {},
     "output_type": "execute_result"
    }
   ],
   "source": [
    "# Combining all Management specialization in a single category named 'Management_Specialization'\n",
    "leads['Specialization']=leads['Specialization'].replace(['Finance Management','Human Resource Management','Marketing Management','Operations Management','IT Projects Management','Supply Chain Management','Healthcare Management','Hospitality Management','Retail Management'],'Management_Specialization')\n",
    "leads['Specialization'].value_counts()"
   ]
  },
  {
   "cell_type": "code",
   "execution_count": 28,
   "id": "a42f133b",
   "metadata": {},
   "outputs": [
    {
     "data": {
      "text/plain": [
       "0"
      ]
     },
     "execution_count": 28,
     "metadata": {},
     "output_type": "execute_result"
    }
   ],
   "source": [
    "# 7. imputing 'What is your current occupation' with mode\n",
    "leads['What is your current occupation']=leads['What is your current occupation'].fillna(leads['What is your current occupation'].mode()[0])\n",
    "leads['What is your current occupation'].isnull().sum()"
   ]
  },
  {
   "cell_type": "code",
   "execution_count": 29,
   "id": "b31e1f70",
   "metadata": {},
   "outputs": [
    {
     "data": {
      "text/plain": [
       "Unemployed              7875\n",
       "Working Professional     666\n",
       "Student                  203\n",
       "Other                     13\n",
       "Housewife                 10\n",
       "Businessman                6\n",
       "Name: What is your current occupation, dtype: int64"
      ]
     },
     "execution_count": 29,
     "metadata": {},
     "output_type": "execute_result"
    }
   ],
   "source": [
    "leads['What is your current occupation'].value_counts()"
   ]
  },
  {
   "cell_type": "code",
   "execution_count": 30,
   "id": "371281b8",
   "metadata": {},
   "outputs": [
    {
     "data": {
      "text/plain": [
       "Unemployed              7898\n",
       "Working Professional     666\n",
       "Student                  203\n",
       "Businessman                6\n",
       "Name: What is your current occupation, dtype: int64"
      ]
     },
     "execution_count": 30,
     "metadata": {},
     "output_type": "execute_result"
    }
   ],
   "source": [
    "# We can combine 'Other' and 'Housewife' with 'Unemployed' category \n",
    "leads['What is your current occupation']=leads['What is your current occupation'].replace(['Other','Housewife'],'Unemployed')\n",
    "leads['What is your current occupation'].value_counts()"
   ]
  },
  {
   "cell_type": "code",
   "execution_count": 31,
   "id": "8c22d177",
   "metadata": {},
   "outputs": [
    {
     "data": {
      "text/plain": [
       "0"
      ]
     },
     "execution_count": 31,
     "metadata": {},
     "output_type": "execute_result"
    }
   ],
   "source": [
    "# 8. imputing 'What matters most to you in choosing a course' with mode i.e 'Better Career Prospects'\n",
    "leads['What matters most to you in choosing a course']=leads['What matters most to you in choosing a course'].fillna(leads['What matters most to you in choosing a course'].mode()[0])\n",
    "leads['What matters most to you in choosing a course'].isnull().sum()"
   ]
  },
  {
   "cell_type": "code",
   "execution_count": 32,
   "id": "0f527420",
   "metadata": {},
   "outputs": [
    {
     "data": {
      "text/plain": [
       "Others                                               3206\n",
       "Will revert after reading the email                  1960\n",
       "Ringing                                              1139\n",
       "Not Responding                                        559\n",
       "Interested in other courses                           485\n",
       "Already a student                                     450\n",
       "Closed by Horizzon                                    320\n",
       "Lost to EINS                                          164\n",
       "Not doing further education                           134\n",
       "Interested  in full time MBA                          114\n",
       "Graduation in progress                                106\n",
       "Diploma holder (Not Eligible)                          61\n",
       "number not provided                                    27\n",
       "in touch with EINS                                     12\n",
       "Lost to Others                                          7\n",
       "Still Thinking                                          6\n",
       "In confusion whether part time or DLP                   5\n",
       "Interested in Next batch                                5\n",
       "Want to take admission but has financial problems       5\n",
       "Lateral student                                         3\n",
       "Shall take in the next coming month                     2\n",
       "University not recognized                               2\n",
       "Recognition issue (DEC approval)                        1\n",
       "Name: Tags, dtype: int64"
      ]
     },
     "execution_count": 32,
     "metadata": {},
     "output_type": "execute_result"
    }
   ],
   "source": [
    "# 9. Imputing 'Tags': 36% values are null so we will create separate category as 'Others' for them and combine 'switched off','Busy',\n",
    "# 'invalid number', 'wrong number given', 'opp hangup' in single category as 'Not Responding'\n",
    "leads['Tags']=leads['Tags'].fillna('Others')\n",
    "leads['Tags']=leads['Tags'].replace(['switched off','Busy','invalid number', 'wrong number given', 'opp hangup'],'Not Responding')\n",
    "leads['Tags'].value_counts()"
   ]
  },
  {
   "cell_type": "code",
   "execution_count": 33,
   "id": "42f06a82",
   "metadata": {},
   "outputs": [
    {
     "data": {
      "text/plain": [
       "0"
      ]
     },
     "execution_count": 33,
     "metadata": {},
     "output_type": "execute_result"
    }
   ],
   "source": [
    "# 10. Imputing 'City': 41% values are null so creating a separate category as 'Not Specified' for them\n",
    "leads['City']=leads['City'].fillna('Not Specified')\n",
    "leads['City'].isnull().sum()"
   ]
  },
  {
   "cell_type": "code",
   "execution_count": 34,
   "id": "8edf6ec7",
   "metadata": {},
   "outputs": [
    {
     "data": {
      "text/plain": [
       "Lead Number                                      0.0\n",
       "Lead Origin                                      0.0\n",
       "Lead Source                                      0.0\n",
       "Do Not Email                                     0.0\n",
       "Do Not Call                                      0.0\n",
       "Converted                                        0.0\n",
       "TotalVisits                                      0.0\n",
       "Total Time Spent on Website                      0.0\n",
       "Page Views Per Visit                             0.0\n",
       "Last Activity                                    0.0\n",
       "Country                                          0.0\n",
       "Specialization                                   0.0\n",
       "What is your current occupation                  0.0\n",
       "What matters most to you in choosing a course    0.0\n",
       "Search                                           0.0\n",
       "Magazine                                         0.0\n",
       "Newspaper Article                                0.0\n",
       "X Education Forums                               0.0\n",
       "Newspaper                                        0.0\n",
       "Digital Advertisement                            0.0\n",
       "Through Recommendations                          0.0\n",
       "Receive More Updates About Our Courses           0.0\n",
       "Tags                                             0.0\n",
       "Update me on Supply Chain Content                0.0\n",
       "Get updates on DM Content                        0.0\n",
       "City                                             0.0\n",
       "I agree to pay the amount through cheque         0.0\n",
       "A free copy of Mastering The Interview           0.0\n",
       "Last Notable Activity                            0.0\n",
       "dtype: float64"
      ]
     },
     "execution_count": 34,
     "metadata": {},
     "output_type": "execute_result"
    }
   ],
   "source": [
    "# Now checking the null values after imputation\n",
    "leads.isnull().sum()/len(leads)*100"
   ]
  },
  {
   "cell_type": "markdown",
   "id": "369b2801",
   "metadata": {},
   "source": [
    "#### Checking for data imbalance"
   ]
  },
  {
   "cell_type": "code",
   "execution_count": 35,
   "id": "5bb99e2d",
   "metadata": {},
   "outputs": [
    {
     "data": {
      "text/plain": [
       "Landing Page Submission    0.517953\n",
       "API                        0.394278\n",
       "Lead Add Form              0.081386\n",
       "Lead Import                0.006269\n",
       "Quick Add Form             0.000114\n",
       "Name: Lead Origin, dtype: float64"
      ]
     },
     "execution_count": 35,
     "metadata": {},
     "output_type": "execute_result"
    }
   ],
   "source": [
    "leads['Lead Origin'].value_counts(normalize=True)"
   ]
  },
  {
   "cell_type": "code",
   "execution_count": 36,
   "id": "0a6766f7",
   "metadata": {},
   "outputs": [
    {
     "data": {
      "text/plain": [
       "Google               0.317223\n",
       "Direct Traffic       0.272541\n",
       "Olark Chat           0.198222\n",
       "Organic Search       0.114670\n",
       "Reference            0.060641\n",
       "Welingak Website     0.016072\n",
       "Referral Sites       0.011969\n",
       "Facebook             0.006269\n",
       "bing                 0.000684\n",
       "Click2call           0.000342\n",
       "Social Media         0.000228\n",
       "Live Chat            0.000228\n",
       "Pay per Click Ads    0.000114\n",
       "blog                 0.000114\n",
       "WeLearn              0.000114\n",
       "welearnblog_Home     0.000114\n",
       "youtubechannel       0.000114\n",
       "testone              0.000114\n",
       "Press_Release        0.000114\n",
       "NC_EDM               0.000114\n",
       "Name: Lead Source, dtype: float64"
      ]
     },
     "execution_count": 36,
     "metadata": {},
     "output_type": "execute_result"
    }
   ],
   "source": [
    "leads['Lead Source'].value_counts(normalize=True)"
   ]
  },
  {
   "cell_type": "code",
   "execution_count": 37,
   "id": "dd03fbac",
   "metadata": {},
   "outputs": [
    {
     "data": {
      "text/plain": [
       "No     0.921578\n",
       "Yes    0.078422\n",
       "Name: Do Not Email, dtype: float64"
      ]
     },
     "execution_count": 37,
     "metadata": {},
     "output_type": "execute_result"
    }
   ],
   "source": [
    "leads['Do Not Email'].value_counts(normalize=True)"
   ]
  },
  {
   "cell_type": "code",
   "execution_count": 38,
   "id": "6c03fb4f",
   "metadata": {},
   "outputs": [
    {
     "data": {
      "text/plain": [
       "No     0.999772\n",
       "Yes    0.000228\n",
       "Name: Do Not Call, dtype: float64"
      ]
     },
     "execution_count": 38,
     "metadata": {},
     "output_type": "execute_result"
    }
   ],
   "source": [
    "leads['Do Not Call'].value_counts(normalize=True)"
   ]
  },
  {
   "cell_type": "code",
   "execution_count": 39,
   "id": "fccdc819",
   "metadata": {},
   "outputs": [
    {
     "data": {
      "text/plain": [
       "0    0.6194\n",
       "1    0.3806\n",
       "Name: Converted, dtype: float64"
      ]
     },
     "execution_count": 39,
     "metadata": {},
     "output_type": "execute_result"
    }
   ],
   "source": [
    "leads['Converted'].value_counts(normalize=True)"
   ]
  },
  {
   "cell_type": "code",
   "execution_count": 40,
   "id": "d61a0510",
   "metadata": {},
   "outputs": [
    {
     "data": {
      "text/plain": [
       "Email Opened                    0.384247\n",
       "SMS Sent                        0.299555\n",
       "Olark Chat Conversation         0.108401\n",
       "Page Visited on Website         0.058931\n",
       "Converted to Lead               0.048672\n",
       "Email Bounced                   0.036931\n",
       "Email Link Clicked              0.029066\n",
       "Form Submitted on Website       0.012538\n",
       "Unreachable                     0.010031\n",
       "Unsubscribed                    0.006611\n",
       "Had a Phone Conversation        0.002850\n",
       "Approached upfront              0.001026\n",
       "View in browser link Clicked    0.000456\n",
       "Email Received                  0.000228\n",
       "Email Marked Spam               0.000228\n",
       "Visited Booth in Tradeshow      0.000114\n",
       "Resubscribed to emails          0.000114\n",
       "Name: Last Activity, dtype: float64"
      ]
     },
     "execution_count": 40,
     "metadata": {},
     "output_type": "execute_result"
    }
   ],
   "source": [
    "leads['Last Activity'].value_counts(normalize=True)"
   ]
  },
  {
   "cell_type": "code",
   "execution_count": 41,
   "id": "14f981e8",
   "metadata": {},
   "outputs": [
    {
     "data": {
      "text/plain": [
       "India                   0.968996\n",
       "United States           0.007523\n",
       "United Arab Emirates    0.005699\n",
       "Singapore               0.002622\n",
       "Saudi Arabia            0.002280\n",
       "Australia               0.001482\n",
       "United Kingdom          0.001482\n",
       "Qatar                   0.001140\n",
       "Bahrain                 0.000798\n",
       "Hong Kong               0.000798\n",
       "Oman                    0.000684\n",
       "France                  0.000570\n",
       "Canada                  0.000456\n",
       "unknown                 0.000456\n",
       "Germany                 0.000456\n",
       "Nigeria                 0.000456\n",
       "Kuwait                  0.000456\n",
       "South Africa            0.000342\n",
       "China                   0.000228\n",
       "Sweden                  0.000228\n",
       "Belgium                 0.000228\n",
       "Ghana                   0.000228\n",
       "Asia/Pacific Region     0.000228\n",
       "Uganda                  0.000228\n",
       "Bangladesh              0.000228\n",
       "Italy                   0.000228\n",
       "Philippines             0.000228\n",
       "Liberia                 0.000114\n",
       "Vietnam                 0.000114\n",
       "Denmark                 0.000114\n",
       "Switzerland             0.000114\n",
       "Tanzania                0.000114\n",
       "Netherlands             0.000114\n",
       "Malaysia                0.000114\n",
       "Sri Lanka               0.000114\n",
       "Kenya                   0.000114\n",
       "Russia                  0.000114\n",
       "Indonesia               0.000114\n",
       "Name: Country, dtype: float64"
      ]
     },
     "execution_count": 41,
     "metadata": {},
     "output_type": "execute_result"
    }
   ],
   "source": [
    "leads['Country'].value_counts(normalize=True)"
   ]
  },
  {
   "cell_type": "code",
   "execution_count": 42,
   "id": "4d0f5f6d",
   "metadata": {},
   "outputs": [
    {
     "data": {
      "text/plain": [
       "Management_Specialization            0.455944\n",
       "Not Selected                         0.376610\n",
       "Business Administration              0.042745\n",
       "Banking, Investment And Insurance    0.035564\n",
       "Media and Advertising                0.021201\n",
       "Travel and Tourism                   0.019720\n",
       "International Business               0.019036\n",
       "E-COMMERCE                           0.011741\n",
       "Rural and Agribusiness               0.007295\n",
       "E-Business                           0.006269\n",
       "Services Excellence                  0.003876\n",
       "Name: Specialization, dtype: float64"
      ]
     },
     "execution_count": 42,
     "metadata": {},
     "output_type": "execute_result"
    }
   ],
   "source": [
    "leads['Specialization'].value_counts(normalize=True)"
   ]
  },
  {
   "cell_type": "code",
   "execution_count": 43,
   "id": "2c147abf",
   "metadata": {},
   "outputs": [
    {
     "data": {
      "text/plain": [
       "Unemployed              0.900262\n",
       "Working Professional    0.075915\n",
       "Student                 0.023139\n",
       "Businessman             0.000684\n",
       "Name: What is your current occupation, dtype: float64"
      ]
     },
     "execution_count": 43,
     "metadata": {},
     "output_type": "execute_result"
    }
   ],
   "source": [
    "leads['What is your current occupation'].value_counts(normalize=True)"
   ]
  },
  {
   "cell_type": "code",
   "execution_count": 44,
   "id": "21de7330",
   "metadata": {},
   "outputs": [
    {
     "data": {
      "text/plain": [
       "Better Career Prospects      0.999658\n",
       "Flexibility & Convenience    0.000228\n",
       "Other                        0.000114\n",
       "Name: What matters most to you in choosing a course, dtype: float64"
      ]
     },
     "execution_count": 44,
     "metadata": {},
     "output_type": "execute_result"
    }
   ],
   "source": [
    "leads['What matters most to you in choosing a course'].value_counts(normalize=True)"
   ]
  },
  {
   "cell_type": "code",
   "execution_count": 45,
   "id": "963e931e",
   "metadata": {},
   "outputs": [
    {
     "data": {
      "text/plain": [
       "No     0.999202\n",
       "Yes    0.000798\n",
       "Name: Search, dtype: float64"
      ]
     },
     "execution_count": 45,
     "metadata": {},
     "output_type": "execute_result"
    }
   ],
   "source": [
    "leads['Search'].value_counts(normalize=True)"
   ]
  },
  {
   "cell_type": "code",
   "execution_count": 46,
   "id": "765c34f7",
   "metadata": {},
   "outputs": [
    {
     "data": {
      "text/plain": [
       "No    1.0\n",
       "Name: Magazine, dtype: float64"
      ]
     },
     "execution_count": 46,
     "metadata": {},
     "output_type": "execute_result"
    }
   ],
   "source": [
    "leads['Magazine'].value_counts(normalize=True)"
   ]
  },
  {
   "cell_type": "code",
   "execution_count": 47,
   "id": "ae6c57e6",
   "metadata": {},
   "outputs": [
    {
     "data": {
      "text/plain": [
       "No     0.999886\n",
       "Yes    0.000114\n",
       "Name: Newspaper Article, dtype: float64"
      ]
     },
     "execution_count": 47,
     "metadata": {},
     "output_type": "execute_result"
    }
   ],
   "source": [
    "leads['Newspaper Article'].value_counts(normalize=True)"
   ]
  },
  {
   "cell_type": "code",
   "execution_count": 48,
   "id": "6b2055d8",
   "metadata": {},
   "outputs": [
    {
     "data": {
      "text/plain": [
       "No    1.0\n",
       "Name: X Education Forums, dtype: float64"
      ]
     },
     "execution_count": 48,
     "metadata": {},
     "output_type": "execute_result"
    }
   ],
   "source": [
    "leads['X Education Forums'].value_counts(normalize=True)"
   ]
  },
  {
   "cell_type": "code",
   "execution_count": 49,
   "id": "42273ba9",
   "metadata": {},
   "outputs": [
    {
     "data": {
      "text/plain": [
       "No    1.0\n",
       "Name: Newspaper, dtype: float64"
      ]
     },
     "execution_count": 49,
     "metadata": {},
     "output_type": "execute_result"
    }
   ],
   "source": [
    "leads['Newspaper'].value_counts(normalize=True)"
   ]
  },
  {
   "cell_type": "code",
   "execution_count": 50,
   "id": "c6dd047d",
   "metadata": {},
   "outputs": [
    {
     "data": {
      "text/plain": [
       "No     0.999658\n",
       "Yes    0.000342\n",
       "Name: Digital Advertisement, dtype: float64"
      ]
     },
     "execution_count": 50,
     "metadata": {},
     "output_type": "execute_result"
    }
   ],
   "source": [
    "leads['Digital Advertisement'].value_counts(normalize=True)"
   ]
  },
  {
   "cell_type": "code",
   "execution_count": 51,
   "id": "5f161959",
   "metadata": {},
   "outputs": [
    {
     "data": {
      "text/plain": [
       "No     0.99943\n",
       "Yes    0.00057\n",
       "Name: Through Recommendations, dtype: float64"
      ]
     },
     "execution_count": 51,
     "metadata": {},
     "output_type": "execute_result"
    }
   ],
   "source": [
    "leads['Through Recommendations'].value_counts(normalize=True)"
   ]
  },
  {
   "cell_type": "code",
   "execution_count": 52,
   "id": "d8286e2f",
   "metadata": {},
   "outputs": [
    {
     "data": {
      "text/plain": [
       "No    1.0\n",
       "Name: Receive More Updates About Our Courses, dtype: float64"
      ]
     },
     "execution_count": 52,
     "metadata": {},
     "output_type": "execute_result"
    }
   ],
   "source": [
    "leads['Receive More Updates About Our Courses'].value_counts(normalize=True)"
   ]
  },
  {
   "cell_type": "code",
   "execution_count": 53,
   "id": "4335a8b3",
   "metadata": {},
   "outputs": [
    {
     "data": {
      "text/plain": [
       "Others                                               0.365439\n",
       "Will revert after reading the email                  0.223413\n",
       "Ringing                                              0.129830\n",
       "Not Responding                                       0.063718\n",
       "Interested in other courses                          0.055283\n",
       "Already a student                                    0.051294\n",
       "Closed by Horizzon                                   0.036476\n",
       "Lost to EINS                                         0.018694\n",
       "Not doing further education                          0.015274\n",
       "Interested  in full time MBA                         0.012994\n",
       "Graduation in progress                               0.012083\n",
       "Diploma holder (Not Eligible)                        0.006953\n",
       "number not provided                                  0.003078\n",
       "in touch with EINS                                   0.001368\n",
       "Lost to Others                                       0.000798\n",
       "Still Thinking                                       0.000684\n",
       "In confusion whether part time or DLP                0.000570\n",
       "Interested in Next batch                             0.000570\n",
       "Want to take admission but has financial problems    0.000570\n",
       "Lateral student                                      0.000342\n",
       "Shall take in the next coming month                  0.000228\n",
       "University not recognized                            0.000228\n",
       "Recognition issue (DEC approval)                     0.000114\n",
       "Name: Tags, dtype: float64"
      ]
     },
     "execution_count": 53,
     "metadata": {},
     "output_type": "execute_result"
    }
   ],
   "source": [
    "leads['Tags'].value_counts(normalize=True)"
   ]
  },
  {
   "cell_type": "code",
   "execution_count": 54,
   "id": "7a43dc57",
   "metadata": {},
   "outputs": [
    {
     "data": {
      "text/plain": [
       "No    1.0\n",
       "Name: Update me on Supply Chain Content, dtype: float64"
      ]
     },
     "execution_count": 54,
     "metadata": {},
     "output_type": "execute_result"
    }
   ],
   "source": [
    "leads['Update me on Supply Chain Content'].value_counts(normalize=True)"
   ]
  },
  {
   "cell_type": "code",
   "execution_count": 55,
   "id": "26acb309",
   "metadata": {},
   "outputs": [
    {
     "data": {
      "text/plain": [
       "No    1.0\n",
       "Name: Get updates on DM Content, dtype: float64"
      ]
     },
     "execution_count": 55,
     "metadata": {},
     "output_type": "execute_result"
    }
   ],
   "source": [
    "leads['Get updates on DM Content'].value_counts(normalize=True)"
   ]
  },
  {
   "cell_type": "code",
   "execution_count": 56,
   "id": "f5134746",
   "metadata": {},
   "outputs": [
    {
     "data": {
      "text/plain": [
       "Not Specified                  0.408868\n",
       "Mumbai                         0.341502\n",
       "Thane & Outskirts              0.079106\n",
       "Other Cities                   0.073293\n",
       "Other Cities of Maharashtra    0.049242\n",
       "Other Metro Cities             0.040009\n",
       "Tier II Cities                 0.007979\n",
       "Name: City, dtype: float64"
      ]
     },
     "execution_count": 56,
     "metadata": {},
     "output_type": "execute_result"
    }
   ],
   "source": [
    "leads['City'].value_counts(normalize=True)"
   ]
  },
  {
   "cell_type": "code",
   "execution_count": 57,
   "id": "4ef08816",
   "metadata": {},
   "outputs": [
    {
     "data": {
      "text/plain": [
       "No    1.0\n",
       "Name: I agree to pay the amount through cheque, dtype: float64"
      ]
     },
     "execution_count": 57,
     "metadata": {},
     "output_type": "execute_result"
    }
   ],
   "source": [
    "leads['I agree to pay the amount through cheque'].value_counts(normalize=True)"
   ]
  },
  {
   "cell_type": "code",
   "execution_count": 58,
   "id": "fedc0ae1",
   "metadata": {},
   "outputs": [
    {
     "data": {
      "text/plain": [
       "No     0.699875\n",
       "Yes    0.300125\n",
       "Name: A free copy of Mastering The Interview, dtype: float64"
      ]
     },
     "execution_count": 58,
     "metadata": {},
     "output_type": "execute_result"
    }
   ],
   "source": [
    "leads['A free copy of Mastering The Interview'].value_counts(normalize=True)"
   ]
  },
  {
   "cell_type": "code",
   "execution_count": 59,
   "id": "05a19e2a",
   "metadata": {},
   "outputs": [
    {
     "data": {
      "text/plain": [
       "Modified                        0.374786\n",
       "Email Opened                    0.305483\n",
       "SMS Sent                        0.236977\n",
       "Page Visited on Website         0.026901\n",
       "Olark Chat Conversation         0.019948\n",
       "Email Link Clicked              0.018580\n",
       "Email Bounced                   0.006725\n",
       "Unsubscribed                    0.005129\n",
       "Unreachable                     0.003534\n",
       "Had a Phone Conversation        0.001140\n",
       "Email Marked Spam               0.000228\n",
       "Approached upfront              0.000114\n",
       "Resubscribed to emails          0.000114\n",
       "View in browser link Clicked    0.000114\n",
       "Form Submitted on Website       0.000114\n",
       "Email Received                  0.000114\n",
       "Name: Last Notable Activity, dtype: float64"
      ]
     },
     "execution_count": 59,
     "metadata": {},
     "output_type": "execute_result"
    }
   ],
   "source": [
    "leads['Last Notable Activity'].value_counts(normalize=True)"
   ]
  },
  {
   "cell_type": "markdown",
   "id": "9bfa88cb",
   "metadata": {},
   "source": [
    "We can see from above that there are some variables showing data imbalance, so we will drop them as they don't impart any valuable information.\n",
    "Hence dropping the variables: 'Do Not Call', 'Country', 'What matters most to you in choosing a course', 'Search', 'Magazine', 'Newspaper Article', 'X Education Forums', 'Newspaper', 'Digital Advertisement', 'Through Recommendations', 'Receive More Updates About Our Courses', 'Update me on Supply Chain Content', 'Get updates on DM Content', 'I agree to pay the amount through cheque'  "
   ]
  },
  {
   "cell_type": "code",
   "execution_count": 60,
   "id": "f257e3cc",
   "metadata": {},
   "outputs": [],
   "source": [
    "leads.drop(['Do Not Call', 'Country', 'What matters most to you in choosing a course', 'Search', 'Magazine', \n",
    "            'Newspaper Article', 'X Education Forums', 'Newspaper', 'Digital Advertisement', 'Through Recommendations', \n",
    "            'Receive More Updates About Our Courses', 'Update me on Supply Chain Content', 'Get updates on DM Content', \n",
    "            'I agree to pay the amount through cheque'],axis=1,inplace=True)"
   ]
  },
  {
   "cell_type": "code",
   "execution_count": 61,
   "id": "67e1ee79",
   "metadata": {},
   "outputs": [
    {
     "data": {
      "text/plain": [
       "(8773, 15)"
      ]
     },
     "execution_count": 61,
     "metadata": {},
     "output_type": "execute_result"
    }
   ],
   "source": [
    "# In final dataframe, there are 8773 rows and 15 columns\n",
    "leads.shape"
   ]
  },
  {
   "cell_type": "code",
   "execution_count": 62,
   "id": "686ed3a3",
   "metadata": {},
   "outputs": [
    {
     "data": {
      "text/html": [
       "<div>\n",
       "<style scoped>\n",
       "    .dataframe tbody tr th:only-of-type {\n",
       "        vertical-align: middle;\n",
       "    }\n",
       "\n",
       "    .dataframe tbody tr th {\n",
       "        vertical-align: top;\n",
       "    }\n",
       "\n",
       "    .dataframe thead th {\n",
       "        text-align: right;\n",
       "    }\n",
       "</style>\n",
       "<table border=\"1\" class=\"dataframe\">\n",
       "  <thead>\n",
       "    <tr style=\"text-align: right;\">\n",
       "      <th></th>\n",
       "      <th>Lead Number</th>\n",
       "      <th>Lead Origin</th>\n",
       "      <th>Lead Source</th>\n",
       "      <th>Do Not Email</th>\n",
       "      <th>Converted</th>\n",
       "      <th>TotalVisits</th>\n",
       "      <th>Total Time Spent on Website</th>\n",
       "      <th>Page Views Per Visit</th>\n",
       "      <th>Last Activity</th>\n",
       "      <th>Specialization</th>\n",
       "      <th>What is your current occupation</th>\n",
       "      <th>Tags</th>\n",
       "      <th>City</th>\n",
       "      <th>A free copy of Mastering The Interview</th>\n",
       "      <th>Last Notable Activity</th>\n",
       "    </tr>\n",
       "  </thead>\n",
       "  <tbody>\n",
       "    <tr>\n",
       "      <th>0</th>\n",
       "      <td>660737</td>\n",
       "      <td>API</td>\n",
       "      <td>Olark Chat</td>\n",
       "      <td>No</td>\n",
       "      <td>0</td>\n",
       "      <td>0.0</td>\n",
       "      <td>0</td>\n",
       "      <td>0.0</td>\n",
       "      <td>Page Visited on Website</td>\n",
       "      <td>Not Selected</td>\n",
       "      <td>Unemployed</td>\n",
       "      <td>Interested in other courses</td>\n",
       "      <td>Not Specified</td>\n",
       "      <td>No</td>\n",
       "      <td>Modified</td>\n",
       "    </tr>\n",
       "    <tr>\n",
       "      <th>1</th>\n",
       "      <td>660728</td>\n",
       "      <td>API</td>\n",
       "      <td>Organic Search</td>\n",
       "      <td>No</td>\n",
       "      <td>0</td>\n",
       "      <td>5.0</td>\n",
       "      <td>674</td>\n",
       "      <td>2.5</td>\n",
       "      <td>Email Opened</td>\n",
       "      <td>Not Selected</td>\n",
       "      <td>Unemployed</td>\n",
       "      <td>Ringing</td>\n",
       "      <td>Not Specified</td>\n",
       "      <td>No</td>\n",
       "      <td>Email Opened</td>\n",
       "    </tr>\n",
       "    <tr>\n",
       "      <th>2</th>\n",
       "      <td>660727</td>\n",
       "      <td>Landing Page Submission</td>\n",
       "      <td>Direct Traffic</td>\n",
       "      <td>No</td>\n",
       "      <td>1</td>\n",
       "      <td>2.0</td>\n",
       "      <td>1532</td>\n",
       "      <td>2.0</td>\n",
       "      <td>Email Opened</td>\n",
       "      <td>Business Administration</td>\n",
       "      <td>Student</td>\n",
       "      <td>Will revert after reading the email</td>\n",
       "      <td>Mumbai</td>\n",
       "      <td>Yes</td>\n",
       "      <td>Email Opened</td>\n",
       "    </tr>\n",
       "    <tr>\n",
       "      <th>3</th>\n",
       "      <td>660719</td>\n",
       "      <td>Landing Page Submission</td>\n",
       "      <td>Direct Traffic</td>\n",
       "      <td>No</td>\n",
       "      <td>0</td>\n",
       "      <td>1.0</td>\n",
       "      <td>305</td>\n",
       "      <td>1.0</td>\n",
       "      <td>Unreachable</td>\n",
       "      <td>Media and Advertising</td>\n",
       "      <td>Unemployed</td>\n",
       "      <td>Ringing</td>\n",
       "      <td>Mumbai</td>\n",
       "      <td>No</td>\n",
       "      <td>Modified</td>\n",
       "    </tr>\n",
       "    <tr>\n",
       "      <th>4</th>\n",
       "      <td>660681</td>\n",
       "      <td>Landing Page Submission</td>\n",
       "      <td>Google</td>\n",
       "      <td>No</td>\n",
       "      <td>1</td>\n",
       "      <td>2.0</td>\n",
       "      <td>1428</td>\n",
       "      <td>1.0</td>\n",
       "      <td>Converted to Lead</td>\n",
       "      <td>Not Selected</td>\n",
       "      <td>Unemployed</td>\n",
       "      <td>Will revert after reading the email</td>\n",
       "      <td>Mumbai</td>\n",
       "      <td>No</td>\n",
       "      <td>Modified</td>\n",
       "    </tr>\n",
       "  </tbody>\n",
       "</table>\n",
       "</div>"
      ],
      "text/plain": [
       "   Lead Number              Lead Origin     Lead Source Do Not Email  \\\n",
       "0       660737                      API      Olark Chat           No   \n",
       "1       660728                      API  Organic Search           No   \n",
       "2       660727  Landing Page Submission  Direct Traffic           No   \n",
       "3       660719  Landing Page Submission  Direct Traffic           No   \n",
       "4       660681  Landing Page Submission          Google           No   \n",
       "\n",
       "   Converted  TotalVisits  Total Time Spent on Website  Page Views Per Visit  \\\n",
       "0          0          0.0                            0                   0.0   \n",
       "1          0          5.0                          674                   2.5   \n",
       "2          1          2.0                         1532                   2.0   \n",
       "3          0          1.0                          305                   1.0   \n",
       "4          1          2.0                         1428                   1.0   \n",
       "\n",
       "             Last Activity           Specialization  \\\n",
       "0  Page Visited on Website             Not Selected   \n",
       "1             Email Opened             Not Selected   \n",
       "2             Email Opened  Business Administration   \n",
       "3              Unreachable    Media and Advertising   \n",
       "4        Converted to Lead             Not Selected   \n",
       "\n",
       "  What is your current occupation                                 Tags  \\\n",
       "0                      Unemployed          Interested in other courses   \n",
       "1                      Unemployed                              Ringing   \n",
       "2                         Student  Will revert after reading the email   \n",
       "3                      Unemployed                              Ringing   \n",
       "4                      Unemployed  Will revert after reading the email   \n",
       "\n",
       "            City A free copy of Mastering The Interview Last Notable Activity  \n",
       "0  Not Specified                                     No              Modified  \n",
       "1  Not Specified                                     No          Email Opened  \n",
       "2         Mumbai                                    Yes          Email Opened  \n",
       "3         Mumbai                                     No              Modified  \n",
       "4         Mumbai                                     No              Modified  "
      ]
     },
     "execution_count": 62,
     "metadata": {},
     "output_type": "execute_result"
    }
   ],
   "source": [
    "leads.head()"
   ]
  },
  {
   "cell_type": "code",
   "execution_count": 63,
   "id": "a36d5b1f",
   "metadata": {},
   "outputs": [
    {
     "data": {
      "image/png": "[encoded data removed]",
      "text/plain": [
       "<Figure size 1440x360 with 3 Axes>"
      ]
     },
     "metadata": {
      "needs_background": "light"
     },
     "output_type": "display_data"
    }
   ],
   "source": [
    "# visualizing continuous variables\n",
    "plt.figure(figsize=(20,5))\n",
    "plt.subplot(1,3,1)\n",
    "sns.boxplot(data=leads,y='TotalVisits',x='Converted')\n",
    "plt.subplot(1,3,2)\n",
    "sns.boxplot(data=leads,y='Total Time Spent on Website',x='Converted')\n",
    "plt.subplot(1,3,3)\n",
    "sns.boxplot(data=leads,y='Page Views Per Visit',x='Converted')\n",
    "plt.show()"
   ]
  },
  {
   "cell_type": "markdown",
   "id": "9c030644",
   "metadata": {},
   "source": [
    "Inference: \n",
    "- Median of Total Visits is more for converted ones. People visiting the site more have higher chances of conversion.\n",
    "- People who have converted have spent more time on the website and the median time spent on website is more in case of converted as compared to non-converted. \n",
    "- Median for no. of pages viewed per visit is same for both converted and non-converted"
   ]
  },
  {
   "cell_type": "code",
   "execution_count": 64,
   "id": "ba329f2a",
   "metadata": {},
   "outputs": [
    {
     "data": {
      "image/png": "[encoded data removed]",
      "text/plain": [
       "<Figure size 432x288 with 1 Axes>"
      ]
     },
     "metadata": {
      "needs_background": "light"
     },
     "output_type": "display_data"
    }
   ],
   "source": [
    "# visualizing categorical variables\n",
    "round(leads['Converted'].value_counts(normalize=True)*100,2).plot.bar()\n",
    "plt.show()"
   ]
  },
  {
   "cell_type": "markdown",
   "id": "40465742",
   "metadata": {},
   "source": [
    "Inference: Lead conversion rate is approximately 38 %."
   ]
  },
  {
   "cell_type": "code",
   "execution_count": 65,
   "id": "308f3f4f",
   "metadata": {},
   "outputs": [
    {
     "data": {
      "image/png": "[encoded data removed]",
      "text/plain": [
       "<Figure size 1800x1440 with 4 Axes>"
      ]
     },
     "metadata": {
      "needs_background": "light"
     },
     "output_type": "display_data"
    }
   ],
   "source": [
    "plt.figure(figsize=(25,20))\n",
    "plt.subplot(2,2,1)\n",
    "sns.countplot(data=leads,x='Lead Origin',hue='Converted')\n",
    "plt.subplot(2,2,2)\n",
    "sns.countplot(data=leads,x='Do Not Email',hue='Converted')\n",
    "plt.subplot(2,2,3)\n",
    "sns.countplot(data=leads,x='What is your current occupation',hue='Converted')\n",
    "plt.subplot(2,2,4)\n",
    "sns.countplot(data=leads,x='A free copy of Mastering The Interview',hue='Converted')\n",
    "plt.show()"
   ]
  },
  {
   "cell_type": "markdown",
   "id": "eaeaac66",
   "metadata": {},
   "source": [
    "Inference:\n",
    "- Lead Origin: Lead conversion is highest for Lead Add Form\n",
    "- Do Not Email: Higher conversion is for people responding as 'No'\n",
    "- Working Professionals have higher conversion rate"
   ]
  },
  {
   "cell_type": "code",
   "execution_count": 66,
   "id": "c0a828a6",
   "metadata": {},
   "outputs": [
    {
     "data": {
      "image/png": "[encoded data removed]",
      "text/plain": [
       "<Figure size 1800x720 with 1 Axes>"
      ]
     },
     "metadata": {
      "needs_background": "light"
     },
     "output_type": "display_data"
    }
   ],
   "source": [
    "plt.figure(figsize=(25,10))\n",
    "sns.countplot(data=leads,x='Lead Source',hue='Converted')\n",
    "plt.xticks(rotation=90)\n",
    "plt.show()"
   ]
  },
  {
   "cell_type": "markdown",
   "id": "115cf61d",
   "metadata": {},
   "source": [
    "Lead conversion is higher through Reference, Welingak Website, Google"
   ]
  },
  {
   "cell_type": "code",
   "execution_count": 67,
   "id": "0aca288c",
   "metadata": {},
   "outputs": [
    {
     "data": {
      "image/png": "[encoded data removed]",
      "text/plain": [
       "<Figure size 1800x720 with 1 Axes>"
      ]
     },
     "metadata": {
      "needs_background": "light"
     },
     "output_type": "display_data"
    }
   ],
   "source": [
    "plt.figure(figsize=(25,10))\n",
    "sns.countplot(data=leads,x='Last Activity',hue='Converted')\n",
    "plt.xticks(rotation=90)\n",
    "plt.show()"
   ]
  },
  {
   "cell_type": "markdown",
   "id": "7018a2df",
   "metadata": {},
   "source": [
    "For Last Activity of the customer, conversion rate is higher for those whom SMS has been sent."
   ]
  },
  {
   "cell_type": "code",
   "execution_count": 68,
   "id": "a94ae9dc",
   "metadata": {},
   "outputs": [
    {
     "data": {
      "image/png": "[encoded data removed]",
      "text/plain": [
       "<Figure size 1440x360 with 1 Axes>"
      ]
     },
     "metadata": {
      "needs_background": "light"
     },
     "output_type": "display_data"
    }
   ],
   "source": [
    "plt.figure(figsize=(20,5))\n",
    "sns.countplot(data=leads,x='Specialization',hue='Converted')\n",
    "plt.xticks(rotation=90)\n",
    "plt.show()"
   ]
  },
  {
   "cell_type": "markdown",
   "id": "dc9320b0",
   "metadata": {},
   "source": [
    "Customers working in the field of Banking, Investment & Insurance, Business Administration, Media & Advertising, Management_Specialization seems to have good conversion rate."
   ]
  },
  {
   "cell_type": "code",
   "execution_count": 69,
   "id": "dd5d27f2",
   "metadata": {},
   "outputs": [
    {
     "data": {
      "image/png": "[encoded data removed]",
      "text/plain": [
       "<Figure size 1800x720 with 1 Axes>"
      ]
     },
     "metadata": {
      "needs_background": "light"
     },
     "output_type": "display_data"
    }
   ],
   "source": [
    "plt.figure(figsize=(25,10))\n",
    "sns.countplot(data=leads,x='Tags',hue='Converted')\n",
    "plt.xticks(rotation=90)\n",
    "plt.show()"
   ]
  },
  {
   "cell_type": "markdown",
   "id": "756ddbc1",
   "metadata": {},
   "source": [
    "Tags assigned as Will revert after reading the email, Lost to EINS, Closed by Horizon seems to have higher conversion rates."
   ]
  },
  {
   "cell_type": "code",
   "execution_count": 70,
   "id": "f3b851bf",
   "metadata": {},
   "outputs": [
    {
     "data": {
      "image/png": "[encoded data removed]",
      "text/plain": [
       "<Figure size 1080x576 with 1 Axes>"
      ]
     },
     "metadata": {
      "needs_background": "light"
     },
     "output_type": "display_data"
    }
   ],
   "source": [
    "plt.figure(figsize=(15,8))\n",
    "sns.countplot(data=leads,x='City',hue='Converted')\n",
    "plt.show()"
   ]
  },
  {
   "cell_type": "markdown",
   "id": "b4c5e275",
   "metadata": {},
   "source": [
    "Customers staying in Thane & Outskirts and Other Cities of Maharashtra seems to have good conversion rates."
   ]
  },
  {
   "cell_type": "code",
   "execution_count": 71,
   "id": "a7d0b305",
   "metadata": {},
   "outputs": [
    {
     "data": {
      "image/png": "[encoded data removed]",
      "text/plain": [
       "<Figure size 1080x576 with 1 Axes>"
      ]
     },
     "metadata": {
      "needs_background": "light"
     },
     "output_type": "display_data"
    }
   ],
   "source": [
    "plt.figure(figsize=(15,8))\n",
    "sns.countplot(data=leads,x='Last Notable Activity',hue='Converted')\n",
    "plt.xticks(rotation=90)\n",
    "plt.show()"
   ]
  },
  {
   "cell_type": "markdown",
   "id": "abaab101",
   "metadata": {},
   "source": [
    "Customers whose last notable activity is SMS sent and had a phone conversation seems to have higher conversion rate."
   ]
  },
  {
   "cell_type": "markdown",
   "id": "5c6a4f69",
   "metadata": {},
   "source": [
    "### Step 4: Data Preparation"
   ]
  },
  {
   "cell_type": "code",
   "execution_count": 72,
   "id": "f81f64f9",
   "metadata": {},
   "outputs": [
    {
     "data": {
      "text/html": [
       "<div>\n",
       "<style scoped>\n",
       "    .dataframe tbody tr th:only-of-type {\n",
       "        vertical-align: middle;\n",
       "    }\n",
       "\n",
       "    .dataframe tbody tr th {\n",
       "        vertical-align: top;\n",
       "    }\n",
       "\n",
       "    .dataframe thead th {\n",
       "        text-align: right;\n",
       "    }\n",
       "</style>\n",
       "<table border=\"1\" class=\"dataframe\">\n",
       "  <thead>\n",
       "    <tr style=\"text-align: right;\">\n",
       "      <th></th>\n",
       "      <th>Lead Number</th>\n",
       "      <th>Lead Origin</th>\n",
       "      <th>Lead Source</th>\n",
       "      <th>Do Not Email</th>\n",
       "      <th>Converted</th>\n",
       "      <th>TotalVisits</th>\n",
       "      <th>Total Time Spent on Website</th>\n",
       "      <th>Page Views Per Visit</th>\n",
       "      <th>Last Activity</th>\n",
       "      <th>Specialization</th>\n",
       "      <th>What is your current occupation</th>\n",
       "      <th>Tags</th>\n",
       "      <th>City</th>\n",
       "      <th>A free copy of Mastering The Interview</th>\n",
       "      <th>Last Notable Activity</th>\n",
       "    </tr>\n",
       "  </thead>\n",
       "  <tbody>\n",
       "    <tr>\n",
       "      <th>0</th>\n",
       "      <td>660737</td>\n",
       "      <td>API</td>\n",
       "      <td>Olark Chat</td>\n",
       "      <td>0</td>\n",
       "      <td>0</td>\n",
       "      <td>0.0</td>\n",
       "      <td>0</td>\n",
       "      <td>0.0</td>\n",
       "      <td>Page Visited on Website</td>\n",
       "      <td>Not Selected</td>\n",
       "      <td>Unemployed</td>\n",
       "      <td>Interested in other courses</td>\n",
       "      <td>Not Specified</td>\n",
       "      <td>0</td>\n",
       "      <td>Modified</td>\n",
       "    </tr>\n",
       "    <tr>\n",
       "      <th>1</th>\n",
       "      <td>660728</td>\n",
       "      <td>API</td>\n",
       "      <td>Organic Search</td>\n",
       "      <td>0</td>\n",
       "      <td>0</td>\n",
       "      <td>5.0</td>\n",
       "      <td>674</td>\n",
       "      <td>2.5</td>\n",
       "      <td>Email Opened</td>\n",
       "      <td>Not Selected</td>\n",
       "      <td>Unemployed</td>\n",
       "      <td>Ringing</td>\n",
       "      <td>Not Specified</td>\n",
       "      <td>0</td>\n",
       "      <td>Email Opened</td>\n",
       "    </tr>\n",
       "    <tr>\n",
       "      <th>2</th>\n",
       "      <td>660727</td>\n",
       "      <td>Landing Page Submission</td>\n",
       "      <td>Direct Traffic</td>\n",
       "      <td>0</td>\n",
       "      <td>1</td>\n",
       "      <td>2.0</td>\n",
       "      <td>1532</td>\n",
       "      <td>2.0</td>\n",
       "      <td>Email Opened</td>\n",
       "      <td>Business Administration</td>\n",
       "      <td>Student</td>\n",
       "      <td>Will revert after reading the email</td>\n",
       "      <td>Mumbai</td>\n",
       "      <td>1</td>\n",
       "      <td>Email Opened</td>\n",
       "    </tr>\n",
       "    <tr>\n",
       "      <th>3</th>\n",
       "      <td>660719</td>\n",
       "      <td>Landing Page Submission</td>\n",
       "      <td>Direct Traffic</td>\n",
       "      <td>0</td>\n",
       "      <td>0</td>\n",
       "      <td>1.0</td>\n",
       "      <td>305</td>\n",
       "      <td>1.0</td>\n",
       "      <td>Unreachable</td>\n",
       "      <td>Media and Advertising</td>\n",
       "      <td>Unemployed</td>\n",
       "      <td>Ringing</td>\n",
       "      <td>Mumbai</td>\n",
       "      <td>0</td>\n",
       "      <td>Modified</td>\n",
       "    </tr>\n",
       "    <tr>\n",
       "      <th>4</th>\n",
       "      <td>660681</td>\n",
       "      <td>Landing Page Submission</td>\n",
       "      <td>Google</td>\n",
       "      <td>0</td>\n",
       "      <td>1</td>\n",
       "      <td>2.0</td>\n",
       "      <td>1428</td>\n",
       "      <td>1.0</td>\n",
       "      <td>Converted to Lead</td>\n",
       "      <td>Not Selected</td>\n",
       "      <td>Unemployed</td>\n",
       "      <td>Will revert after reading the email</td>\n",
       "      <td>Mumbai</td>\n",
       "      <td>0</td>\n",
       "      <td>Modified</td>\n",
       "    </tr>\n",
       "  </tbody>\n",
       "</table>\n",
       "</div>"
      ],
      "text/plain": [
       "   Lead Number              Lead Origin     Lead Source  Do Not Email  \\\n",
       "0       660737                      API      Olark Chat             0   \n",
       "1       660728                      API  Organic Search             0   \n",
       "2       660727  Landing Page Submission  Direct Traffic             0   \n",
       "3       660719  Landing Page Submission  Direct Traffic             0   \n",
       "4       660681  Landing Page Submission          Google             0   \n",
       "\n",
       "   Converted  TotalVisits  Total Time Spent on Website  Page Views Per Visit  \\\n",
       "0          0          0.0                            0                   0.0   \n",
       "1          0          5.0                          674                   2.5   \n",
       "2          1          2.0                         1532                   2.0   \n",
       "3          0          1.0                          305                   1.0   \n",
       "4          1          2.0                         1428                   1.0   \n",
       "\n",
       "             Last Activity           Specialization  \\\n",
       "0  Page Visited on Website             Not Selected   \n",
       "1             Email Opened             Not Selected   \n",
       "2             Email Opened  Business Administration   \n",
       "3              Unreachable    Media and Advertising   \n",
       "4        Converted to Lead             Not Selected   \n",
       "\n",
       "  What is your current occupation                                 Tags  \\\n",
       "0                      Unemployed          Interested in other courses   \n",
       "1                      Unemployed                              Ringing   \n",
       "2                         Student  Will revert after reading the email   \n",
       "3                      Unemployed                              Ringing   \n",
       "4                      Unemployed  Will revert after reading the email   \n",
       "\n",
       "            City  A free copy of Mastering The Interview Last Notable Activity  \n",
       "0  Not Specified                                       0              Modified  \n",
       "1  Not Specified                                       0          Email Opened  \n",
       "2         Mumbai                                       1          Email Opened  \n",
       "3         Mumbai                                       0              Modified  \n",
       "4         Mumbai                                       0              Modified  "
      ]
     },
     "execution_count": 72,
     "metadata": {},
     "output_type": "execute_result"
    }
   ],
   "source": [
    "# converting binary variable yes/no to 1/0\n",
    "leads['Do Not Email']=leads['Do Not Email'].map({'Yes':1, 'No':0})\n",
    "leads['A free copy of Mastering The Interview']=leads['A free copy of Mastering The Interview'].map({'Yes':1, 'No':0})\n",
    "leads.head()"
   ]
  },
  {
   "cell_type": "code",
   "execution_count": 73,
   "id": "434421c2",
   "metadata": {},
   "outputs": [
    {
     "data": {
      "text/plain": [
       "(8773, 110)"
      ]
     },
     "execution_count": 73,
     "metadata": {},
     "output_type": "execute_result"
    }
   ],
   "source": [
    "# For categorical variables with multiple levels, create dummy features (one-hot encoded)\n",
    "# Creating a dummy variable for some of the categorical variables and dropping the first one.\n",
    "dummy1 = pd.get_dummies(leads[['Lead Origin','Lead Source','Last Activity','Specialization','What is your current occupation',\n",
    "                              'Tags','City','Last Notable Activity']], drop_first=True)\n",
    "\n",
    "# Adding the results to the master dataframe\n",
    "leads = pd.concat([leads, dummy1], axis=1)\n",
    "leads.shape"
   ]
  },
  {
   "cell_type": "code",
   "execution_count": 74,
   "id": "96784f7e",
   "metadata": {},
   "outputs": [],
   "source": [
    "leads.drop(['Lead Origin','Lead Source','Last Activity','Specialization','What is your current occupation',\n",
    "                              'Tags','City','Last Notable Activity'],axis=1, inplace=True)"
   ]
  },
  {
   "cell_type": "code",
   "execution_count": 75,
   "id": "35ad8537",
   "metadata": {},
   "outputs": [
    {
     "data": {
      "text/html": [
       "<div>\n",
       "<style scoped>\n",
       "    .dataframe tbody tr th:only-of-type {\n",
       "        vertical-align: middle;\n",
       "    }\n",
       "\n",
       "    .dataframe tbody tr th {\n",
       "        vertical-align: top;\n",
       "    }\n",
       "\n",
       "    .dataframe thead th {\n",
       "        text-align: right;\n",
       "    }\n",
       "</style>\n",
       "<table border=\"1\" class=\"dataframe\">\n",
       "  <thead>\n",
       "    <tr style=\"text-align: right;\">\n",
       "      <th></th>\n",
       "      <th>Lead Number</th>\n",
       "      <th>Do Not Email</th>\n",
       "      <th>Converted</th>\n",
       "      <th>TotalVisits</th>\n",
       "      <th>Total Time Spent on Website</th>\n",
       "      <th>Page Views Per Visit</th>\n",
       "      <th>A free copy of Mastering The Interview</th>\n",
       "      <th>Lead Origin_Landing Page Submission</th>\n",
       "      <th>Lead Origin_Lead Add Form</th>\n",
       "      <th>Lead Origin_Lead Import</th>\n",
       "      <th>...</th>\n",
       "      <th>Last Notable Activity_Form Submitted on Website</th>\n",
       "      <th>Last Notable Activity_Had a Phone Conversation</th>\n",
       "      <th>Last Notable Activity_Modified</th>\n",
       "      <th>Last Notable Activity_Olark Chat Conversation</th>\n",
       "      <th>Last Notable Activity_Page Visited on Website</th>\n",
       "      <th>Last Notable Activity_Resubscribed to emails</th>\n",
       "      <th>Last Notable Activity_SMS Sent</th>\n",
       "      <th>Last Notable Activity_Unreachable</th>\n",
       "      <th>Last Notable Activity_Unsubscribed</th>\n",
       "      <th>Last Notable Activity_View in browser link Clicked</th>\n",
       "    </tr>\n",
       "  </thead>\n",
       "  <tbody>\n",
       "    <tr>\n",
       "      <th>0</th>\n",
       "      <td>660737</td>\n",
       "      <td>0</td>\n",
       "      <td>0</td>\n",
       "      <td>0.0</td>\n",
       "      <td>0</td>\n",
       "      <td>0.0</td>\n",
       "      <td>0</td>\n",
       "      <td>0</td>\n",
       "      <td>0</td>\n",
       "      <td>0</td>\n",
       "      <td>...</td>\n",
       "      <td>0</td>\n",
       "      <td>0</td>\n",
       "      <td>1</td>\n",
       "      <td>0</td>\n",
       "      <td>0</td>\n",
       "      <td>0</td>\n",
       "      <td>0</td>\n",
       "      <td>0</td>\n",
       "      <td>0</td>\n",
       "      <td>0</td>\n",
       "    </tr>\n",
       "    <tr>\n",
       "      <th>1</th>\n",
       "      <td>660728</td>\n",
       "      <td>0</td>\n",
       "      <td>0</td>\n",
       "      <td>5.0</td>\n",
       "      <td>674</td>\n",
       "      <td>2.5</td>\n",
       "      <td>0</td>\n",
       "      <td>0</td>\n",
       "      <td>0</td>\n",
       "      <td>0</td>\n",
       "      <td>...</td>\n",
       "      <td>0</td>\n",
       "      <td>0</td>\n",
       "      <td>0</td>\n",
       "      <td>0</td>\n",
       "      <td>0</td>\n",
       "      <td>0</td>\n",
       "      <td>0</td>\n",
       "      <td>0</td>\n",
       "      <td>0</td>\n",
       "      <td>0</td>\n",
       "    </tr>\n",
       "    <tr>\n",
       "      <th>2</th>\n",
       "      <td>660727</td>\n",
       "      <td>0</td>\n",
       "      <td>1</td>\n",
       "      <td>2.0</td>\n",
       "      <td>1532</td>\n",
       "      <td>2.0</td>\n",
       "      <td>1</td>\n",
       "      <td>1</td>\n",
       "      <td>0</td>\n",
       "      <td>0</td>\n",
       "      <td>...</td>\n",
       "      <td>0</td>\n",
       "      <td>0</td>\n",
       "      <td>0</td>\n",
       "      <td>0</td>\n",
       "      <td>0</td>\n",
       "      <td>0</td>\n",
       "      <td>0</td>\n",
       "      <td>0</td>\n",
       "      <td>0</td>\n",
       "      <td>0</td>\n",
       "    </tr>\n",
       "    <tr>\n",
       "      <th>3</th>\n",
       "      <td>660719</td>\n",
       "      <td>0</td>\n",
       "      <td>0</td>\n",
       "      <td>1.0</td>\n",
       "      <td>305</td>\n",
       "      <td>1.0</td>\n",
       "      <td>0</td>\n",
       "      <td>1</td>\n",
       "      <td>0</td>\n",
       "      <td>0</td>\n",
       "      <td>...</td>\n",
       "      <td>0</td>\n",
       "      <td>0</td>\n",
       "      <td>1</td>\n",
       "      <td>0</td>\n",
       "      <td>0</td>\n",
       "      <td>0</td>\n",
       "      <td>0</td>\n",
       "      <td>0</td>\n",
       "      <td>0</td>\n",
       "      <td>0</td>\n",
       "    </tr>\n",
       "    <tr>\n",
       "      <th>4</th>\n",
       "      <td>660681</td>\n",
       "      <td>0</td>\n",
       "      <td>1</td>\n",
       "      <td>2.0</td>\n",
       "      <td>1428</td>\n",
       "      <td>1.0</td>\n",
       "      <td>0</td>\n",
       "      <td>1</td>\n",
       "      <td>0</td>\n",
       "      <td>0</td>\n",
       "      <td>...</td>\n",
       "      <td>0</td>\n",
       "      <td>0</td>\n",
       "      <td>1</td>\n",
       "      <td>0</td>\n",
       "      <td>0</td>\n",
       "      <td>0</td>\n",
       "      <td>0</td>\n",
       "      <td>0</td>\n",
       "      <td>0</td>\n",
       "      <td>0</td>\n",
       "    </tr>\n",
       "  </tbody>\n",
       "</table>\n",
       "<p>5 rows × 102 columns</p>\n",
       "</div>"
      ],
      "text/plain": [
       "   Lead Number  Do Not Email  Converted  TotalVisits  \\\n",
       "0       660737             0          0          0.0   \n",
       "1       660728             0          0          5.0   \n",
       "2       660727             0          1          2.0   \n",
       "3       660719             0          0          1.0   \n",
       "4       660681             0          1          2.0   \n",
       "\n",
       "   Total Time Spent on Website  Page Views Per Visit  \\\n",
       "0                            0                   0.0   \n",
       "1                          674                   2.5   \n",
       "2                         1532                   2.0   \n",
       "3                          305                   1.0   \n",
       "4                         1428                   1.0   \n",
       "\n",
       "   A free copy of Mastering The Interview  \\\n",
       "0                                       0   \n",
       "1                                       0   \n",
       "2                                       1   \n",
       "3                                       0   \n",
       "4                                       0   \n",
       "\n",
       "   Lead Origin_Landing Page Submission  Lead Origin_Lead Add Form  \\\n",
       "0                                    0                          0   \n",
       "1                                    0                          0   \n",
       "2                                    1                          0   \n",
       "3                                    1                          0   \n",
       "4                                    1                          0   \n",
       "\n",
       "   Lead Origin_Lead Import  ...  \\\n",
       "0                        0  ...   \n",
       "1                        0  ...   \n",
       "2                        0  ...   \n",
       "3                        0  ...   \n",
       "4                        0  ...   \n",
       "\n",
       "   Last Notable Activity_Form Submitted on Website  \\\n",
       "0                                                0   \n",
       "1                                                0   \n",
       "2                                                0   \n",
       "3                                                0   \n",
       "4                                                0   \n",
       "\n",
       "   Last Notable Activity_Had a Phone Conversation  \\\n",
       "0                                               0   \n",
       "1                                               0   \n",
       "2                                               0   \n",
       "3                                               0   \n",
       "4                                               0   \n",
       "\n",
       "   Last Notable Activity_Modified  \\\n",
       "0                               1   \n",
       "1                               0   \n",
       "2                               0   \n",
       "3                               1   \n",
       "4                               1   \n",
       "\n",
       "   Last Notable Activity_Olark Chat Conversation  \\\n",
       "0                                              0   \n",
       "1                                              0   \n",
       "2                                              0   \n",
       "3                                              0   \n",
       "4                                              0   \n",
       "\n",
       "   Last Notable Activity_Page Visited on Website  \\\n",
       "0                                              0   \n",
       "1                                              0   \n",
       "2                                              0   \n",
       "3                                              0   \n",
       "4                                              0   \n",
       "\n",
       "   Last Notable Activity_Resubscribed to emails  \\\n",
       "0                                             0   \n",
       "1                                             0   \n",
       "2                                             0   \n",
       "3                                             0   \n",
       "4                                             0   \n",
       "\n",
       "   Last Notable Activity_SMS Sent  Last Notable Activity_Unreachable  \\\n",
       "0                               0                                  0   \n",
       "1                               0                                  0   \n",
       "2                               0                                  0   \n",
       "3                               0                                  0   \n",
       "4                               0                                  0   \n",
       "\n",
       "   Last Notable Activity_Unsubscribed  \\\n",
       "0                                   0   \n",
       "1                                   0   \n",
       "2                                   0   \n",
       "3                                   0   \n",
       "4                                   0   \n",
       "\n",
       "   Last Notable Activity_View in browser link Clicked  \n",
       "0                                                  0   \n",
       "1                                                  0   \n",
       "2                                                  0   \n",
       "3                                                  0   \n",
       "4                                                  0   \n",
       "\n",
       "[5 rows x 102 columns]"
      ]
     },
     "execution_count": 75,
     "metadata": {},
     "output_type": "execute_result"
    }
   ],
   "source": [
    "leads.head()"
   ]
  },
  {
   "cell_type": "markdown",
   "id": "e7a6dcb6",
   "metadata": {},
   "source": [
    "### Step 5: Test - Train Split"
   ]
  },
  {
   "cell_type": "code",
   "execution_count": 76,
   "id": "950a0028",
   "metadata": {},
   "outputs": [],
   "source": [
    "import sklearn\n",
    "from sklearn.model_selection import train_test_split"
   ]
  },
  {
   "cell_type": "code",
   "execution_count": 77,
   "id": "cdae7227",
   "metadata": {},
   "outputs": [
    {
     "name": "stdout",
     "output_type": "stream",
     "text": [
      "(6141, 102)\n",
      "(2632, 102)\n"
     ]
    }
   ],
   "source": [
    "leads_train, leads_test=train_test_split(leads, train_size=0.7, random_state=100)\n",
    "print(leads_train.shape)\n",
    "print(leads_test.shape)"
   ]
  },
  {
   "cell_type": "markdown",
   "id": "e71031c0",
   "metadata": {},
   "source": [
    "### Step 6: Feature Scaling"
   ]
  },
  {
   "cell_type": "code",
   "execution_count": 78,
   "id": "40cf9194",
   "metadata": {},
   "outputs": [
    {
     "data": {
      "text/html": [
       "<div>\n",
       "<style scoped>\n",
       "    .dataframe tbody tr th:only-of-type {\n",
       "        vertical-align: middle;\n",
       "    }\n",
       "\n",
       "    .dataframe tbody tr th {\n",
       "        vertical-align: top;\n",
       "    }\n",
       "\n",
       "    .dataframe thead th {\n",
       "        text-align: right;\n",
       "    }\n",
       "</style>\n",
       "<table border=\"1\" class=\"dataframe\">\n",
       "  <thead>\n",
       "    <tr style=\"text-align: right;\">\n",
       "      <th></th>\n",
       "      <th>Lead Number</th>\n",
       "      <th>Do Not Email</th>\n",
       "      <th>Converted</th>\n",
       "      <th>TotalVisits</th>\n",
       "      <th>Total Time Spent on Website</th>\n",
       "      <th>Page Views Per Visit</th>\n",
       "      <th>A free copy of Mastering The Interview</th>\n",
       "      <th>Lead Origin_Landing Page Submission</th>\n",
       "      <th>Lead Origin_Lead Add Form</th>\n",
       "      <th>Lead Origin_Lead Import</th>\n",
       "      <th>...</th>\n",
       "      <th>Last Notable Activity_Form Submitted on Website</th>\n",
       "      <th>Last Notable Activity_Had a Phone Conversation</th>\n",
       "      <th>Last Notable Activity_Modified</th>\n",
       "      <th>Last Notable Activity_Olark Chat Conversation</th>\n",
       "      <th>Last Notable Activity_Page Visited on Website</th>\n",
       "      <th>Last Notable Activity_Resubscribed to emails</th>\n",
       "      <th>Last Notable Activity_SMS Sent</th>\n",
       "      <th>Last Notable Activity_Unreachable</th>\n",
       "      <th>Last Notable Activity_Unsubscribed</th>\n",
       "      <th>Last Notable Activity_View in browser link Clicked</th>\n",
       "    </tr>\n",
       "  </thead>\n",
       "  <tbody>\n",
       "    <tr>\n",
       "      <th>5602</th>\n",
       "      <td>606986</td>\n",
       "      <td>0</td>\n",
       "      <td>1</td>\n",
       "      <td>0.333333</td>\n",
       "      <td>0.350023</td>\n",
       "      <td>0.333333</td>\n",
       "      <td>1</td>\n",
       "      <td>1</td>\n",
       "      <td>0</td>\n",
       "      <td>0</td>\n",
       "      <td>...</td>\n",
       "      <td>0</td>\n",
       "      <td>0</td>\n",
       "      <td>0</td>\n",
       "      <td>0</td>\n",
       "      <td>0</td>\n",
       "      <td>0</td>\n",
       "      <td>1</td>\n",
       "      <td>0</td>\n",
       "      <td>0</td>\n",
       "      <td>0</td>\n",
       "    </tr>\n",
       "    <tr>\n",
       "      <th>5036</th>\n",
       "      <td>611478</td>\n",
       "      <td>0</td>\n",
       "      <td>1</td>\n",
       "      <td>0.000000</td>\n",
       "      <td>0.000000</td>\n",
       "      <td>0.000000</td>\n",
       "      <td>0</td>\n",
       "      <td>0</td>\n",
       "      <td>0</td>\n",
       "      <td>0</td>\n",
       "      <td>...</td>\n",
       "      <td>0</td>\n",
       "      <td>0</td>\n",
       "      <td>0</td>\n",
       "      <td>0</td>\n",
       "      <td>0</td>\n",
       "      <td>0</td>\n",
       "      <td>1</td>\n",
       "      <td>0</td>\n",
       "      <td>0</td>\n",
       "      <td>0</td>\n",
       "    </tr>\n",
       "    <tr>\n",
       "      <th>8970</th>\n",
       "      <td>581574</td>\n",
       "      <td>0</td>\n",
       "      <td>0</td>\n",
       "      <td>0.111111</td>\n",
       "      <td>0.145241</td>\n",
       "      <td>0.111111</td>\n",
       "      <td>0</td>\n",
       "      <td>0</td>\n",
       "      <td>0</td>\n",
       "      <td>0</td>\n",
       "      <td>...</td>\n",
       "      <td>0</td>\n",
       "      <td>0</td>\n",
       "      <td>1</td>\n",
       "      <td>0</td>\n",
       "      <td>0</td>\n",
       "      <td>0</td>\n",
       "      <td>0</td>\n",
       "      <td>0</td>\n",
       "      <td>0</td>\n",
       "      <td>0</td>\n",
       "    </tr>\n",
       "    <tr>\n",
       "      <th>5328</th>\n",
       "      <td>608960</td>\n",
       "      <td>0</td>\n",
       "      <td>0</td>\n",
       "      <td>0.222222</td>\n",
       "      <td>0.100135</td>\n",
       "      <td>0.222222</td>\n",
       "      <td>0</td>\n",
       "      <td>1</td>\n",
       "      <td>0</td>\n",
       "      <td>0</td>\n",
       "      <td>...</td>\n",
       "      <td>0</td>\n",
       "      <td>0</td>\n",
       "      <td>1</td>\n",
       "      <td>0</td>\n",
       "      <td>0</td>\n",
       "      <td>0</td>\n",
       "      <td>0</td>\n",
       "      <td>0</td>\n",
       "      <td>0</td>\n",
       "      <td>0</td>\n",
       "    </tr>\n",
       "    <tr>\n",
       "      <th>1929</th>\n",
       "      <td>640995</td>\n",
       "      <td>0</td>\n",
       "      <td>0</td>\n",
       "      <td>0.555556</td>\n",
       "      <td>0.097429</td>\n",
       "      <td>0.555556</td>\n",
       "      <td>0</td>\n",
       "      <td>1</td>\n",
       "      <td>0</td>\n",
       "      <td>0</td>\n",
       "      <td>...</td>\n",
       "      <td>0</td>\n",
       "      <td>0</td>\n",
       "      <td>0</td>\n",
       "      <td>0</td>\n",
       "      <td>0</td>\n",
       "      <td>0</td>\n",
       "      <td>0</td>\n",
       "      <td>0</td>\n",
       "      <td>0</td>\n",
       "      <td>0</td>\n",
       "    </tr>\n",
       "  </tbody>\n",
       "</table>\n",
       "<p>5 rows × 102 columns</p>\n",
       "</div>"
      ],
      "text/plain": [
       "      Lead Number  Do Not Email  Converted  TotalVisits  \\\n",
       "5602       606986             0          1     0.333333   \n",
       "5036       611478             0          1     0.000000   \n",
       "8970       581574             0          0     0.111111   \n",
       "5328       608960             0          0     0.222222   \n",
       "1929       640995             0          0     0.555556   \n",
       "\n",
       "      Total Time Spent on Website  Page Views Per Visit  \\\n",
       "5602                     0.350023              0.333333   \n",
       "5036                     0.000000              0.000000   \n",
       "8970                     0.145241              0.111111   \n",
       "5328                     0.100135              0.222222   \n",
       "1929                     0.097429              0.555556   \n",
       "\n",
       "      A free copy of Mastering The Interview  \\\n",
       "5602                                       1   \n",
       "5036                                       0   \n",
       "8970                                       0   \n",
       "5328                                       0   \n",
       "1929                                       0   \n",
       "\n",
       "      Lead Origin_Landing Page Submission  Lead Origin_Lead Add Form  \\\n",
       "5602                                    1                          0   \n",
       "5036                                    0                          0   \n",
       "8970                                    0                          0   \n",
       "5328                                    1                          0   \n",
       "1929                                    1                          0   \n",
       "\n",
       "      Lead Origin_Lead Import  ...  \\\n",
       "5602                        0  ...   \n",
       "5036                        0  ...   \n",
       "8970                        0  ...   \n",
       "5328                        0  ...   \n",
       "1929                        0  ...   \n",
       "\n",
       "      Last Notable Activity_Form Submitted on Website  \\\n",
       "5602                                                0   \n",
       "5036                                                0   \n",
       "8970                                                0   \n",
       "5328                                                0   \n",
       "1929                                                0   \n",
       "\n",
       "      Last Notable Activity_Had a Phone Conversation  \\\n",
       "5602                                               0   \n",
       "5036                                               0   \n",
       "8970                                               0   \n",
       "5328                                               0   \n",
       "1929                                               0   \n",
       "\n",
       "      Last Notable Activity_Modified  \\\n",
       "5602                               0   \n",
       "5036                               0   \n",
       "8970                               1   \n",
       "5328                               1   \n",
       "1929                               0   \n",
       "\n",
       "      Last Notable Activity_Olark Chat Conversation  \\\n",
       "5602                                              0   \n",
       "5036                                              0   \n",
       "8970                                              0   \n",
       "5328                                              0   \n",
       "1929                                              0   \n",
       "\n",
       "      Last Notable Activity_Page Visited on Website  \\\n",
       "5602                                              0   \n",
       "5036                                              0   \n",
       "8970                                              0   \n",
       "5328                                              0   \n",
       "1929                                              0   \n",
       "\n",
       "      Last Notable Activity_Resubscribed to emails  \\\n",
       "5602                                             0   \n",
       "5036                                             0   \n",
       "8970                                             0   \n",
       "5328                                             0   \n",
       "1929                                             0   \n",
       "\n",
       "      Last Notable Activity_SMS Sent  Last Notable Activity_Unreachable  \\\n",
       "5602                               1                                  0   \n",
       "5036                               1                                  0   \n",
       "8970                               0                                  0   \n",
       "5328                               0                                  0   \n",
       "1929                               0                                  0   \n",
       "\n",
       "      Last Notable Activity_Unsubscribed  \\\n",
       "5602                                   0   \n",
       "5036                                   0   \n",
       "8970                                   0   \n",
       "5328                                   0   \n",
       "1929                                   0   \n",
       "\n",
       "      Last Notable Activity_View in browser link Clicked  \n",
       "5602                                                  0   \n",
       "5036                                                  0   \n",
       "8970                                                  0   \n",
       "5328                                                  0   \n",
       "1929                                                  0   \n",
       "\n",
       "[5 rows x 102 columns]"
      ]
     },
     "execution_count": 78,
     "metadata": {},
     "output_type": "execute_result"
    }
   ],
   "source": [
    "# rescaling the variables using min-max scaling\n",
    "from sklearn.preprocessing import MinMaxScaler\n",
    "scaler=MinMaxScaler()\n",
    "num_vars=['TotalVisits','Total Time Spent on Website','Page Views Per Visit']\n",
    "leads_train[num_vars]=scaler.fit_transform(leads_train[num_vars])\n",
    "leads_train.head()"
   ]
  },
  {
   "cell_type": "code",
   "execution_count": 79,
   "id": "20cba7db",
   "metadata": {},
   "outputs": [],
   "source": [
    "# X-train, y-train\n",
    "y_train=leads_train.pop('Converted')\n",
    "X_train=leads_train.iloc[:,1:]"
   ]
  },
  {
   "cell_type": "code",
   "execution_count": 80,
   "id": "8b1f3d29",
   "metadata": {},
   "outputs": [
    {
     "data": {
      "text/html": [
       "<div>\n",
       "<style scoped>\n",
       "    .dataframe tbody tr th:only-of-type {\n",
       "        vertical-align: middle;\n",
       "    }\n",
       "\n",
       "    .dataframe tbody tr th {\n",
       "        vertical-align: top;\n",
       "    }\n",
       "\n",
       "    .dataframe thead th {\n",
       "        text-align: right;\n",
       "    }\n",
       "</style>\n",
       "<table border=\"1\" class=\"dataframe\">\n",
       "  <thead>\n",
       "    <tr style=\"text-align: right;\">\n",
       "      <th></th>\n",
       "      <th>Do Not Email</th>\n",
       "      <th>TotalVisits</th>\n",
       "      <th>Total Time Spent on Website</th>\n",
       "      <th>Page Views Per Visit</th>\n",
       "      <th>A free copy of Mastering The Interview</th>\n",
       "      <th>Lead Origin_Landing Page Submission</th>\n",
       "      <th>Lead Origin_Lead Add Form</th>\n",
       "      <th>Lead Origin_Lead Import</th>\n",
       "      <th>Lead Origin_Quick Add Form</th>\n",
       "      <th>Lead Source_Direct Traffic</th>\n",
       "      <th>...</th>\n",
       "      <th>Last Notable Activity_Form Submitted on Website</th>\n",
       "      <th>Last Notable Activity_Had a Phone Conversation</th>\n",
       "      <th>Last Notable Activity_Modified</th>\n",
       "      <th>Last Notable Activity_Olark Chat Conversation</th>\n",
       "      <th>Last Notable Activity_Page Visited on Website</th>\n",
       "      <th>Last Notable Activity_Resubscribed to emails</th>\n",
       "      <th>Last Notable Activity_SMS Sent</th>\n",
       "      <th>Last Notable Activity_Unreachable</th>\n",
       "      <th>Last Notable Activity_Unsubscribed</th>\n",
       "      <th>Last Notable Activity_View in browser link Clicked</th>\n",
       "    </tr>\n",
       "  </thead>\n",
       "  <tbody>\n",
       "    <tr>\n",
       "      <th>5602</th>\n",
       "      <td>0</td>\n",
       "      <td>0.333333</td>\n",
       "      <td>0.350023</td>\n",
       "      <td>0.333333</td>\n",
       "      <td>1</td>\n",
       "      <td>1</td>\n",
       "      <td>0</td>\n",
       "      <td>0</td>\n",
       "      <td>0</td>\n",
       "      <td>0</td>\n",
       "      <td>...</td>\n",
       "      <td>0</td>\n",
       "      <td>0</td>\n",
       "      <td>0</td>\n",
       "      <td>0</td>\n",
       "      <td>0</td>\n",
       "      <td>0</td>\n",
       "      <td>1</td>\n",
       "      <td>0</td>\n",
       "      <td>0</td>\n",
       "      <td>0</td>\n",
       "    </tr>\n",
       "    <tr>\n",
       "      <th>5036</th>\n",
       "      <td>0</td>\n",
       "      <td>0.000000</td>\n",
       "      <td>0.000000</td>\n",
       "      <td>0.000000</td>\n",
       "      <td>0</td>\n",
       "      <td>0</td>\n",
       "      <td>0</td>\n",
       "      <td>0</td>\n",
       "      <td>0</td>\n",
       "      <td>0</td>\n",
       "      <td>...</td>\n",
       "      <td>0</td>\n",
       "      <td>0</td>\n",
       "      <td>0</td>\n",
       "      <td>0</td>\n",
       "      <td>0</td>\n",
       "      <td>0</td>\n",
       "      <td>1</td>\n",
       "      <td>0</td>\n",
       "      <td>0</td>\n",
       "      <td>0</td>\n",
       "    </tr>\n",
       "    <tr>\n",
       "      <th>8970</th>\n",
       "      <td>0</td>\n",
       "      <td>0.111111</td>\n",
       "      <td>0.145241</td>\n",
       "      <td>0.111111</td>\n",
       "      <td>0</td>\n",
       "      <td>0</td>\n",
       "      <td>0</td>\n",
       "      <td>0</td>\n",
       "      <td>0</td>\n",
       "      <td>0</td>\n",
       "      <td>...</td>\n",
       "      <td>0</td>\n",
       "      <td>0</td>\n",
       "      <td>1</td>\n",
       "      <td>0</td>\n",
       "      <td>0</td>\n",
       "      <td>0</td>\n",
       "      <td>0</td>\n",
       "      <td>0</td>\n",
       "      <td>0</td>\n",
       "      <td>0</td>\n",
       "    </tr>\n",
       "    <tr>\n",
       "      <th>5328</th>\n",
       "      <td>0</td>\n",
       "      <td>0.222222</td>\n",
       "      <td>0.100135</td>\n",
       "      <td>0.222222</td>\n",
       "      <td>0</td>\n",
       "      <td>1</td>\n",
       "      <td>0</td>\n",
       "      <td>0</td>\n",
       "      <td>0</td>\n",
       "      <td>0</td>\n",
       "      <td>...</td>\n",
       "      <td>0</td>\n",
       "      <td>0</td>\n",
       "      <td>1</td>\n",
       "      <td>0</td>\n",
       "      <td>0</td>\n",
       "      <td>0</td>\n",
       "      <td>0</td>\n",
       "      <td>0</td>\n",
       "      <td>0</td>\n",
       "      <td>0</td>\n",
       "    </tr>\n",
       "    <tr>\n",
       "      <th>1929</th>\n",
       "      <td>0</td>\n",
       "      <td>0.555556</td>\n",
       "      <td>0.097429</td>\n",
       "      <td>0.555556</td>\n",
       "      <td>0</td>\n",
       "      <td>1</td>\n",
       "      <td>0</td>\n",
       "      <td>0</td>\n",
       "      <td>0</td>\n",
       "      <td>0</td>\n",
       "      <td>...</td>\n",
       "      <td>0</td>\n",
       "      <td>0</td>\n",
       "      <td>0</td>\n",
       "      <td>0</td>\n",
       "      <td>0</td>\n",
       "      <td>0</td>\n",
       "      <td>0</td>\n",
       "      <td>0</td>\n",
       "      <td>0</td>\n",
       "      <td>0</td>\n",
       "    </tr>\n",
       "  </tbody>\n",
       "</table>\n",
       "<p>5 rows × 100 columns</p>\n",
       "</div>"
      ],
      "text/plain": [
       "      Do Not Email  TotalVisits  Total Time Spent on Website  \\\n",
       "5602             0     0.333333                     0.350023   \n",
       "5036             0     0.000000                     0.000000   \n",
       "8970             0     0.111111                     0.145241   \n",
       "5328             0     0.222222                     0.100135   \n",
       "1929             0     0.555556                     0.097429   \n",
       "\n",
       "      Page Views Per Visit  A free copy of Mastering The Interview  \\\n",
       "5602              0.333333                                       1   \n",
       "5036              0.000000                                       0   \n",
       "8970              0.111111                                       0   \n",
       "5328              0.222222                                       0   \n",
       "1929              0.555556                                       0   \n",
       "\n",
       "      Lead Origin_Landing Page Submission  Lead Origin_Lead Add Form  \\\n",
       "5602                                    1                          0   \n",
       "5036                                    0                          0   \n",
       "8970                                    0                          0   \n",
       "5328                                    1                          0   \n",
       "1929                                    1                          0   \n",
       "\n",
       "      Lead Origin_Lead Import  Lead Origin_Quick Add Form  \\\n",
       "5602                        0                           0   \n",
       "5036                        0                           0   \n",
       "8970                        0                           0   \n",
       "5328                        0                           0   \n",
       "1929                        0                           0   \n",
       "\n",
       "      Lead Source_Direct Traffic  ...  \\\n",
       "5602                           0  ...   \n",
       "5036                           0  ...   \n",
       "8970                           0  ...   \n",
       "5328                           0  ...   \n",
       "1929                           0  ...   \n",
       "\n",
       "      Last Notable Activity_Form Submitted on Website  \\\n",
       "5602                                                0   \n",
       "5036                                                0   \n",
       "8970                                                0   \n",
       "5328                                                0   \n",
       "1929                                                0   \n",
       "\n",
       "      Last Notable Activity_Had a Phone Conversation  \\\n",
       "5602                                               0   \n",
       "5036                                               0   \n",
       "8970                                               0   \n",
       "5328                                               0   \n",
       "1929                                               0   \n",
       "\n",
       "      Last Notable Activity_Modified  \\\n",
       "5602                               0   \n",
       "5036                               0   \n",
       "8970                               1   \n",
       "5328                               1   \n",
       "1929                               0   \n",
       "\n",
       "      Last Notable Activity_Olark Chat Conversation  \\\n",
       "5602                                              0   \n",
       "5036                                              0   \n",
       "8970                                              0   \n",
       "5328                                              0   \n",
       "1929                                              0   \n",
       "\n",
       "      Last Notable Activity_Page Visited on Website  \\\n",
       "5602                                              0   \n",
       "5036                                              0   \n",
       "8970                                              0   \n",
       "5328                                              0   \n",
       "1929                                              0   \n",
       "\n",
       "      Last Notable Activity_Resubscribed to emails  \\\n",
       "5602                                             0   \n",
       "5036                                             0   \n",
       "8970                                             0   \n",
       "5328                                             0   \n",
       "1929                                             0   \n",
       "\n",
       "      Last Notable Activity_SMS Sent  Last Notable Activity_Unreachable  \\\n",
       "5602                               1                                  0   \n",
       "5036                               1                                  0   \n",
       "8970                               0                                  0   \n",
       "5328                               0                                  0   \n",
       "1929                               0                                  0   \n",
       "\n",
       "      Last Notable Activity_Unsubscribed  \\\n",
       "5602                                   0   \n",
       "5036                                   0   \n",
       "8970                                   0   \n",
       "5328                                   0   \n",
       "1929                                   0   \n",
       "\n",
       "      Last Notable Activity_View in browser link Clicked  \n",
       "5602                                                  0   \n",
       "5036                                                  0   \n",
       "8970                                                  0   \n",
       "5328                                                  0   \n",
       "1929                                                  0   \n",
       "\n",
       "[5 rows x 100 columns]"
      ]
     },
     "execution_count": 80,
     "metadata": {},
     "output_type": "execute_result"
    }
   ],
   "source": [
    "X_train.head()"
   ]
  },
  {
   "cell_type": "code",
   "execution_count": 81,
   "id": "f9bc5e8a",
   "metadata": {},
   "outputs": [
    {
     "data": {
      "text/plain": [
       "5602    1\n",
       "5036    1\n",
       "8970    0\n",
       "5328    0\n",
       "1929    0\n",
       "Name: Converted, dtype: int64"
      ]
     },
     "execution_count": 81,
     "metadata": {},
     "output_type": "execute_result"
    }
   ],
   "source": [
    "y_train.head()"
   ]
  },
  {
   "cell_type": "code",
   "execution_count": 82,
   "id": "b70f44b1",
   "metadata": {},
   "outputs": [
    {
     "data": {
      "text/plain": [
       "38.0599566852844"
      ]
     },
     "execution_count": 82,
     "metadata": {},
     "output_type": "execute_result"
    }
   ],
   "source": [
    "# Checking the Conversion Rate\n",
    "Conversion_Rate = (sum(leads['Converted'])/len(leads['Converted']))*100\n",
    "Conversion_Rate"
   ]
  },
  {
   "cell_type": "markdown",
   "id": "ca9fb6fe",
   "metadata": {},
   "source": [
    "### Step 7: Model Building using RFE"
   ]
  },
  {
   "cell_type": "code",
   "execution_count": 83,
   "id": "e34d0ce2",
   "metadata": {},
   "outputs": [],
   "source": [
    "from sklearn.linear_model import LogisticRegression\n",
    "logreg = LogisticRegression()"
   ]
  },
  {
   "cell_type": "code",
   "execution_count": 84,
   "id": "cd192755",
   "metadata": {},
   "outputs": [],
   "source": [
    "# selecting 15 variables\n",
    "from sklearn.feature_selection import RFE\n",
    "rfe = RFE(logreg, n_features_to_select=15)             # running RFE with 15 variables as output\n",
    "rfe = rfe.fit(X_train, y_train)"
   ]
  },
  {
   "cell_type": "code",
   "execution_count": 85,
   "id": "828b06cc",
   "metadata": {},
   "outputs": [
    {
     "data": {
      "text/plain": [
       "array([False, False,  True, False, False, False,  True, False, False,\n",
       "       False, False, False, False, False,  True, False, False, False,\n",
       "       False, False, False, False,  True, False, False, False, False,\n",
       "       False, False, False, False, False, False, False, False, False,\n",
       "        True, False, False, False, False, False, False, False, False,\n",
       "       False, False, False, False, False, False, False, False, False,\n",
       "       False, False, False,  True, False, False, False, False, False,\n",
       "       False,  True,  True, False, False,  True,  True, False,  True,\n",
       "       False, False, False, False,  True,  True,  True, False, False,\n",
       "       False, False, False, False, False, False, False, False, False,\n",
       "       False, False, False, False, False, False,  True, False, False,\n",
       "       False])"
      ]
     },
     "execution_count": 85,
     "metadata": {},
     "output_type": "execute_result"
    }
   ],
   "source": [
    "rfe.support_"
   ]
  },
  {
   "cell_type": "code",
   "execution_count": 86,
   "id": "17441caa",
   "metadata": {},
   "outputs": [
    {
     "data": {
      "text/plain": [
       "[('Do Not Email', False, 4),\n",
       " ('TotalVisits', False, 23),\n",
       " ('Total Time Spent on Website', True, 1),\n",
       " ('Page Views Per Visit', False, 24),\n",
       " ('A free copy of Mastering The Interview', False, 74),\n",
       " ('Lead Origin_Landing Page Submission', False, 10),\n",
       " ('Lead Origin_Lead Add Form', True, 1),\n",
       " ('Lead Origin_Lead Import', False, 54),\n",
       " ('Lead Origin_Quick Add Form', False, 27),\n",
       " ('Lead Source_Direct Traffic', False, 33),\n",
       " ('Lead Source_Facebook', False, 59),\n",
       " ('Lead Source_Google', False, 45),\n",
       " ('Lead Source_Live Chat', False, 79),\n",
       " ('Lead Source_NC_EDM', False, 82),\n",
       " ('Lead Source_Olark Chat', True, 1),\n",
       " ('Lead Source_Organic Search', False, 44),\n",
       " ('Lead Source_Pay per Click Ads', False, 78),\n",
       " ('Lead Source_Press_Release', False, 77),\n",
       " ('Lead Source_Reference', False, 9),\n",
       " ('Lead Source_Referral Sites', False, 34),\n",
       " ('Lead Source_Social Media', False, 58),\n",
       " ('Lead Source_WeLearn', False, 72),\n",
       " ('Lead Source_Welingak Website', True, 1),\n",
       " ('Lead Source_bing', False, 62),\n",
       " ('Lead Source_blog', False, 42),\n",
       " ('Lead Source_testone', False, 85),\n",
       " ('Lead Source_welearnblog_Home', False, 50),\n",
       " ('Lead Source_youtubechannel', False, 81),\n",
       " ('Last Activity_Converted to Lead', False, 13),\n",
       " ('Last Activity_Email Bounced', False, 15),\n",
       " ('Last Activity_Email Link Clicked', False, 31),\n",
       " ('Last Activity_Email Marked Spam', False, 61),\n",
       " ('Last Activity_Email Opened', False, 48),\n",
       " ('Last Activity_Email Received', False, 67),\n",
       " ('Last Activity_Form Submitted on Website', False, 26),\n",
       " ('Last Activity_Had a Phone Conversation', False, 8),\n",
       " ('Last Activity_Olark Chat Conversation', True, 1),\n",
       " ('Last Activity_Page Visited on Website', False, 65),\n",
       " ('Last Activity_Resubscribed to emails', False, 86),\n",
       " ('Last Activity_SMS Sent', False, 2),\n",
       " ('Last Activity_Unreachable', False, 25),\n",
       " ('Last Activity_Unsubscribed', False, 39),\n",
       " ('Last Activity_View in browser link Clicked', False, 57),\n",
       " ('Last Activity_Visited Booth in Tradeshow', False, 76),\n",
       " ('Specialization_Business Administration', False, 30),\n",
       " ('Specialization_E-Business', False, 75),\n",
       " ('Specialization_E-COMMERCE', False, 22),\n",
       " ('Specialization_International Business', False, 46),\n",
       " ('Specialization_Management_Specialization', False, 71),\n",
       " ('Specialization_Media and Advertising', False, 35),\n",
       " ('Specialization_Not Selected', False, 47),\n",
       " ('Specialization_Rural and Agribusiness', False, 70),\n",
       " ('Specialization_Services Excellence', False, 16),\n",
       " ('Specialization_Travel and Tourism', False, 21),\n",
       " ('What is your current occupation_Student', False, 41),\n",
       " ('What is your current occupation_Unemployed', False, 51),\n",
       " ('What is your current occupation_Working Professional', False, 18),\n",
       " ('Tags_Closed by Horizzon', True, 1),\n",
       " ('Tags_Diploma holder (Not Eligible)', False, 5),\n",
       " ('Tags_Graduation in progress', False, 20),\n",
       " ('Tags_In confusion whether part time or DLP', False, 14),\n",
       " ('Tags_Interested  in full time MBA', False, 12),\n",
       " ('Tags_Interested in Next batch', False, 29),\n",
       " ('Tags_Interested in other courses', False, 11),\n",
       " ('Tags_Lateral student', True, 1),\n",
       " ('Tags_Lost to EINS', True, 1),\n",
       " ('Tags_Lost to Others', False, 40),\n",
       " ('Tags_Not Responding', False, 56),\n",
       " ('Tags_Not doing further education', True, 1),\n",
       " ('Tags_Others', True, 1),\n",
       " ('Tags_Recognition issue (DEC approval)', False, 52),\n",
       " ('Tags_Ringing', True, 1),\n",
       " ('Tags_Shall take in the next coming month', False, 7),\n",
       " ('Tags_Still Thinking', False, 55),\n",
       " ('Tags_University not recognized', False, 53),\n",
       " ('Tags_Want to take admission but has financial problems', False, 32),\n",
       " ('Tags_Will revert after reading the email', True, 1),\n",
       " ('Tags_in touch with EINS', True, 1),\n",
       " ('Tags_number not provided', True, 1),\n",
       " ('City_Not Specified', False, 60),\n",
       " ('City_Other Cities', False, 69),\n",
       " ('City_Other Cities of Maharashtra', False, 80),\n",
       " ('City_Other Metro Cities', False, 49),\n",
       " ('City_Thane & Outskirts', False, 38),\n",
       " ('City_Tier II Cities', False, 36),\n",
       " ('Last Notable Activity_Email Bounced', False, 28),\n",
       " ('Last Notable Activity_Email Link Clicked', False, 6),\n",
       " ('Last Notable Activity_Email Marked Spam', False, 63),\n",
       " ('Last Notable Activity_Email Opened', False, 68),\n",
       " ('Last Notable Activity_Email Received', False, 73),\n",
       " ('Last Notable Activity_Form Submitted on Website', False, 83),\n",
       " ('Last Notable Activity_Had a Phone Conversation', False, 43),\n",
       " ('Last Notable Activity_Modified', False, 3),\n",
       " ('Last Notable Activity_Olark Chat Conversation', False, 17),\n",
       " ('Last Notable Activity_Page Visited on Website', False, 64),\n",
       " ('Last Notable Activity_Resubscribed to emails', False, 84),\n",
       " ('Last Notable Activity_SMS Sent', True, 1),\n",
       " ('Last Notable Activity_Unreachable', False, 37),\n",
       " ('Last Notable Activity_Unsubscribed', False, 19),\n",
       " ('Last Notable Activity_View in browser link Clicked', False, 66)]"
      ]
     },
     "execution_count": 86,
     "metadata": {},
     "output_type": "execute_result"
    }
   ],
   "source": [
    "list(zip(X_train.columns, rfe.support_, rfe.ranking_))"
   ]
  },
  {
   "cell_type": "code",
   "execution_count": 87,
   "id": "ddf35c28",
   "metadata": {},
   "outputs": [],
   "source": [
    "col = X_train.columns[rfe.support_]"
   ]
  },
  {
   "cell_type": "code",
   "execution_count": 88,
   "id": "afe04f4d",
   "metadata": {},
   "outputs": [
    {
     "data": {
      "text/plain": [
       "Index(['Do Not Email', 'TotalVisits', 'Page Views Per Visit',\n",
       "       'A free copy of Mastering The Interview',\n",
       "       'Lead Origin_Landing Page Submission', 'Lead Origin_Lead Import',\n",
       "       'Lead Origin_Quick Add Form', 'Lead Source_Direct Traffic',\n",
       "       'Lead Source_Facebook', 'Lead Source_Google', 'Lead Source_Live Chat',\n",
       "       'Lead Source_NC_EDM', 'Lead Source_Organic Search',\n",
       "       'Lead Source_Pay per Click Ads', 'Lead Source_Press_Release',\n",
       "       'Lead Source_Reference', 'Lead Source_Referral Sites',\n",
       "       'Lead Source_Social Media', 'Lead Source_WeLearn', 'Lead Source_bing',\n",
       "       'Lead Source_blog', 'Lead Source_testone',\n",
       "       'Lead Source_welearnblog_Home', 'Lead Source_youtubechannel',\n",
       "       'Last Activity_Converted to Lead', 'Last Activity_Email Bounced',\n",
       "       'Last Activity_Email Link Clicked', 'Last Activity_Email Marked Spam',\n",
       "       'Last Activity_Email Opened', 'Last Activity_Email Received',\n",
       "       'Last Activity_Form Submitted on Website',\n",
       "       'Last Activity_Had a Phone Conversation',\n",
       "       'Last Activity_Page Visited on Website',\n",
       "       'Last Activity_Resubscribed to emails', 'Last Activity_SMS Sent',\n",
       "       'Last Activity_Unreachable', 'Last Activity_Unsubscribed',\n",
       "       'Last Activity_View in browser link Clicked',\n",
       "       'Last Activity_Visited Booth in Tradeshow',\n",
       "       'Specialization_Business Administration', 'Specialization_E-Business',\n",
       "       'Specialization_E-COMMERCE', 'Specialization_International Business',\n",
       "       'Specialization_Management_Specialization',\n",
       "       'Specialization_Media and Advertising', 'Specialization_Not Selected',\n",
       "       'Specialization_Rural and Agribusiness',\n",
       "       'Specialization_Services Excellence',\n",
       "       'Specialization_Travel and Tourism',\n",
       "       'What is your current occupation_Student',\n",
       "       'What is your current occupation_Unemployed',\n",
       "       'What is your current occupation_Working Professional',\n",
       "       'Tags_Diploma holder (Not Eligible)', 'Tags_Graduation in progress',\n",
       "       'Tags_In confusion whether part time or DLP',\n",
       "       'Tags_Interested  in full time MBA', 'Tags_Interested in Next batch',\n",
       "       'Tags_Interested in other courses', 'Tags_Lost to Others',\n",
       "       'Tags_Not Responding', 'Tags_Recognition issue (DEC approval)',\n",
       "       'Tags_Shall take in the next coming month', 'Tags_Still Thinking',\n",
       "       'Tags_University not recognized',\n",
       "       'Tags_Want to take admission but has financial problems',\n",
       "       'City_Not Specified', 'City_Other Cities',\n",
       "       'City_Other Cities of Maharashtra', 'City_Other Metro Cities',\n",
       "       'City_Thane & Outskirts', 'City_Tier II Cities',\n",
       "       'Last Notable Activity_Email Bounced',\n",
       "       'Last Notable Activity_Email Link Clicked',\n",
       "       'Last Notable Activity_Email Marked Spam',\n",
       "       'Last Notable Activity_Email Opened',\n",
       "       'Last Notable Activity_Email Received',\n",
       "       'Last Notable Activity_Form Submitted on Website',\n",
       "       'Last Notable Activity_Had a Phone Conversation',\n",
       "       'Last Notable Activity_Modified',\n",
       "       'Last Notable Activity_Olark Chat Conversation',\n",
       "       'Last Notable Activity_Page Visited on Website',\n",
       "       'Last Notable Activity_Resubscribed to emails',\n",
       "       'Last Notable Activity_Unreachable',\n",
       "       'Last Notable Activity_Unsubscribed',\n",
       "       'Last Notable Activity_View in browser link Clicked'],\n",
       "      dtype='object')"
      ]
     },
     "execution_count": 88,
     "metadata": {},
     "output_type": "execute_result"
    }
   ],
   "source": [
    "X_train.columns[~rfe.support_]"
   ]
  },
  {
   "cell_type": "code",
   "execution_count": 89,
   "id": "3c33e793",
   "metadata": {},
   "outputs": [
    {
     "data": {
      "text/html": [
       "<table class=\"simpletable\">\n",
       "<caption>Generalized Linear Model Regression Results</caption>\n",
       "<tr>\n",
       "  <th>Dep. Variable:</th>       <td>Converted</td>    <th>  No. Observations:  </th>  <td>  6141</td> \n",
       "</tr>\n",
       "<tr>\n",
       "  <th>Model:</th>                  <td>GLM</td>       <th>  Df Residuals:      </th>  <td>  6125</td> \n",
       "</tr>\n",
       "<tr>\n",
       "  <th>Model Family:</th>        <td>Binomial</td>     <th>  Df Model:          </th>  <td>    15</td> \n",
       "</tr>\n",
       "<tr>\n",
       "  <th>Link Function:</th>         <td>Logit</td>      <th>  Scale:             </th> <td>  1.0000</td>\n",
       "</tr>\n",
       "<tr>\n",
       "  <th>Method:</th>                <td>IRLS</td>       <th>  Log-Likelihood:    </th> <td> -1279.1</td>\n",
       "</tr>\n",
       "<tr>\n",
       "  <th>Date:</th>            <td>Tue, 18 Oct 2022</td> <th>  Deviance:          </th> <td>  2558.3</td>\n",
       "</tr>\n",
       "<tr>\n",
       "  <th>Time:</th>                <td>07:41:34</td>     <th>  Pearson chi2:      </th> <td>8.02e+03</td>\n",
       "</tr>\n",
       "<tr>\n",
       "  <th>No. Iterations:</th>         <td>23</td>        <th>  Pseudo R-squ. (CS):</th>  <td>0.5975</td> \n",
       "</tr>\n",
       "<tr>\n",
       "  <th>Covariance Type:</th>     <td>nonrobust</td>    <th>                     </th>     <td> </td>   \n",
       "</tr>\n",
       "</table>\n",
       "<table class=\"simpletable\">\n",
       "<tr>\n",
       "                      <td></td>                        <th>coef</th>     <th>std err</th>      <th>z</th>      <th>P>|z|</th>  <th>[0.025</th>    <th>0.975]</th>  \n",
       "</tr>\n",
       "<tr>\n",
       "  <th>const</th>                                    <td>   -4.5677</td> <td>    0.170</td> <td>  -26.904</td> <td> 0.000</td> <td>   -4.900</td> <td>   -4.235</td>\n",
       "</tr>\n",
       "<tr>\n",
       "  <th>Total Time Spent on Website</th>              <td>    4.3191</td> <td>    0.243</td> <td>   17.794</td> <td> 0.000</td> <td>    3.843</td> <td>    4.795</td>\n",
       "</tr>\n",
       "<tr>\n",
       "  <th>Lead Origin_Lead Add Form</th>                <td>    1.7904</td> <td>    0.353</td> <td>    5.072</td> <td> 0.000</td> <td>    1.099</td> <td>    2.482</td>\n",
       "</tr>\n",
       "<tr>\n",
       "  <th>Lead Source_Olark Chat</th>                   <td>    1.4046</td> <td>    0.149</td> <td>    9.450</td> <td> 0.000</td> <td>    1.113</td> <td>    1.696</td>\n",
       "</tr>\n",
       "<tr>\n",
       "  <th>Lead Source_Welingak Website</th>             <td>    3.7875</td> <td>    0.809</td> <td>    4.681</td> <td> 0.000</td> <td>    2.202</td> <td>    5.373</td>\n",
       "</tr>\n",
       "<tr>\n",
       "  <th>Last Activity_Olark Chat Conversation</th>    <td>   -1.6414</td> <td>    0.231</td> <td>   -7.092</td> <td> 0.000</td> <td>   -2.095</td> <td>   -1.188</td>\n",
       "</tr>\n",
       "<tr>\n",
       "  <th>Tags_Closed by Horizzon</th>                  <td>    7.4514</td> <td>    0.739</td> <td>   10.081</td> <td> 0.000</td> <td>    6.003</td> <td>    8.900</td>\n",
       "</tr>\n",
       "<tr>\n",
       "  <th>Tags_Lateral student</th>                     <td>   27.0158</td> <td> 8.34e+04</td> <td>    0.000</td> <td> 1.000</td> <td>-1.63e+05</td> <td> 1.64e+05</td>\n",
       "</tr>\n",
       "<tr>\n",
       "  <th>Tags_Lost to EINS</th>                        <td>    6.9044</td> <td>    0.618</td> <td>   11.166</td> <td> 0.000</td> <td>    5.692</td> <td>    8.116</td>\n",
       "</tr>\n",
       "<tr>\n",
       "  <th>Tags_Not doing further education</th>         <td>  -21.1599</td> <td> 1.28e+04</td> <td>   -0.002</td> <td> 0.999</td> <td>-2.51e+04</td> <td> 2.51e+04</td>\n",
       "</tr>\n",
       "<tr>\n",
       "  <th>Tags_Others</th>                              <td>    1.5533</td> <td>    0.145</td> <td>   10.749</td> <td> 0.000</td> <td>    1.270</td> <td>    1.837</td>\n",
       "</tr>\n",
       "<tr>\n",
       "  <th>Tags_Ringing</th>                             <td>   -2.0472</td> <td>    0.267</td> <td>   -7.658</td> <td> 0.000</td> <td>   -2.571</td> <td>   -1.523</td>\n",
       "</tr>\n",
       "<tr>\n",
       "  <th>Tags_Will revert after reading the email</th> <td>    5.9248</td> <td>    0.214</td> <td>   27.647</td> <td> 0.000</td> <td>    5.505</td> <td>    6.345</td>\n",
       "</tr>\n",
       "<tr>\n",
       "  <th>Tags_in touch with EINS</th>                  <td>    2.3711</td> <td>    0.932</td> <td>    2.545</td> <td> 0.011</td> <td>    0.545</td> <td>    4.197</td>\n",
       "</tr>\n",
       "<tr>\n",
       "  <th>Tags_number not provided</th>                 <td>  -23.2391</td> <td> 2.61e+04</td> <td>   -0.001</td> <td> 0.999</td> <td>-5.12e+04</td> <td> 5.11e+04</td>\n",
       "</tr>\n",
       "<tr>\n",
       "  <th>Last Notable Activity_SMS Sent</th>           <td>    2.6305</td> <td>    0.127</td> <td>   20.710</td> <td> 0.000</td> <td>    2.382</td> <td>    2.879</td>\n",
       "</tr>\n",
       "</table>"
      ],
      "text/plain": [
       "<class 'statsmodels.iolib.summary.Summary'>\n",
       "\"\"\"\n",
       "                 Generalized Linear Model Regression Results                  \n",
       "==============================================================================\n",
       "Dep. Variable:              Converted   No. Observations:                 6141\n",
       "Model:                            GLM   Df Residuals:                     6125\n",
       "Model Family:                Binomial   Df Model:                           15\n",
       "Link Function:                  Logit   Scale:                          1.0000\n",
       "Method:                          IRLS   Log-Likelihood:                -1279.1\n",
       "Date:                Tue, 18 Oct 2022   Deviance:                       2558.3\n",
       "Time:                        07:41:34   Pearson chi2:                 8.02e+03\n",
       "No. Iterations:                    23   Pseudo R-squ. (CS):             0.5975\n",
       "Covariance Type:            nonrobust                                         \n",
       "============================================================================================================\n",
       "                                               coef    std err          z      P>|z|      [0.025      0.975]\n",
       "------------------------------------------------------------------------------------------------------------\n",
       "const                                       -4.5677      0.170    -26.904      0.000      -4.900      -4.235\n",
       "Total Time Spent on Website                  4.3191      0.243     17.794      0.000       3.843       4.795\n",
       "Lead Origin_Lead Add Form                    1.7904      0.353      5.072      0.000       1.099       2.482\n",
       "Lead Source_Olark Chat                       1.4046      0.149      9.450      0.000       1.113       1.696\n",
       "Lead Source_Welingak Website                 3.7875      0.809      4.681      0.000       2.202       5.373\n",
       "Last Activity_Olark Chat Conversation       -1.6414      0.231     -7.092      0.000      -2.095      -1.188\n",
       "Tags_Closed by Horizzon                      7.4514      0.739     10.081      0.000       6.003       8.900\n",
       "Tags_Lateral student                        27.0158   8.34e+04      0.000      1.000   -1.63e+05    1.64e+05\n",
       "Tags_Lost to EINS                            6.9044      0.618     11.166      0.000       5.692       8.116\n",
       "Tags_Not doing further education           -21.1599   1.28e+04     -0.002      0.999   -2.51e+04    2.51e+04\n",
       "Tags_Others                                  1.5533      0.145     10.749      0.000       1.270       1.837\n",
       "Tags_Ringing                                -2.0472      0.267     -7.658      0.000      -2.571      -1.523\n",
       "Tags_Will revert after reading the email     5.9248      0.214     27.647      0.000       5.505       6.345\n",
       "Tags_in touch with EINS                      2.3711      0.932      2.545      0.011       0.545       4.197\n",
       "Tags_number not provided                   -23.2391   2.61e+04     -0.001      0.999   -5.12e+04    5.11e+04\n",
       "Last Notable Activity_SMS Sent               2.6305      0.127     20.710      0.000       2.382       2.879\n",
       "============================================================================================================\n",
       "\"\"\""
      ]
     },
     "execution_count": 89,
     "metadata": {},
     "output_type": "execute_result"
    }
   ],
   "source": [
    "# assessing model with stats model\n",
    "import statsmodels.api as sm\n",
    "\n",
    "# Logistic regression model\n",
    "X_train_sm = sm.add_constant(X_train[col])\n",
    "logm1 = sm.GLM(y_train,X_train_sm, family = sm.families.Binomial())\n",
    "res = logm1.fit()\n",
    "res.summary()"
   ]
  },
  {
   "cell_type": "code",
   "execution_count": 90,
   "id": "226697da",
   "metadata": {},
   "outputs": [],
   "source": [
    "# dropping the variable 'Tags_Lateral student' as it has p-value>0.05\n",
    "col=col.drop('Tags_Lateral student',1)"
   ]
  },
  {
   "cell_type": "code",
   "execution_count": 91,
   "id": "969e1529",
   "metadata": {},
   "outputs": [
    {
     "data": {
      "text/html": [
       "<table class=\"simpletable\">\n",
       "<caption>Generalized Linear Model Regression Results</caption>\n",
       "<tr>\n",
       "  <th>Dep. Variable:</th>       <td>Converted</td>    <th>  No. Observations:  </th>  <td>  6141</td> \n",
       "</tr>\n",
       "<tr>\n",
       "  <th>Model:</th>                  <td>GLM</td>       <th>  Df Residuals:      </th>  <td>  6126</td> \n",
       "</tr>\n",
       "<tr>\n",
       "  <th>Model Family:</th>        <td>Binomial</td>     <th>  Df Model:          </th>  <td>    14</td> \n",
       "</tr>\n",
       "<tr>\n",
       "  <th>Link Function:</th>         <td>Logit</td>      <th>  Scale:             </th> <td>  1.0000</td>\n",
       "</tr>\n",
       "<tr>\n",
       "  <th>Method:</th>                <td>IRLS</td>       <th>  Log-Likelihood:    </th> <td> -1283.2</td>\n",
       "</tr>\n",
       "<tr>\n",
       "  <th>Date:</th>            <td>Tue, 18 Oct 2022</td> <th>  Deviance:          </th> <td>  2566.4</td>\n",
       "</tr>\n",
       "<tr>\n",
       "  <th>Time:</th>                <td>07:41:34</td>     <th>  Pearson chi2:      </th> <td>8.06e+03</td>\n",
       "</tr>\n",
       "<tr>\n",
       "  <th>No. Iterations:</th>         <td>23</td>        <th>  Pseudo R-squ. (CS):</th>  <td>0.5969</td> \n",
       "</tr>\n",
       "<tr>\n",
       "  <th>Covariance Type:</th>     <td>nonrobust</td>    <th>                     </th>     <td> </td>   \n",
       "</tr>\n",
       "</table>\n",
       "<table class=\"simpletable\">\n",
       "<tr>\n",
       "                      <td></td>                        <th>coef</th>     <th>std err</th>      <th>z</th>      <th>P>|z|</th>  <th>[0.025</th>    <th>0.975]</th>  \n",
       "</tr>\n",
       "<tr>\n",
       "  <th>const</th>                                    <td>   -4.5407</td> <td>    0.169</td> <td>  -26.944</td> <td> 0.000</td> <td>   -4.871</td> <td>   -4.210</td>\n",
       "</tr>\n",
       "<tr>\n",
       "  <th>Total Time Spent on Website</th>              <td>    4.3109</td> <td>    0.242</td> <td>   17.798</td> <td> 0.000</td> <td>    3.836</td> <td>    4.786</td>\n",
       "</tr>\n",
       "<tr>\n",
       "  <th>Lead Origin_Lead Add Form</th>                <td>    1.8486</td> <td>    0.350</td> <td>    5.276</td> <td> 0.000</td> <td>    1.162</td> <td>    2.535</td>\n",
       "</tr>\n",
       "<tr>\n",
       "  <th>Lead Source_Olark Chat</th>                   <td>    1.4001</td> <td>    0.148</td> <td>    9.435</td> <td> 0.000</td> <td>    1.109</td> <td>    1.691</td>\n",
       "</tr>\n",
       "<tr>\n",
       "  <th>Lead Source_Welingak Website</th>             <td>    3.7264</td> <td>    0.808</td> <td>    4.612</td> <td> 0.000</td> <td>    2.143</td> <td>    5.310</td>\n",
       "</tr>\n",
       "<tr>\n",
       "  <th>Last Activity_Olark Chat Conversation</th>    <td>   -1.6412</td> <td>    0.231</td> <td>   -7.099</td> <td> 0.000</td> <td>   -2.094</td> <td>   -1.188</td>\n",
       "</tr>\n",
       "<tr>\n",
       "  <th>Tags_Closed by Horizzon</th>                  <td>    7.4055</td> <td>    0.738</td> <td>   10.035</td> <td> 0.000</td> <td>    5.959</td> <td>    8.852</td>\n",
       "</tr>\n",
       "<tr>\n",
       "  <th>Tags_Lost to EINS</th>                        <td>    6.8776</td> <td>    0.618</td> <td>   11.128</td> <td> 0.000</td> <td>    5.666</td> <td>    8.089</td>\n",
       "</tr>\n",
       "<tr>\n",
       "  <th>Tags_Not doing further education</th>         <td>  -21.1845</td> <td> 1.28e+04</td> <td>   -0.002</td> <td> 0.999</td> <td>-2.52e+04</td> <td> 2.51e+04</td>\n",
       "</tr>\n",
       "<tr>\n",
       "  <th>Tags_Others</th>                              <td>    1.5300</td> <td>    0.143</td> <td>   10.665</td> <td> 0.000</td> <td>    1.249</td> <td>    1.811</td>\n",
       "</tr>\n",
       "<tr>\n",
       "  <th>Tags_Ringing</th>                             <td>   -2.0707</td> <td>    0.267</td> <td>   -7.763</td> <td> 0.000</td> <td>   -2.593</td> <td>   -1.548</td>\n",
       "</tr>\n",
       "<tr>\n",
       "  <th>Tags_Will revert after reading the email</th> <td>    5.8944</td> <td>    0.213</td> <td>   27.666</td> <td> 0.000</td> <td>    5.477</td> <td>    6.312</td>\n",
       "</tr>\n",
       "<tr>\n",
       "  <th>Tags_in touch with EINS</th>                  <td>    2.3473</td> <td>    0.931</td> <td>    2.521</td> <td> 0.012</td> <td>    0.522</td> <td>    4.172</td>\n",
       "</tr>\n",
       "<tr>\n",
       "  <th>Tags_number not provided</th>                 <td>  -23.2579</td> <td> 2.61e+04</td> <td>   -0.001</td> <td> 0.999</td> <td>-5.12e+04</td> <td> 5.12e+04</td>\n",
       "</tr>\n",
       "<tr>\n",
       "  <th>Last Notable Activity_SMS Sent</th>           <td>    2.6265</td> <td>    0.127</td> <td>   20.729</td> <td> 0.000</td> <td>    2.378</td> <td>    2.875</td>\n",
       "</tr>\n",
       "</table>"
      ],
      "text/plain": [
       "<class 'statsmodels.iolib.summary.Summary'>\n",
       "\"\"\"\n",
       "                 Generalized Linear Model Regression Results                  \n",
       "==============================================================================\n",
       "Dep. Variable:              Converted   No. Observations:                 6141\n",
       "Model:                            GLM   Df Residuals:                     6126\n",
       "Model Family:                Binomial   Df Model:                           14\n",
       "Link Function:                  Logit   Scale:                          1.0000\n",
       "Method:                          IRLS   Log-Likelihood:                -1283.2\n",
       "Date:                Tue, 18 Oct 2022   Deviance:                       2566.4\n",
       "Time:                        07:41:34   Pearson chi2:                 8.06e+03\n",
       "No. Iterations:                    23   Pseudo R-squ. (CS):             0.5969\n",
       "Covariance Type:            nonrobust                                         \n",
       "============================================================================================================\n",
       "                                               coef    std err          z      P>|z|      [0.025      0.975]\n",
       "------------------------------------------------------------------------------------------------------------\n",
       "const                                       -4.5407      0.169    -26.944      0.000      -4.871      -4.210\n",
       "Total Time Spent on Website                  4.3109      0.242     17.798      0.000       3.836       4.786\n",
       "Lead Origin_Lead Add Form                    1.8486      0.350      5.276      0.000       1.162       2.535\n",
       "Lead Source_Olark Chat                       1.4001      0.148      9.435      0.000       1.109       1.691\n",
       "Lead Source_Welingak Website                 3.7264      0.808      4.612      0.000       2.143       5.310\n",
       "Last Activity_Olark Chat Conversation       -1.6412      0.231     -7.099      0.000      -2.094      -1.188\n",
       "Tags_Closed by Horizzon                      7.4055      0.738     10.035      0.000       5.959       8.852\n",
       "Tags_Lost to EINS                            6.8776      0.618     11.128      0.000       5.666       8.089\n",
       "Tags_Not doing further education           -21.1845   1.28e+04     -0.002      0.999   -2.52e+04    2.51e+04\n",
       "Tags_Others                                  1.5300      0.143     10.665      0.000       1.249       1.811\n",
       "Tags_Ringing                                -2.0707      0.267     -7.763      0.000      -2.593      -1.548\n",
       "Tags_Will revert after reading the email     5.8944      0.213     27.666      0.000       5.477       6.312\n",
       "Tags_in touch with EINS                      2.3473      0.931      2.521      0.012       0.522       4.172\n",
       "Tags_number not provided                   -23.2579   2.61e+04     -0.001      0.999   -5.12e+04    5.12e+04\n",
       "Last Notable Activity_SMS Sent               2.6265      0.127     20.729      0.000       2.378       2.875\n",
       "============================================================================================================\n",
       "\"\"\""
      ]
     },
     "execution_count": 91,
     "metadata": {},
     "output_type": "execute_result"
    }
   ],
   "source": [
    "X_train_sm = sm.add_constant(X_train[col])\n",
    "logm2 = sm.GLM(y_train,X_train_sm, family = sm.families.Binomial())\n",
    "res = logm2.fit()\n",
    "res.summary()"
   ]
  },
  {
   "cell_type": "code",
   "execution_count": 92,
   "id": "303a6331",
   "metadata": {},
   "outputs": [
    {
     "data": {
      "text/html": [
       "<div>\n",
       "<style scoped>\n",
       "    .dataframe tbody tr th:only-of-type {\n",
       "        vertical-align: middle;\n",
       "    }\n",
       "\n",
       "    .dataframe tbody tr th {\n",
       "        vertical-align: top;\n",
       "    }\n",
       "\n",
       "    .dataframe thead th {\n",
       "        text-align: right;\n",
       "    }\n",
       "</style>\n",
       "<table border=\"1\" class=\"dataframe\">\n",
       "  <thead>\n",
       "    <tr style=\"text-align: right;\">\n",
       "      <th></th>\n",
       "      <th>Features</th>\n",
       "      <th>VIF</th>\n",
       "    </tr>\n",
       "  </thead>\n",
       "  <tbody>\n",
       "    <tr>\n",
       "      <th>0</th>\n",
       "      <td>Total Time Spent on Website</td>\n",
       "      <td>2.07</td>\n",
       "    </tr>\n",
       "    <tr>\n",
       "      <th>10</th>\n",
       "      <td>Tags_Will revert after reading the email</td>\n",
       "      <td>2.04</td>\n",
       "    </tr>\n",
       "    <tr>\n",
       "      <th>1</th>\n",
       "      <td>Lead Origin_Lead Add Form</td>\n",
       "      <td>1.82</td>\n",
       "    </tr>\n",
       "    <tr>\n",
       "      <th>2</th>\n",
       "      <td>Lead Source_Olark Chat</td>\n",
       "      <td>1.76</td>\n",
       "    </tr>\n",
       "    <tr>\n",
       "      <th>8</th>\n",
       "      <td>Tags_Others</td>\n",
       "      <td>1.76</td>\n",
       "    </tr>\n",
       "    <tr>\n",
       "      <th>13</th>\n",
       "      <td>Last Notable Activity_SMS Sent</td>\n",
       "      <td>1.53</td>\n",
       "    </tr>\n",
       "    <tr>\n",
       "      <th>4</th>\n",
       "      <td>Last Activity_Olark Chat Conversation</td>\n",
       "      <td>1.42</td>\n",
       "    </tr>\n",
       "    <tr>\n",
       "      <th>5</th>\n",
       "      <td>Tags_Closed by Horizzon</td>\n",
       "      <td>1.37</td>\n",
       "    </tr>\n",
       "    <tr>\n",
       "      <th>3</th>\n",
       "      <td>Lead Source_Welingak Website</td>\n",
       "      <td>1.31</td>\n",
       "    </tr>\n",
       "    <tr>\n",
       "      <th>9</th>\n",
       "      <td>Tags_Ringing</td>\n",
       "      <td>1.17</td>\n",
       "    </tr>\n",
       "    <tr>\n",
       "      <th>6</th>\n",
       "      <td>Tags_Lost to EINS</td>\n",
       "      <td>1.07</td>\n",
       "    </tr>\n",
       "    <tr>\n",
       "      <th>7</th>\n",
       "      <td>Tags_Not doing further education</td>\n",
       "      <td>1.01</td>\n",
       "    </tr>\n",
       "    <tr>\n",
       "      <th>11</th>\n",
       "      <td>Tags_in touch with EINS</td>\n",
       "      <td>1.00</td>\n",
       "    </tr>\n",
       "    <tr>\n",
       "      <th>12</th>\n",
       "      <td>Tags_number not provided</td>\n",
       "      <td>1.00</td>\n",
       "    </tr>\n",
       "  </tbody>\n",
       "</table>\n",
       "</div>"
      ],
      "text/plain": [
       "                                    Features   VIF\n",
       "0                Total Time Spent on Website  2.07\n",
       "10  Tags_Will revert after reading the email  2.04\n",
       "1                  Lead Origin_Lead Add Form  1.82\n",
       "2                     Lead Source_Olark Chat  1.76\n",
       "8                                Tags_Others  1.76\n",
       "13            Last Notable Activity_SMS Sent  1.53\n",
       "4      Last Activity_Olark Chat Conversation  1.42\n",
       "5                    Tags_Closed by Horizzon  1.37\n",
       "3               Lead Source_Welingak Website  1.31\n",
       "9                               Tags_Ringing  1.17\n",
       "6                          Tags_Lost to EINS  1.07\n",
       "7           Tags_Not doing further education  1.01\n",
       "11                   Tags_in touch with EINS  1.00\n",
       "12                  Tags_number not provided  1.00"
      ]
     },
     "execution_count": 92,
     "metadata": {},
     "output_type": "execute_result"
    }
   ],
   "source": [
    "# checking vif\n",
    "\n",
    "from statsmodels.stats.outliers_influence import variance_inflation_factor\n",
    "\n",
    "vif = pd.DataFrame()\n",
    "vif['Features'] = X_train[col].columns\n",
    "vif['VIF'] = [variance_inflation_factor(X_train[col].values, i) for i in range(X_train[col].shape[1])]\n",
    "vif['VIF'] = round(vif['VIF'], 2)\n",
    "vif = vif.sort_values(by = \"VIF\", ascending = False)\n",
    "vif"
   ]
  },
  {
   "cell_type": "code",
   "execution_count": 93,
   "id": "8386aad8",
   "metadata": {},
   "outputs": [],
   "source": [
    "# dropping the variable 'Tags_Not doing further education' as it has p-value>0.05 and high VIF (compared with 'no. not provided')\n",
    "col=col.drop('Tags_Not doing further education',1)"
   ]
  },
  {
   "cell_type": "code",
   "execution_count": 94,
   "id": "0b74a088",
   "metadata": {},
   "outputs": [
    {
     "data": {
      "text/html": [
       "<table class=\"simpletable\">\n",
       "<caption>Generalized Linear Model Regression Results</caption>\n",
       "<tr>\n",
       "  <th>Dep. Variable:</th>       <td>Converted</td>    <th>  No. Observations:  </th>  <td>  6141</td> \n",
       "</tr>\n",
       "<tr>\n",
       "  <th>Model:</th>                  <td>GLM</td>       <th>  Df Residuals:      </th>  <td>  6127</td> \n",
       "</tr>\n",
       "<tr>\n",
       "  <th>Model Family:</th>        <td>Binomial</td>     <th>  Df Model:          </th>  <td>    13</td> \n",
       "</tr>\n",
       "<tr>\n",
       "  <th>Link Function:</th>         <td>Logit</td>      <th>  Scale:             </th> <td>  1.0000</td>\n",
       "</tr>\n",
       "<tr>\n",
       "  <th>Method:</th>                <td>IRLS</td>       <th>  Log-Likelihood:    </th> <td> -1286.5</td>\n",
       "</tr>\n",
       "<tr>\n",
       "  <th>Date:</th>            <td>Tue, 18 Oct 2022</td> <th>  Deviance:          </th> <td>  2573.0</td>\n",
       "</tr>\n",
       "<tr>\n",
       "  <th>Time:</th>                <td>07:41:35</td>     <th>  Pearson chi2:      </th> <td>8.17e+03</td>\n",
       "</tr>\n",
       "<tr>\n",
       "  <th>No. Iterations:</th>         <td>22</td>        <th>  Pseudo R-squ. (CS):</th>  <td>0.5965</td> \n",
       "</tr>\n",
       "<tr>\n",
       "  <th>Covariance Type:</th>     <td>nonrobust</td>    <th>                     </th>     <td> </td>   \n",
       "</tr>\n",
       "</table>\n",
       "<table class=\"simpletable\">\n",
       "<tr>\n",
       "                      <td></td>                        <th>coef</th>     <th>std err</th>      <th>z</th>      <th>P>|z|</th>  <th>[0.025</th>    <th>0.975]</th>  \n",
       "</tr>\n",
       "<tr>\n",
       "  <th>const</th>                                    <td>   -4.5980</td> <td>    0.168</td> <td>  -27.431</td> <td> 0.000</td> <td>   -4.927</td> <td>   -4.269</td>\n",
       "</tr>\n",
       "<tr>\n",
       "  <th>Total Time Spent on Website</th>              <td>    4.3172</td> <td>    0.242</td> <td>   17.842</td> <td> 0.000</td> <td>    3.843</td> <td>    4.791</td>\n",
       "</tr>\n",
       "<tr>\n",
       "  <th>Lead Origin_Lead Add Form</th>                <td>    1.8479</td> <td>    0.350</td> <td>    5.281</td> <td> 0.000</td> <td>    1.162</td> <td>    2.534</td>\n",
       "</tr>\n",
       "<tr>\n",
       "  <th>Lead Source_Olark Chat</th>                   <td>    1.4059</td> <td>    0.149</td> <td>    9.463</td> <td> 0.000</td> <td>    1.115</td> <td>    1.697</td>\n",
       "</tr>\n",
       "<tr>\n",
       "  <th>Lead Source_Welingak Website</th>             <td>    3.7325</td> <td>    0.808</td> <td>    4.620</td> <td> 0.000</td> <td>    2.149</td> <td>    5.316</td>\n",
       "</tr>\n",
       "<tr>\n",
       "  <th>Last Activity_Olark Chat Conversation</th>    <td>   -1.6376</td> <td>    0.231</td> <td>   -7.078</td> <td> 0.000</td> <td>   -2.091</td> <td>   -1.184</td>\n",
       "</tr>\n",
       "<tr>\n",
       "  <th>Tags_Closed by Horizzon</th>                  <td>    7.4614</td> <td>    0.738</td> <td>   10.113</td> <td> 0.000</td> <td>    6.015</td> <td>    8.907</td>\n",
       "</tr>\n",
       "<tr>\n",
       "  <th>Tags_Lost to EINS</th>                        <td>    6.9320</td> <td>    0.618</td> <td>   11.220</td> <td> 0.000</td> <td>    5.721</td> <td>    8.143</td>\n",
       "</tr>\n",
       "<tr>\n",
       "  <th>Tags_Others</th>                              <td>    1.5795</td> <td>    0.143</td> <td>   11.065</td> <td> 0.000</td> <td>    1.300</td> <td>    1.859</td>\n",
       "</tr>\n",
       "<tr>\n",
       "  <th>Tags_Ringing</th>                             <td>   -2.0312</td> <td>    0.267</td> <td>   -7.618</td> <td> 0.000</td> <td>   -2.554</td> <td>   -1.509</td>\n",
       "</tr>\n",
       "<tr>\n",
       "  <th>Tags_Will revert after reading the email</th> <td>    5.9483</td> <td>    0.212</td> <td>   27.999</td> <td> 0.000</td> <td>    5.532</td> <td>    6.365</td>\n",
       "</tr>\n",
       "<tr>\n",
       "  <th>Tags_in touch with EINS</th>                  <td>    2.4008</td> <td>    0.932</td> <td>    2.577</td> <td> 0.010</td> <td>    0.575</td> <td>    4.227</td>\n",
       "</tr>\n",
       "<tr>\n",
       "  <th>Tags_number not provided</th>                 <td>  -22.2178</td> <td> 1.58e+04</td> <td>   -0.001</td> <td> 0.999</td> <td> -3.1e+04</td> <td>  3.1e+04</td>\n",
       "</tr>\n",
       "<tr>\n",
       "  <th>Last Notable Activity_SMS Sent</th>           <td>    2.6439</td> <td>    0.127</td> <td>   20.855</td> <td> 0.000</td> <td>    2.395</td> <td>    2.892</td>\n",
       "</tr>\n",
       "</table>"
      ],
      "text/plain": [
       "<class 'statsmodels.iolib.summary.Summary'>\n",
       "\"\"\"\n",
       "                 Generalized Linear Model Regression Results                  \n",
       "==============================================================================\n",
       "Dep. Variable:              Converted   No. Observations:                 6141\n",
       "Model:                            GLM   Df Residuals:                     6127\n",
       "Model Family:                Binomial   Df Model:                           13\n",
       "Link Function:                  Logit   Scale:                          1.0000\n",
       "Method:                          IRLS   Log-Likelihood:                -1286.5\n",
       "Date:                Tue, 18 Oct 2022   Deviance:                       2573.0\n",
       "Time:                        07:41:35   Pearson chi2:                 8.17e+03\n",
       "No. Iterations:                    22   Pseudo R-squ. (CS):             0.5965\n",
       "Covariance Type:            nonrobust                                         \n",
       "============================================================================================================\n",
       "                                               coef    std err          z      P>|z|      [0.025      0.975]\n",
       "------------------------------------------------------------------------------------------------------------\n",
       "const                                       -4.5980      0.168    -27.431      0.000      -4.927      -4.269\n",
       "Total Time Spent on Website                  4.3172      0.242     17.842      0.000       3.843       4.791\n",
       "Lead Origin_Lead Add Form                    1.8479      0.350      5.281      0.000       1.162       2.534\n",
       "Lead Source_Olark Chat                       1.4059      0.149      9.463      0.000       1.115       1.697\n",
       "Lead Source_Welingak Website                 3.7325      0.808      4.620      0.000       2.149       5.316\n",
       "Last Activity_Olark Chat Conversation       -1.6376      0.231     -7.078      0.000      -2.091      -1.184\n",
       "Tags_Closed by Horizzon                      7.4614      0.738     10.113      0.000       6.015       8.907\n",
       "Tags_Lost to EINS                            6.9320      0.618     11.220      0.000       5.721       8.143\n",
       "Tags_Others                                  1.5795      0.143     11.065      0.000       1.300       1.859\n",
       "Tags_Ringing                                -2.0312      0.267     -7.618      0.000      -2.554      -1.509\n",
       "Tags_Will revert after reading the email     5.9483      0.212     27.999      0.000       5.532       6.365\n",
       "Tags_in touch with EINS                      2.4008      0.932      2.577      0.010       0.575       4.227\n",
       "Tags_number not provided                   -22.2178   1.58e+04     -0.001      0.999    -3.1e+04     3.1e+04\n",
       "Last Notable Activity_SMS Sent               2.6439      0.127     20.855      0.000       2.395       2.892\n",
       "============================================================================================================\n",
       "\"\"\""
      ]
     },
     "execution_count": 94,
     "metadata": {},
     "output_type": "execute_result"
    }
   ],
   "source": [
    "X_train_sm = sm.add_constant(X_train[col])\n",
    "logm3 = sm.GLM(y_train,X_train_sm, family = sm.families.Binomial())\n",
    "res = logm3.fit()\n",
    "res.summary()"
   ]
  },
  {
   "cell_type": "code",
   "execution_count": 95,
   "id": "aeca5a07",
   "metadata": {},
   "outputs": [],
   "source": [
    "# dropping the variable 'Tags_number not provided' as it has p-value>0.05\n",
    "col=col.drop('Tags_number not provided',1)"
   ]
  },
  {
   "cell_type": "code",
   "execution_count": 96,
   "id": "84465ab9",
   "metadata": {},
   "outputs": [
    {
     "data": {
      "text/html": [
       "<table class=\"simpletable\">\n",
       "<caption>Generalized Linear Model Regression Results</caption>\n",
       "<tr>\n",
       "  <th>Dep. Variable:</th>       <td>Converted</td>    <th>  No. Observations:  </th>  <td>  6141</td> \n",
       "</tr>\n",
       "<tr>\n",
       "  <th>Model:</th>                  <td>GLM</td>       <th>  Df Residuals:      </th>  <td>  6128</td> \n",
       "</tr>\n",
       "<tr>\n",
       "  <th>Model Family:</th>        <td>Binomial</td>     <th>  Df Model:          </th>  <td>    12</td> \n",
       "</tr>\n",
       "<tr>\n",
       "  <th>Link Function:</th>         <td>Logit</td>      <th>  Scale:             </th> <td>  1.0000</td>\n",
       "</tr>\n",
       "<tr>\n",
       "  <th>Method:</th>                <td>IRLS</td>       <th>  Log-Likelihood:    </th> <td> -1290.0</td>\n",
       "</tr>\n",
       "<tr>\n",
       "  <th>Date:</th>            <td>Tue, 18 Oct 2022</td> <th>  Deviance:          </th> <td>  2580.1</td>\n",
       "</tr>\n",
       "<tr>\n",
       "  <th>Time:</th>                <td>07:41:35</td>     <th>  Pearson chi2:      </th> <td>8.13e+03</td>\n",
       "</tr>\n",
       "<tr>\n",
       "  <th>No. Iterations:</th>          <td>8</td>        <th>  Pseudo R-squ. (CS):</th>  <td>0.5960</td> \n",
       "</tr>\n",
       "<tr>\n",
       "  <th>Covariance Type:</th>     <td>nonrobust</td>    <th>                     </th>     <td> </td>   \n",
       "</tr>\n",
       "</table>\n",
       "<table class=\"simpletable\">\n",
       "<tr>\n",
       "                      <td></td>                        <th>coef</th>     <th>std err</th>      <th>z</th>      <th>P>|z|</th>  <th>[0.025</th>    <th>0.975]</th>  \n",
       "</tr>\n",
       "<tr>\n",
       "  <th>const</th>                                    <td>   -4.6172</td> <td>    0.168</td> <td>  -27.509</td> <td> 0.000</td> <td>   -4.946</td> <td>   -4.288</td>\n",
       "</tr>\n",
       "<tr>\n",
       "  <th>Total Time Spent on Website</th>              <td>    4.2864</td> <td>    0.241</td> <td>   17.779</td> <td> 0.000</td> <td>    3.814</td> <td>    4.759</td>\n",
       "</tr>\n",
       "<tr>\n",
       "  <th>Lead Origin_Lead Add Form</th>                <td>    1.8453</td> <td>    0.350</td> <td>    5.272</td> <td> 0.000</td> <td>    1.159</td> <td>    2.531</td>\n",
       "</tr>\n",
       "<tr>\n",
       "  <th>Lead Source_Olark Chat</th>                   <td>    1.4010</td> <td>    0.148</td> <td>    9.442</td> <td> 0.000</td> <td>    1.110</td> <td>    1.692</td>\n",
       "</tr>\n",
       "<tr>\n",
       "  <th>Lead Source_Welingak Website</th>             <td>    3.7254</td> <td>    0.808</td> <td>    4.612</td> <td> 0.000</td> <td>    2.142</td> <td>    5.309</td>\n",
       "</tr>\n",
       "<tr>\n",
       "  <th>Last Activity_Olark Chat Conversation</th>    <td>   -1.6383</td> <td>    0.231</td> <td>   -7.083</td> <td> 0.000</td> <td>   -2.092</td> <td>   -1.185</td>\n",
       "</tr>\n",
       "<tr>\n",
       "  <th>Tags_Closed by Horizzon</th>                  <td>    7.4861</td> <td>    0.738</td> <td>   10.147</td> <td> 0.000</td> <td>    6.040</td> <td>    8.932</td>\n",
       "</tr>\n",
       "<tr>\n",
       "  <th>Tags_Lost to EINS</th>                        <td>    6.9576</td> <td>    0.618</td> <td>   11.263</td> <td> 0.000</td> <td>    5.747</td> <td>    8.168</td>\n",
       "</tr>\n",
       "<tr>\n",
       "  <th>Tags_Others</th>                              <td>    1.6104</td> <td>    0.143</td> <td>   11.273</td> <td> 0.000</td> <td>    1.330</td> <td>    1.890</td>\n",
       "</tr>\n",
       "<tr>\n",
       "  <th>Tags_Ringing</th>                             <td>   -1.9896</td> <td>    0.266</td> <td>   -7.475</td> <td> 0.000</td> <td>   -2.511</td> <td>   -1.468</td>\n",
       "</tr>\n",
       "<tr>\n",
       "  <th>Tags_Will revert after reading the email</th> <td>    5.9751</td> <td>    0.213</td> <td>   28.116</td> <td> 0.000</td> <td>    5.559</td> <td>    6.392</td>\n",
       "</tr>\n",
       "<tr>\n",
       "  <th>Tags_in touch with EINS</th>                  <td>    2.4288</td> <td>    0.930</td> <td>    2.613</td> <td> 0.009</td> <td>    0.607</td> <td>    4.251</td>\n",
       "</tr>\n",
       "<tr>\n",
       "  <th>Last Notable Activity_SMS Sent</th>           <td>    2.6322</td> <td>    0.126</td> <td>   20.819</td> <td> 0.000</td> <td>    2.384</td> <td>    2.880</td>\n",
       "</tr>\n",
       "</table>"
      ],
      "text/plain": [
       "<class 'statsmodels.iolib.summary.Summary'>\n",
       "\"\"\"\n",
       "                 Generalized Linear Model Regression Results                  \n",
       "==============================================================================\n",
       "Dep. Variable:              Converted   No. Observations:                 6141\n",
       "Model:                            GLM   Df Residuals:                     6128\n",
       "Model Family:                Binomial   Df Model:                           12\n",
       "Link Function:                  Logit   Scale:                          1.0000\n",
       "Method:                          IRLS   Log-Likelihood:                -1290.0\n",
       "Date:                Tue, 18 Oct 2022   Deviance:                       2580.1\n",
       "Time:                        07:41:35   Pearson chi2:                 8.13e+03\n",
       "No. Iterations:                     8   Pseudo R-squ. (CS):             0.5960\n",
       "Covariance Type:            nonrobust                                         \n",
       "============================================================================================================\n",
       "                                               coef    std err          z      P>|z|      [0.025      0.975]\n",
       "------------------------------------------------------------------------------------------------------------\n",
       "const                                       -4.6172      0.168    -27.509      0.000      -4.946      -4.288\n",
       "Total Time Spent on Website                  4.2864      0.241     17.779      0.000       3.814       4.759\n",
       "Lead Origin_Lead Add Form                    1.8453      0.350      5.272      0.000       1.159       2.531\n",
       "Lead Source_Olark Chat                       1.4010      0.148      9.442      0.000       1.110       1.692\n",
       "Lead Source_Welingak Website                 3.7254      0.808      4.612      0.000       2.142       5.309\n",
       "Last Activity_Olark Chat Conversation       -1.6383      0.231     -7.083      0.000      -2.092      -1.185\n",
       "Tags_Closed by Horizzon                      7.4861      0.738     10.147      0.000       6.040       8.932\n",
       "Tags_Lost to EINS                            6.9576      0.618     11.263      0.000       5.747       8.168\n",
       "Tags_Others                                  1.6104      0.143     11.273      0.000       1.330       1.890\n",
       "Tags_Ringing                                -1.9896      0.266     -7.475      0.000      -2.511      -1.468\n",
       "Tags_Will revert after reading the email     5.9751      0.213     28.116      0.000       5.559       6.392\n",
       "Tags_in touch with EINS                      2.4288      0.930      2.613      0.009       0.607       4.251\n",
       "Last Notable Activity_SMS Sent               2.6322      0.126     20.819      0.000       2.384       2.880\n",
       "============================================================================================================\n",
       "\"\"\""
      ]
     },
     "execution_count": 96,
     "metadata": {},
     "output_type": "execute_result"
    }
   ],
   "source": [
    "X_train_sm = sm.add_constant(X_train[col])\n",
    "logm4 = sm.GLM(y_train,X_train_sm, family = sm.families.Binomial())\n",
    "res = logm4.fit()\n",
    "res.summary()"
   ]
  },
  {
   "cell_type": "code",
   "execution_count": 97,
   "id": "b33c5527",
   "metadata": {},
   "outputs": [
    {
     "data": {
      "text/html": [
       "<div>\n",
       "<style scoped>\n",
       "    .dataframe tbody tr th:only-of-type {\n",
       "        vertical-align: middle;\n",
       "    }\n",
       "\n",
       "    .dataframe tbody tr th {\n",
       "        vertical-align: top;\n",
       "    }\n",
       "\n",
       "    .dataframe thead th {\n",
       "        text-align: right;\n",
       "    }\n",
       "</style>\n",
       "<table border=\"1\" class=\"dataframe\">\n",
       "  <thead>\n",
       "    <tr style=\"text-align: right;\">\n",
       "      <th></th>\n",
       "      <th>Features</th>\n",
       "      <th>VIF</th>\n",
       "    </tr>\n",
       "  </thead>\n",
       "  <tbody>\n",
       "    <tr>\n",
       "      <th>0</th>\n",
       "      <td>Total Time Spent on Website</td>\n",
       "      <td>2.04</td>\n",
       "    </tr>\n",
       "    <tr>\n",
       "      <th>9</th>\n",
       "      <td>Tags_Will revert after reading the email</td>\n",
       "      <td>2.03</td>\n",
       "    </tr>\n",
       "    <tr>\n",
       "      <th>1</th>\n",
       "      <td>Lead Origin_Lead Add Form</td>\n",
       "      <td>1.82</td>\n",
       "    </tr>\n",
       "    <tr>\n",
       "      <th>2</th>\n",
       "      <td>Lead Source_Olark Chat</td>\n",
       "      <td>1.75</td>\n",
       "    </tr>\n",
       "    <tr>\n",
       "      <th>7</th>\n",
       "      <td>Tags_Others</td>\n",
       "      <td>1.75</td>\n",
       "    </tr>\n",
       "    <tr>\n",
       "      <th>11</th>\n",
       "      <td>Last Notable Activity_SMS Sent</td>\n",
       "      <td>1.53</td>\n",
       "    </tr>\n",
       "    <tr>\n",
       "      <th>4</th>\n",
       "      <td>Last Activity_Olark Chat Conversation</td>\n",
       "      <td>1.42</td>\n",
       "    </tr>\n",
       "    <tr>\n",
       "      <th>5</th>\n",
       "      <td>Tags_Closed by Horizzon</td>\n",
       "      <td>1.37</td>\n",
       "    </tr>\n",
       "    <tr>\n",
       "      <th>3</th>\n",
       "      <td>Lead Source_Welingak Website</td>\n",
       "      <td>1.31</td>\n",
       "    </tr>\n",
       "    <tr>\n",
       "      <th>8</th>\n",
       "      <td>Tags_Ringing</td>\n",
       "      <td>1.17</td>\n",
       "    </tr>\n",
       "    <tr>\n",
       "      <th>6</th>\n",
       "      <td>Tags_Lost to EINS</td>\n",
       "      <td>1.06</td>\n",
       "    </tr>\n",
       "    <tr>\n",
       "      <th>10</th>\n",
       "      <td>Tags_in touch with EINS</td>\n",
       "      <td>1.00</td>\n",
       "    </tr>\n",
       "  </tbody>\n",
       "</table>\n",
       "</div>"
      ],
      "text/plain": [
       "                                    Features   VIF\n",
       "0                Total Time Spent on Website  2.04\n",
       "9   Tags_Will revert after reading the email  2.03\n",
       "1                  Lead Origin_Lead Add Form  1.82\n",
       "2                     Lead Source_Olark Chat  1.75\n",
       "7                                Tags_Others  1.75\n",
       "11            Last Notable Activity_SMS Sent  1.53\n",
       "4      Last Activity_Olark Chat Conversation  1.42\n",
       "5                    Tags_Closed by Horizzon  1.37\n",
       "3               Lead Source_Welingak Website  1.31\n",
       "8                               Tags_Ringing  1.17\n",
       "6                          Tags_Lost to EINS  1.06\n",
       "10                   Tags_in touch with EINS  1.00"
      ]
     },
     "execution_count": 97,
     "metadata": {},
     "output_type": "execute_result"
    }
   ],
   "source": [
    "vif = pd.DataFrame()\n",
    "vif['Features'] = X_train[col].columns\n",
    "vif['VIF'] = [variance_inflation_factor(X_train[col].values, i) for i in range(X_train[col].shape[1])]\n",
    "vif['VIF'] = round(vif['VIF'], 2)\n",
    "vif = vif.sort_values(by = \"VIF\", ascending = False)\n",
    "vif"
   ]
  },
  {
   "cell_type": "code",
   "execution_count": 98,
   "id": "780a7e7e",
   "metadata": {},
   "outputs": [],
   "source": [
    "# dropping the variable 'Tags_in touch with EINS' as it has p-value>0.05\n",
    "col=col.drop('Tags_in touch with EINS',1)"
   ]
  },
  {
   "cell_type": "code",
   "execution_count": 99,
   "id": "37d247dd",
   "metadata": {},
   "outputs": [
    {
     "data": {
      "text/html": [
       "<table class=\"simpletable\">\n",
       "<caption>Generalized Linear Model Regression Results</caption>\n",
       "<tr>\n",
       "  <th>Dep. Variable:</th>       <td>Converted</td>    <th>  No. Observations:  </th>  <td>  6141</td> \n",
       "</tr>\n",
       "<tr>\n",
       "  <th>Model:</th>                  <td>GLM</td>       <th>  Df Residuals:      </th>  <td>  6129</td> \n",
       "</tr>\n",
       "<tr>\n",
       "  <th>Model Family:</th>        <td>Binomial</td>     <th>  Df Model:          </th>  <td>    11</td> \n",
       "</tr>\n",
       "<tr>\n",
       "  <th>Link Function:</th>         <td>Logit</td>      <th>  Scale:             </th> <td>  1.0000</td>\n",
       "</tr>\n",
       "<tr>\n",
       "  <th>Method:</th>                <td>IRLS</td>       <th>  Log-Likelihood:    </th> <td> -1292.7</td>\n",
       "</tr>\n",
       "<tr>\n",
       "  <th>Date:</th>            <td>Tue, 18 Oct 2022</td> <th>  Deviance:          </th> <td>  2585.4</td>\n",
       "</tr>\n",
       "<tr>\n",
       "  <th>Time:</th>                <td>07:41:36</td>     <th>  Pearson chi2:      </th> <td>8.17e+03</td>\n",
       "</tr>\n",
       "<tr>\n",
       "  <th>No. Iterations:</th>          <td>8</td>        <th>  Pseudo R-squ. (CS):</th>  <td>0.5957</td> \n",
       "</tr>\n",
       "<tr>\n",
       "  <th>Covariance Type:</th>     <td>nonrobust</td>    <th>                     </th>     <td> </td>   \n",
       "</tr>\n",
       "</table>\n",
       "<table class=\"simpletable\">\n",
       "<tr>\n",
       "                      <td></td>                        <th>coef</th>     <th>std err</th>      <th>z</th>      <th>P>|z|</th>  <th>[0.025</th>    <th>0.975]</th>  \n",
       "</tr>\n",
       "<tr>\n",
       "  <th>const</th>                                    <td>   -4.5867</td> <td>    0.166</td> <td>  -27.558</td> <td> 0.000</td> <td>   -4.913</td> <td>   -4.260</td>\n",
       "</tr>\n",
       "<tr>\n",
       "  <th>Total Time Spent on Website</th>              <td>    4.2921</td> <td>    0.241</td> <td>   17.827</td> <td> 0.000</td> <td>    3.820</td> <td>    4.764</td>\n",
       "</tr>\n",
       "<tr>\n",
       "  <th>Lead Origin_Lead Add Form</th>                <td>    1.8443</td> <td>    0.350</td> <td>    5.276</td> <td> 0.000</td> <td>    1.159</td> <td>    2.529</td>\n",
       "</tr>\n",
       "<tr>\n",
       "  <th>Lead Source_Olark Chat</th>                   <td>    1.4036</td> <td>    0.148</td> <td>    9.465</td> <td> 0.000</td> <td>    1.113</td> <td>    1.694</td>\n",
       "</tr>\n",
       "<tr>\n",
       "  <th>Lead Source_Welingak Website</th>             <td>    3.7274</td> <td>    0.808</td> <td>    4.615</td> <td> 0.000</td> <td>    2.145</td> <td>    5.310</td>\n",
       "</tr>\n",
       "<tr>\n",
       "  <th>Last Activity_Olark Chat Conversation</th>    <td>   -1.6399</td> <td>    0.231</td> <td>   -7.091</td> <td> 0.000</td> <td>   -2.093</td> <td>   -1.187</td>\n",
       "</tr>\n",
       "<tr>\n",
       "  <th>Tags_Closed by Horizzon</th>                  <td>    7.4551</td> <td>    0.737</td> <td>   10.109</td> <td> 0.000</td> <td>    6.010</td> <td>    8.900</td>\n",
       "</tr>\n",
       "<tr>\n",
       "  <th>Tags_Lost to EINS</th>                        <td>    6.9260</td> <td>    0.617</td> <td>   11.218</td> <td> 0.000</td> <td>    5.716</td> <td>    8.136</td>\n",
       "</tr>\n",
       "<tr>\n",
       "  <th>Tags_Others</th>                              <td>    1.5800</td> <td>    0.141</td> <td>   11.174</td> <td> 0.000</td> <td>    1.303</td> <td>    1.857</td>\n",
       "</tr>\n",
       "<tr>\n",
       "  <th>Tags_Ringing</th>                             <td>   -2.0150</td> <td>    0.266</td> <td>   -7.589</td> <td> 0.000</td> <td>   -2.535</td> <td>   -1.495</td>\n",
       "</tr>\n",
       "<tr>\n",
       "  <th>Tags_Will revert after reading the email</th> <td>    5.9441</td> <td>    0.211</td> <td>   28.109</td> <td> 0.000</td> <td>    5.530</td> <td>    6.359</td>\n",
       "</tr>\n",
       "<tr>\n",
       "  <th>Last Notable Activity_SMS Sent</th>           <td>    2.6234</td> <td>    0.126</td> <td>   20.822</td> <td> 0.000</td> <td>    2.376</td> <td>    2.870</td>\n",
       "</tr>\n",
       "</table>"
      ],
      "text/plain": [
       "<class 'statsmodels.iolib.summary.Summary'>\n",
       "\"\"\"\n",
       "                 Generalized Linear Model Regression Results                  \n",
       "==============================================================================\n",
       "Dep. Variable:              Converted   No. Observations:                 6141\n",
       "Model:                            GLM   Df Residuals:                     6129\n",
       "Model Family:                Binomial   Df Model:                           11\n",
       "Link Function:                  Logit   Scale:                          1.0000\n",
       "Method:                          IRLS   Log-Likelihood:                -1292.7\n",
       "Date:                Tue, 18 Oct 2022   Deviance:                       2585.4\n",
       "Time:                        07:41:36   Pearson chi2:                 8.17e+03\n",
       "No. Iterations:                     8   Pseudo R-squ. (CS):             0.5957\n",
       "Covariance Type:            nonrobust                                         \n",
       "============================================================================================================\n",
       "                                               coef    std err          z      P>|z|      [0.025      0.975]\n",
       "------------------------------------------------------------------------------------------------------------\n",
       "const                                       -4.5867      0.166    -27.558      0.000      -4.913      -4.260\n",
       "Total Time Spent on Website                  4.2921      0.241     17.827      0.000       3.820       4.764\n",
       "Lead Origin_Lead Add Form                    1.8443      0.350      5.276      0.000       1.159       2.529\n",
       "Lead Source_Olark Chat                       1.4036      0.148      9.465      0.000       1.113       1.694\n",
       "Lead Source_Welingak Website                 3.7274      0.808      4.615      0.000       2.145       5.310\n",
       "Last Activity_Olark Chat Conversation       -1.6399      0.231     -7.091      0.000      -2.093      -1.187\n",
       "Tags_Closed by Horizzon                      7.4551      0.737     10.109      0.000       6.010       8.900\n",
       "Tags_Lost to EINS                            6.9260      0.617     11.218      0.000       5.716       8.136\n",
       "Tags_Others                                  1.5800      0.141     11.174      0.000       1.303       1.857\n",
       "Tags_Ringing                                -2.0150      0.266     -7.589      0.000      -2.535      -1.495\n",
       "Tags_Will revert after reading the email     5.9441      0.211     28.109      0.000       5.530       6.359\n",
       "Last Notable Activity_SMS Sent               2.6234      0.126     20.822      0.000       2.376       2.870\n",
       "============================================================================================================\n",
       "\"\"\""
      ]
     },
     "execution_count": 99,
     "metadata": {},
     "output_type": "execute_result"
    }
   ],
   "source": [
    "X_train_sm = sm.add_constant(X_train[col])\n",
    "logm5 = sm.GLM(y_train,X_train_sm, family = sm.families.Binomial())\n",
    "res = logm5.fit()\n",
    "res.summary()"
   ]
  },
  {
   "cell_type": "code",
   "execution_count": 100,
   "id": "1f1a603c",
   "metadata": {},
   "outputs": [
    {
     "data": {
      "text/html": [
       "<div>\n",
       "<style scoped>\n",
       "    .dataframe tbody tr th:only-of-type {\n",
       "        vertical-align: middle;\n",
       "    }\n",
       "\n",
       "    .dataframe tbody tr th {\n",
       "        vertical-align: top;\n",
       "    }\n",
       "\n",
       "    .dataframe thead th {\n",
       "        text-align: right;\n",
       "    }\n",
       "</style>\n",
       "<table border=\"1\" class=\"dataframe\">\n",
       "  <thead>\n",
       "    <tr style=\"text-align: right;\">\n",
       "      <th></th>\n",
       "      <th>Features</th>\n",
       "      <th>VIF</th>\n",
       "    </tr>\n",
       "  </thead>\n",
       "  <tbody>\n",
       "    <tr>\n",
       "      <th>0</th>\n",
       "      <td>Total Time Spent on Website</td>\n",
       "      <td>2.04</td>\n",
       "    </tr>\n",
       "    <tr>\n",
       "      <th>9</th>\n",
       "      <td>Tags_Will revert after reading the email</td>\n",
       "      <td>2.03</td>\n",
       "    </tr>\n",
       "    <tr>\n",
       "      <th>1</th>\n",
       "      <td>Lead Origin_Lead Add Form</td>\n",
       "      <td>1.82</td>\n",
       "    </tr>\n",
       "    <tr>\n",
       "      <th>2</th>\n",
       "      <td>Lead Source_Olark Chat</td>\n",
       "      <td>1.75</td>\n",
       "    </tr>\n",
       "    <tr>\n",
       "      <th>7</th>\n",
       "      <td>Tags_Others</td>\n",
       "      <td>1.75</td>\n",
       "    </tr>\n",
       "    <tr>\n",
       "      <th>10</th>\n",
       "      <td>Last Notable Activity_SMS Sent</td>\n",
       "      <td>1.53</td>\n",
       "    </tr>\n",
       "    <tr>\n",
       "      <th>4</th>\n",
       "      <td>Last Activity_Olark Chat Conversation</td>\n",
       "      <td>1.42</td>\n",
       "    </tr>\n",
       "    <tr>\n",
       "      <th>5</th>\n",
       "      <td>Tags_Closed by Horizzon</td>\n",
       "      <td>1.37</td>\n",
       "    </tr>\n",
       "    <tr>\n",
       "      <th>3</th>\n",
       "      <td>Lead Source_Welingak Website</td>\n",
       "      <td>1.31</td>\n",
       "    </tr>\n",
       "    <tr>\n",
       "      <th>8</th>\n",
       "      <td>Tags_Ringing</td>\n",
       "      <td>1.17</td>\n",
       "    </tr>\n",
       "    <tr>\n",
       "      <th>6</th>\n",
       "      <td>Tags_Lost to EINS</td>\n",
       "      <td>1.06</td>\n",
       "    </tr>\n",
       "  </tbody>\n",
       "</table>\n",
       "</div>"
      ],
      "text/plain": [
       "                                    Features   VIF\n",
       "0                Total Time Spent on Website  2.04\n",
       "9   Tags_Will revert after reading the email  2.03\n",
       "1                  Lead Origin_Lead Add Form  1.82\n",
       "2                     Lead Source_Olark Chat  1.75\n",
       "7                                Tags_Others  1.75\n",
       "10            Last Notable Activity_SMS Sent  1.53\n",
       "4      Last Activity_Olark Chat Conversation  1.42\n",
       "5                    Tags_Closed by Horizzon  1.37\n",
       "3               Lead Source_Welingak Website  1.31\n",
       "8                               Tags_Ringing  1.17\n",
       "6                          Tags_Lost to EINS  1.06"
      ]
     },
     "execution_count": 100,
     "metadata": {},
     "output_type": "execute_result"
    }
   ],
   "source": [
    "vif = pd.DataFrame()\n",
    "vif['Features'] = X_train[col].columns\n",
    "vif['VIF'] = [variance_inflation_factor(X_train[col].values, i) for i in range(X_train[col].shape[1])]\n",
    "vif['VIF'] = round(vif['VIF'], 2)\n",
    "vif = vif.sort_values(by = \"VIF\", ascending = False)\n",
    "vif"
   ]
  },
  {
   "cell_type": "markdown",
   "id": "81b47c4a",
   "metadata": {},
   "source": [
    "We can consider the above model as the final model as all the variables are having p value < 0.05 and VIF is also less than or equal to 2 for all the variables."
   ]
  },
  {
   "cell_type": "code",
   "execution_count": 101,
   "id": "ef5b7343",
   "metadata": {},
   "outputs": [],
   "source": [
    "# predicting y-variable\n",
    "y_train_pred = res.predict(X_train_sm).values.reshape(-1)"
   ]
  },
  {
   "cell_type": "code",
   "execution_count": 102,
   "id": "ba343bae",
   "metadata": {},
   "outputs": [
    {
     "data": {
      "text/plain": [
       "array([0.3867753 , 0.99543351, 0.01864676, 0.00208299, 0.06988085,\n",
       "       0.06584066, 0.01055869, 0.06430949, 0.03060105, 0.00356962])"
      ]
     },
     "execution_count": 102,
     "metadata": {},
     "output_type": "execute_result"
    }
   ],
   "source": [
    "y_train_pred[:10]"
   ]
  },
  {
   "cell_type": "code",
   "execution_count": 103,
   "id": "8e121e38",
   "metadata": {},
   "outputs": [
    {
     "data": {
      "text/html": [
       "<div>\n",
       "<style scoped>\n",
       "    .dataframe tbody tr th:only-of-type {\n",
       "        vertical-align: middle;\n",
       "    }\n",
       "\n",
       "    .dataframe tbody tr th {\n",
       "        vertical-align: top;\n",
       "    }\n",
       "\n",
       "    .dataframe thead th {\n",
       "        text-align: right;\n",
       "    }\n",
       "</style>\n",
       "<table border=\"1\" class=\"dataframe\">\n",
       "  <thead>\n",
       "    <tr style=\"text-align: right;\">\n",
       "      <th></th>\n",
       "      <th>Converted</th>\n",
       "      <th>Converted_Prob</th>\n",
       "      <th>Lead ID</th>\n",
       "    </tr>\n",
       "  </thead>\n",
       "  <tbody>\n",
       "    <tr>\n",
       "      <th>0</th>\n",
       "      <td>1</td>\n",
       "      <td>0.386775</td>\n",
       "      <td>5602</td>\n",
       "    </tr>\n",
       "    <tr>\n",
       "      <th>1</th>\n",
       "      <td>1</td>\n",
       "      <td>0.995434</td>\n",
       "      <td>5036</td>\n",
       "    </tr>\n",
       "    <tr>\n",
       "      <th>2</th>\n",
       "      <td>0</td>\n",
       "      <td>0.018647</td>\n",
       "      <td>8970</td>\n",
       "    </tr>\n",
       "    <tr>\n",
       "      <th>3</th>\n",
       "      <td>0</td>\n",
       "      <td>0.002083</td>\n",
       "      <td>5328</td>\n",
       "    </tr>\n",
       "    <tr>\n",
       "      <th>4</th>\n",
       "      <td>0</td>\n",
       "      <td>0.069881</td>\n",
       "      <td>1929</td>\n",
       "    </tr>\n",
       "  </tbody>\n",
       "</table>\n",
       "</div>"
      ],
      "text/plain": [
       "   Converted  Converted_Prob  Lead ID\n",
       "0          1        0.386775     5602\n",
       "1          1        0.995434     5036\n",
       "2          0        0.018647     8970\n",
       "3          0        0.002083     5328\n",
       "4          0        0.069881     1929"
      ]
     },
     "execution_count": 103,
     "metadata": {},
     "output_type": "execute_result"
    }
   ],
   "source": [
    "# Creating a dataframe with the actual Converted flag and the predicted probabilities\n",
    "y_train_pred_final = pd.DataFrame({'Converted':y_train.values, 'Converted_Prob':y_train_pred})\n",
    "y_train_pred_final['Lead ID'] = y_train.index\n",
    "y_train_pred_final.head()"
   ]
  },
  {
   "cell_type": "code",
   "execution_count": 104,
   "id": "7e776163",
   "metadata": {},
   "outputs": [
    {
     "data": {
      "text/html": [
       "<div>\n",
       "<style scoped>\n",
       "    .dataframe tbody tr th:only-of-type {\n",
       "        vertical-align: middle;\n",
       "    }\n",
       "\n",
       "    .dataframe tbody tr th {\n",
       "        vertical-align: top;\n",
       "    }\n",
       "\n",
       "    .dataframe thead th {\n",
       "        text-align: right;\n",
       "    }\n",
       "</style>\n",
       "<table border=\"1\" class=\"dataframe\">\n",
       "  <thead>\n",
       "    <tr style=\"text-align: right;\">\n",
       "      <th></th>\n",
       "      <th>Converted</th>\n",
       "      <th>Converted_Prob</th>\n",
       "      <th>Lead ID</th>\n",
       "      <th>predicted</th>\n",
       "    </tr>\n",
       "  </thead>\n",
       "  <tbody>\n",
       "    <tr>\n",
       "      <th>0</th>\n",
       "      <td>1</td>\n",
       "      <td>0.386775</td>\n",
       "      <td>5602</td>\n",
       "      <td>0</td>\n",
       "    </tr>\n",
       "    <tr>\n",
       "      <th>1</th>\n",
       "      <td>1</td>\n",
       "      <td>0.995434</td>\n",
       "      <td>5036</td>\n",
       "      <td>1</td>\n",
       "    </tr>\n",
       "    <tr>\n",
       "      <th>2</th>\n",
       "      <td>0</td>\n",
       "      <td>0.018647</td>\n",
       "      <td>8970</td>\n",
       "      <td>0</td>\n",
       "    </tr>\n",
       "    <tr>\n",
       "      <th>3</th>\n",
       "      <td>0</td>\n",
       "      <td>0.002083</td>\n",
       "      <td>5328</td>\n",
       "      <td>0</td>\n",
       "    </tr>\n",
       "    <tr>\n",
       "      <th>4</th>\n",
       "      <td>0</td>\n",
       "      <td>0.069881</td>\n",
       "      <td>1929</td>\n",
       "      <td>0</td>\n",
       "    </tr>\n",
       "  </tbody>\n",
       "</table>\n",
       "</div>"
      ],
      "text/plain": [
       "   Converted  Converted_Prob  Lead ID  predicted\n",
       "0          1        0.386775     5602          0\n",
       "1          1        0.995434     5036          1\n",
       "2          0        0.018647     8970          0\n",
       "3          0        0.002083     5328          0\n",
       "4          0        0.069881     1929          0"
      ]
     },
     "execution_count": 104,
     "metadata": {},
     "output_type": "execute_result"
    }
   ],
   "source": [
    "# Creating new column 'predicted' with 1 if Converted_Prob > 0.5 else 0\n",
    "y_train_pred_final['predicted'] = y_train_pred_final.Converted_Prob.map(lambda x: 1 if x > 0.5 else 0)\n",
    "\n",
    "y_train_pred_final.head()"
   ]
  },
  {
   "cell_type": "code",
   "execution_count": 105,
   "id": "e5e6eb99",
   "metadata": {},
   "outputs": [
    {
     "name": "stdout",
     "output_type": "stream",
     "text": [
      "[[3668  149]\n",
      " [ 324 2000]]\n"
     ]
    }
   ],
   "source": [
    "# confusion matrix\n",
    "from sklearn import metrics\n",
    "\n",
    "confusion = metrics.confusion_matrix(y_train_pred_final.Converted, y_train_pred_final.predicted )\n",
    "print(confusion)"
   ]
  },
  {
   "cell_type": "code",
   "execution_count": 106,
   "id": "fa2106ff",
   "metadata": {},
   "outputs": [
    {
     "name": "stdout",
     "output_type": "stream",
     "text": [
      "0.9229767138902459\n"
     ]
    }
   ],
   "source": [
    "# Let's check the overall accuracy.\n",
    "print(metrics.accuracy_score(y_train_pred_final.Converted, y_train_pred_final.predicted))"
   ]
  },
  {
   "cell_type": "markdown",
   "id": "0d7b1e86",
   "metadata": {},
   "source": [
    "#### Metrics beyond accuracy"
   ]
  },
  {
   "cell_type": "code",
   "execution_count": 107,
   "id": "2e28954b",
   "metadata": {},
   "outputs": [],
   "source": [
    "TP = confusion[1,1] # true positive \n",
    "TN = confusion[0,0] # true negatives\n",
    "FP = confusion[0,1] # false positives\n",
    "FN = confusion[1,0] # false negatives"
   ]
  },
  {
   "cell_type": "code",
   "execution_count": 108,
   "id": "5107f9e7",
   "metadata": {},
   "outputs": [
    {
     "data": {
      "text/plain": [
       "0.8605851979345955"
      ]
     },
     "execution_count": 108,
     "metadata": {},
     "output_type": "execute_result"
    }
   ],
   "source": [
    "# Sensitivity of our logistic regression model\n",
    "TP / float(TP+FN)"
   ]
  },
  {
   "cell_type": "code",
   "execution_count": 109,
   "id": "3b17a4b5",
   "metadata": {},
   "outputs": [
    {
     "data": {
      "text/plain": [
       "0.9609641079381713"
      ]
     },
     "execution_count": 109,
     "metadata": {},
     "output_type": "execute_result"
    }
   ],
   "source": [
    "# Specificity\n",
    "TN / float(TN+FP)"
   ]
  },
  {
   "cell_type": "code",
   "execution_count": 110,
   "id": "5b0e1757",
   "metadata": {},
   "outputs": [
    {
     "name": "stdout",
     "output_type": "stream",
     "text": [
      "0.03903589206182866\n"
     ]
    }
   ],
   "source": [
    "# false postive rate - predicting Converted when customer does not Converted\n",
    "print(FP/ float(TN+FP))"
   ]
  },
  {
   "cell_type": "code",
   "execution_count": 111,
   "id": "e03953db",
   "metadata": {},
   "outputs": [
    {
     "name": "stdout",
     "output_type": "stream",
     "text": [
      "0.9306654257794323\n"
     ]
    }
   ],
   "source": [
    "# positive predictive value \n",
    "print (TP / float(TP+FP))"
   ]
  },
  {
   "cell_type": "code",
   "execution_count": 112,
   "id": "41e2051a",
   "metadata": {},
   "outputs": [
    {
     "name": "stdout",
     "output_type": "stream",
     "text": [
      "0.9188376753507014\n"
     ]
    }
   ],
   "source": [
    "# Negative predictive value\n",
    "print (TN / float(TN+ FN))"
   ]
  },
  {
   "cell_type": "markdown",
   "id": "6cfd39b3",
   "metadata": {},
   "source": [
    "### Step 9: Plotting the ROC Curve"
   ]
  },
  {
   "cell_type": "code",
   "execution_count": 113,
   "id": "620cb10d",
   "metadata": {},
   "outputs": [],
   "source": [
    "def draw_roc( actual, probs ):\n",
    "    fpr, tpr, thresholds = metrics.roc_curve( actual, probs,\n",
    "                                              drop_intermediate = False )\n",
    "    auc_score = metrics.roc_auc_score( actual, probs )\n",
    "    plt.figure(figsize=(5, 5))\n",
    "    plt.plot( fpr, tpr, label='ROC curve (area = %0.2f)' % auc_score )\n",
    "    plt.plot([0, 1], [0, 1], 'k--')\n",
    "    plt.xlim([0.0, 1.0])\n",
    "    plt.ylim([0.0, 1.05])\n",
    "    plt.xlabel('False Positive Rate or [1 - True Negative Rate]')\n",
    "    plt.ylabel('True Positive Rate')\n",
    "    plt.title('Receiver operating characteristic example')\n",
    "    plt.legend(loc=\"lower right\")\n",
    "    plt.show()\n",
    "\n",
    "    return None"
   ]
  },
  {
   "cell_type": "code",
   "execution_count": 114,
   "id": "50318a22",
   "metadata": {},
   "outputs": [],
   "source": [
    "fpr, tpr, thresholds = metrics.roc_curve( y_train_pred_final.Converted, y_train_pred_final.Converted_Prob, drop_intermediate = False )"
   ]
  },
  {
   "cell_type": "code",
   "execution_count": 115,
   "id": "c4de1762",
   "metadata": {},
   "outputs": [
    {
     "data": {
      "image/png": "[encoded data removed]",
      "text/plain": [
       "<Figure size 360x360 with 1 Axes>"
      ]
     },
     "metadata": {
      "needs_background": "light"
     },
     "output_type": "display_data"
    }
   ],
   "source": [
    "draw_roc(y_train_pred_final.Converted, y_train_pred_final.Converted_Prob)"
   ]
  },
  {
   "cell_type": "markdown",
   "id": "4cc09f73",
   "metadata": {},
   "source": [
    "### Step 10: Finding Optimal Cutoff Point"
   ]
  },
  {
   "cell_type": "code",
   "execution_count": 116,
   "id": "9b2d6ba4",
   "metadata": {},
   "outputs": [
    {
     "data": {
      "text/html": [
       "<div>\n",
       "<style scoped>\n",
       "    .dataframe tbody tr th:only-of-type {\n",
       "        vertical-align: middle;\n",
       "    }\n",
       "\n",
       "    .dataframe tbody tr th {\n",
       "        vertical-align: top;\n",
       "    }\n",
       "\n",
       "    .dataframe thead th {\n",
       "        text-align: right;\n",
       "    }\n",
       "</style>\n",
       "<table border=\"1\" class=\"dataframe\">\n",
       "  <thead>\n",
       "    <tr style=\"text-align: right;\">\n",
       "      <th></th>\n",
       "      <th>Converted</th>\n",
       "      <th>Converted_Prob</th>\n",
       "      <th>Lead ID</th>\n",
       "      <th>predicted</th>\n",
       "      <th>0.0</th>\n",
       "      <th>0.1</th>\n",
       "      <th>0.2</th>\n",
       "      <th>0.3</th>\n",
       "      <th>0.4</th>\n",
       "      <th>0.5</th>\n",
       "      <th>0.6</th>\n",
       "      <th>0.7</th>\n",
       "      <th>0.8</th>\n",
       "      <th>0.9</th>\n",
       "    </tr>\n",
       "  </thead>\n",
       "  <tbody>\n",
       "    <tr>\n",
       "      <th>0</th>\n",
       "      <td>1</td>\n",
       "      <td>0.386775</td>\n",
       "      <td>5602</td>\n",
       "      <td>0</td>\n",
       "      <td>1</td>\n",
       "      <td>1</td>\n",
       "      <td>1</td>\n",
       "      <td>1</td>\n",
       "      <td>0</td>\n",
       "      <td>0</td>\n",
       "      <td>0</td>\n",
       "      <td>0</td>\n",
       "      <td>0</td>\n",
       "      <td>0</td>\n",
       "    </tr>\n",
       "    <tr>\n",
       "      <th>1</th>\n",
       "      <td>1</td>\n",
       "      <td>0.995434</td>\n",
       "      <td>5036</td>\n",
       "      <td>1</td>\n",
       "      <td>1</td>\n",
       "      <td>1</td>\n",
       "      <td>1</td>\n",
       "      <td>1</td>\n",
       "      <td>1</td>\n",
       "      <td>1</td>\n",
       "      <td>1</td>\n",
       "      <td>1</td>\n",
       "      <td>1</td>\n",
       "      <td>1</td>\n",
       "    </tr>\n",
       "    <tr>\n",
       "      <th>2</th>\n",
       "      <td>0</td>\n",
       "      <td>0.018647</td>\n",
       "      <td>8970</td>\n",
       "      <td>0</td>\n",
       "      <td>1</td>\n",
       "      <td>0</td>\n",
       "      <td>0</td>\n",
       "      <td>0</td>\n",
       "      <td>0</td>\n",
       "      <td>0</td>\n",
       "      <td>0</td>\n",
       "      <td>0</td>\n",
       "      <td>0</td>\n",
       "      <td>0</td>\n",
       "    </tr>\n",
       "    <tr>\n",
       "      <th>3</th>\n",
       "      <td>0</td>\n",
       "      <td>0.002083</td>\n",
       "      <td>5328</td>\n",
       "      <td>0</td>\n",
       "      <td>1</td>\n",
       "      <td>0</td>\n",
       "      <td>0</td>\n",
       "      <td>0</td>\n",
       "      <td>0</td>\n",
       "      <td>0</td>\n",
       "      <td>0</td>\n",
       "      <td>0</td>\n",
       "      <td>0</td>\n",
       "      <td>0</td>\n",
       "    </tr>\n",
       "    <tr>\n",
       "      <th>4</th>\n",
       "      <td>0</td>\n",
       "      <td>0.069881</td>\n",
       "      <td>1929</td>\n",
       "      <td>0</td>\n",
       "      <td>1</td>\n",
       "      <td>0</td>\n",
       "      <td>0</td>\n",
       "      <td>0</td>\n",
       "      <td>0</td>\n",
       "      <td>0</td>\n",
       "      <td>0</td>\n",
       "      <td>0</td>\n",
       "      <td>0</td>\n",
       "      <td>0</td>\n",
       "    </tr>\n",
       "  </tbody>\n",
       "</table>\n",
       "</div>"
      ],
      "text/plain": [
       "   Converted  Converted_Prob  Lead ID  predicted  0.0  0.1  0.2  0.3  0.4  \\\n",
       "0          1        0.386775     5602          0    1    1    1    1    0   \n",
       "1          1        0.995434     5036          1    1    1    1    1    1   \n",
       "2          0        0.018647     8970          0    1    0    0    0    0   \n",
       "3          0        0.002083     5328          0    1    0    0    0    0   \n",
       "4          0        0.069881     1929          0    1    0    0    0    0   \n",
       "\n",
       "   0.5  0.6  0.7  0.8  0.9  \n",
       "0    0    0    0    0    0  \n",
       "1    1    1    1    1    1  \n",
       "2    0    0    0    0    0  \n",
       "3    0    0    0    0    0  \n",
       "4    0    0    0    0    0  "
      ]
     },
     "execution_count": 116,
     "metadata": {},
     "output_type": "execute_result"
    }
   ],
   "source": [
    "# Creating columns with different probability cutoffs \n",
    "numbers = [float(x)/10 for x in range(10)]\n",
    "for i in numbers:\n",
    "    y_train_pred_final[i]= y_train_pred_final.Converted_Prob.map(lambda x: 1 if x > i else 0)\n",
    "y_train_pred_final.head()"
   ]
  },
  {
   "cell_type": "code",
   "execution_count": 117,
   "id": "065f1568",
   "metadata": {},
   "outputs": [
    {
     "name": "stdout",
     "output_type": "stream",
     "text": [
      "     prob  accuracy     sensi     speci\n",
      "0.0   0.0  0.378440  1.000000  0.000000\n",
      "0.1   0.1  0.831786  0.965146  0.750589\n",
      "0.2   0.2  0.904576  0.917814  0.896516\n",
      "0.3   0.3  0.914509  0.898021  0.924548\n",
      "0.4   0.4  0.921023  0.882100  0.944721\n",
      "0.5   0.5  0.922977  0.860585  0.960964\n",
      "0.6   0.6  0.922977  0.845955  0.969872\n",
      "0.7   0.7  0.922000  0.833046  0.976159\n",
      "0.8   0.8  0.906530  0.781411  0.982709\n",
      "0.9   0.9  0.884058  0.708262  0.991092\n"
     ]
    }
   ],
   "source": [
    "# Calculating accuracy sensitivity and specificity for various probability cutoffs.\n",
    "cutoff_df = pd.DataFrame( columns = ['prob','accuracy','sensi','speci'])\n",
    "from sklearn.metrics import confusion_matrix\n",
    "\n",
    "# TP = confusion[1,1] # true positive \n",
    "# TN = confusion[0,0] # true negatives\n",
    "# FP = confusion[0,1] # false positives\n",
    "# FN = confusion[1,0] # false negatives\n",
    "\n",
    "num = [0.0,0.1,0.2,0.3,0.4,0.5,0.6,0.7,0.8,0.9]\n",
    "for i in num:\n",
    "    cm1 = metrics.confusion_matrix(y_train_pred_final.Converted, y_train_pred_final[i] )\n",
    "    total1=sum(sum(cm1))\n",
    "    accuracy = (cm1[0,0]+cm1[1,1])/total1\n",
    "    \n",
    "    speci = cm1[0,0]/(cm1[0,0]+cm1[0,1])\n",
    "    sensi = cm1[1,1]/(cm1[1,0]+cm1[1,1])\n",
    "    cutoff_df.loc[i] =[ i ,accuracy,sensi,speci]\n",
    "print(cutoff_df)"
   ]
  },
  {
   "cell_type": "code",
   "execution_count": 118,
   "id": "0ea509a8",
   "metadata": {},
   "outputs": [
    {
     "data": {
      "text/plain": [
       "<Figure size 2160x360 with 0 Axes>"
      ]
     },
     "metadata": {},
     "output_type": "display_data"
    },
    {
     "data": {
      "image/png": "[encoded data removed]",
      "text/plain": [
       "<Figure size 432x288 with 1 Axes>"
      ]
     },
     "metadata": {
      "needs_background": "light"
     },
     "output_type": "display_data"
    }
   ],
   "source": [
    "# Plotting accuracy sensitivity and specificity for various probabilities.\n",
    "plt.figure(figsize=(30,5))\n",
    "cutoff_df.plot.line(x='prob', y=['accuracy','sensi','speci'])\n",
    "plt.xticks(np.arange(0,1,step=0.05))\n",
    "plt.xticks(rotation=90)\n",
    "plt.show()"
   ]
  },
  {
   "cell_type": "markdown",
   "id": "07752537",
   "metadata": {},
   "source": [
    "From the curve above, 0.25 is the optimum point to take it as a cutoff probability."
   ]
  },
  {
   "cell_type": "code",
   "execution_count": 119,
   "id": "d2acba97",
   "metadata": {},
   "outputs": [
    {
     "data": {
      "text/html": [
       "<div>\n",
       "<style scoped>\n",
       "    .dataframe tbody tr th:only-of-type {\n",
       "        vertical-align: middle;\n",
       "    }\n",
       "\n",
       "    .dataframe tbody tr th {\n",
       "        vertical-align: top;\n",
       "    }\n",
       "\n",
       "    .dataframe thead th {\n",
       "        text-align: right;\n",
       "    }\n",
       "</style>\n",
       "<table border=\"1\" class=\"dataframe\">\n",
       "  <thead>\n",
       "    <tr style=\"text-align: right;\">\n",
       "      <th></th>\n",
       "      <th>Converted</th>\n",
       "      <th>Converted_Prob</th>\n",
       "      <th>Lead ID</th>\n",
       "      <th>predicted</th>\n",
       "      <th>0.0</th>\n",
       "      <th>0.1</th>\n",
       "      <th>0.2</th>\n",
       "      <th>0.3</th>\n",
       "      <th>0.4</th>\n",
       "      <th>0.5</th>\n",
       "      <th>0.6</th>\n",
       "      <th>0.7</th>\n",
       "      <th>0.8</th>\n",
       "      <th>0.9</th>\n",
       "      <th>final_predicted</th>\n",
       "    </tr>\n",
       "  </thead>\n",
       "  <tbody>\n",
       "    <tr>\n",
       "      <th>0</th>\n",
       "      <td>1</td>\n",
       "      <td>0.386775</td>\n",
       "      <td>5602</td>\n",
       "      <td>0</td>\n",
       "      <td>1</td>\n",
       "      <td>1</td>\n",
       "      <td>1</td>\n",
       "      <td>1</td>\n",
       "      <td>0</td>\n",
       "      <td>0</td>\n",
       "      <td>0</td>\n",
       "      <td>0</td>\n",
       "      <td>0</td>\n",
       "      <td>0</td>\n",
       "      <td>1</td>\n",
       "    </tr>\n",
       "    <tr>\n",
       "      <th>1</th>\n",
       "      <td>1</td>\n",
       "      <td>0.995434</td>\n",
       "      <td>5036</td>\n",
       "      <td>1</td>\n",
       "      <td>1</td>\n",
       "      <td>1</td>\n",
       "      <td>1</td>\n",
       "      <td>1</td>\n",
       "      <td>1</td>\n",
       "      <td>1</td>\n",
       "      <td>1</td>\n",
       "      <td>1</td>\n",
       "      <td>1</td>\n",
       "      <td>1</td>\n",
       "      <td>1</td>\n",
       "    </tr>\n",
       "    <tr>\n",
       "      <th>2</th>\n",
       "      <td>0</td>\n",
       "      <td>0.018647</td>\n",
       "      <td>8970</td>\n",
       "      <td>0</td>\n",
       "      <td>1</td>\n",
       "      <td>0</td>\n",
       "      <td>0</td>\n",
       "      <td>0</td>\n",
       "      <td>0</td>\n",
       "      <td>0</td>\n",
       "      <td>0</td>\n",
       "      <td>0</td>\n",
       "      <td>0</td>\n",
       "      <td>0</td>\n",
       "      <td>0</td>\n",
       "    </tr>\n",
       "    <tr>\n",
       "      <th>3</th>\n",
       "      <td>0</td>\n",
       "      <td>0.002083</td>\n",
       "      <td>5328</td>\n",
       "      <td>0</td>\n",
       "      <td>1</td>\n",
       "      <td>0</td>\n",
       "      <td>0</td>\n",
       "      <td>0</td>\n",
       "      <td>0</td>\n",
       "      <td>0</td>\n",
       "      <td>0</td>\n",
       "      <td>0</td>\n",
       "      <td>0</td>\n",
       "      <td>0</td>\n",
       "      <td>0</td>\n",
       "    </tr>\n",
       "    <tr>\n",
       "      <th>4</th>\n",
       "      <td>0</td>\n",
       "      <td>0.069881</td>\n",
       "      <td>1929</td>\n",
       "      <td>0</td>\n",
       "      <td>1</td>\n",
       "      <td>0</td>\n",
       "      <td>0</td>\n",
       "      <td>0</td>\n",
       "      <td>0</td>\n",
       "      <td>0</td>\n",
       "      <td>0</td>\n",
       "      <td>0</td>\n",
       "      <td>0</td>\n",
       "      <td>0</td>\n",
       "      <td>0</td>\n",
       "    </tr>\n",
       "  </tbody>\n",
       "</table>\n",
       "</div>"
      ],
      "text/plain": [
       "   Converted  Converted_Prob  Lead ID  predicted  0.0  0.1  0.2  0.3  0.4  \\\n",
       "0          1        0.386775     5602          0    1    1    1    1    0   \n",
       "1          1        0.995434     5036          1    1    1    1    1    1   \n",
       "2          0        0.018647     8970          0    1    0    0    0    0   \n",
       "3          0        0.002083     5328          0    1    0    0    0    0   \n",
       "4          0        0.069881     1929          0    1    0    0    0    0   \n",
       "\n",
       "   0.5  0.6  0.7  0.8  0.9  final_predicted  \n",
       "0    0    0    0    0    0                1  \n",
       "1    1    1    1    1    1                1  \n",
       "2    0    0    0    0    0                0  \n",
       "3    0    0    0    0    0                0  \n",
       "4    0    0    0    0    0                0  "
      ]
     },
     "execution_count": 119,
     "metadata": {},
     "output_type": "execute_result"
    }
   ],
   "source": [
    "y_train_pred_final['final_predicted'] = y_train_pred_final.Converted_Prob.map( lambda x: 1 if x > 0.25 else 0)\n",
    "\n",
    "y_train_pred_final.head()"
   ]
  },
  {
   "cell_type": "code",
   "execution_count": 120,
   "id": "ac4ae864",
   "metadata": {},
   "outputs": [
    {
     "data": {
      "text/plain": [
       "0.9110893991206643"
      ]
     },
     "execution_count": 120,
     "metadata": {},
     "output_type": "execute_result"
    }
   ],
   "source": [
    "# Checking the overall accuracy.\n",
    "metrics.accuracy_score(y_train_pred_final.Converted, y_train_pred_final.final_predicted)"
   ]
  },
  {
   "cell_type": "code",
   "execution_count": 121,
   "id": "d3f2c738",
   "metadata": {},
   "outputs": [
    {
     "data": {
      "text/plain": [
       "array([[3489,  328],\n",
       "       [ 218, 2106]], dtype=int64)"
      ]
     },
     "execution_count": 121,
     "metadata": {},
     "output_type": "execute_result"
    }
   ],
   "source": [
    "confusion1 = metrics.confusion_matrix(y_train_pred_final.Converted, y_train_pred_final.final_predicted )\n",
    "confusion1"
   ]
  },
  {
   "cell_type": "code",
   "execution_count": 122,
   "id": "0b4ba011",
   "metadata": {},
   "outputs": [],
   "source": [
    "TP = confusion1[1,1] # true positive \n",
    "TN = confusion1[0,0] # true negatives\n",
    "FP = confusion1[0,1] # false positives\n",
    "FN = confusion1[1,0] # false negatives"
   ]
  },
  {
   "cell_type": "code",
   "execution_count": 123,
   "id": "1e72f05b",
   "metadata": {},
   "outputs": [
    {
     "data": {
      "text/plain": [
       "0.9061962134251291"
      ]
     },
     "execution_count": 123,
     "metadata": {},
     "output_type": "execute_result"
    }
   ],
   "source": [
    "# Sensitivity (or recall) of our logistic regression model\n",
    "TP / float(TP+FN)"
   ]
  },
  {
   "cell_type": "code",
   "execution_count": 124,
   "id": "755d2484",
   "metadata": {},
   "outputs": [
    {
     "data": {
      "text/plain": [
       "0.9140686402934242"
      ]
     },
     "execution_count": 124,
     "metadata": {},
     "output_type": "execute_result"
    }
   ],
   "source": [
    "# Specificity\n",
    "TN / float(TN+FP)"
   ]
  },
  {
   "cell_type": "code",
   "execution_count": 125,
   "id": "3d2f1093",
   "metadata": {},
   "outputs": [
    {
     "name": "stdout",
     "output_type": "stream",
     "text": [
      "0.08593135970657584\n"
     ]
    }
   ],
   "source": [
    "# false postive rate \n",
    "print(FP/ float(TN+FP))"
   ]
  },
  {
   "cell_type": "code",
   "execution_count": 126,
   "id": "9e3fa654",
   "metadata": {},
   "outputs": [
    {
     "name": "stdout",
     "output_type": "stream",
     "text": [
      "0.8652423993426458\n"
     ]
    }
   ],
   "source": [
    "# Positive predictive value or precision score\n",
    "print (TP / float(TP+FP))"
   ]
  },
  {
   "cell_type": "code",
   "execution_count": 127,
   "id": "4cc267ba",
   "metadata": {},
   "outputs": [
    {
     "name": "stdout",
     "output_type": "stream",
     "text": [
      "0.9411923388184515\n"
     ]
    }
   ],
   "source": [
    "# Negative predictive value\n",
    "print (TN / float(TN+ FN))"
   ]
  },
  {
   "cell_type": "code",
   "execution_count": 128,
   "id": "4846d9ab",
   "metadata": {},
   "outputs": [],
   "source": [
    "from sklearn.metrics import precision_score, recall_score"
   ]
  },
  {
   "cell_type": "code",
   "execution_count": 129,
   "id": "cd1e88b8",
   "metadata": {},
   "outputs": [
    {
     "data": {
      "text/plain": [
       "0.8652423993426458"
      ]
     },
     "execution_count": 129,
     "metadata": {},
     "output_type": "execute_result"
    }
   ],
   "source": [
    "precision_score(y_train_pred_final.Converted, y_train_pred_final.final_predicted)"
   ]
  },
  {
   "cell_type": "code",
   "execution_count": 130,
   "id": "deb811eb",
   "metadata": {},
   "outputs": [
    {
     "data": {
      "text/plain": [
       "0.9061962134251291"
      ]
     },
     "execution_count": 130,
     "metadata": {},
     "output_type": "execute_result"
    }
   ],
   "source": [
    "recall_score(y_train_pred_final.Converted, y_train_pred_final.final_predicted)"
   ]
  },
  {
   "cell_type": "markdown",
   "id": "bcff2535",
   "metadata": {},
   "source": [
    "#### Precision and recall tradeoff"
   ]
  },
  {
   "cell_type": "code",
   "execution_count": 131,
   "id": "f6fedd81",
   "metadata": {},
   "outputs": [],
   "source": [
    "from sklearn.metrics import precision_recall_curve"
   ]
  },
  {
   "cell_type": "code",
   "execution_count": 132,
   "id": "5b1f8a6d",
   "metadata": {},
   "outputs": [
    {
     "data": {
      "text/plain": [
       "(0       1\n",
       " 1       1\n",
       " 2       0\n",
       " 3       0\n",
       " 4       0\n",
       "        ..\n",
       " 6136    1\n",
       " 6137    0\n",
       " 6138    0\n",
       " 6139    0\n",
       " 6140    0\n",
       " Name: Converted, Length: 6141, dtype: int64,\n",
       " 0       0\n",
       " 1       1\n",
       " 2       0\n",
       " 3       0\n",
       " 4       0\n",
       "        ..\n",
       " 6136    1\n",
       " 6137    0\n",
       " 6138    0\n",
       " 6139    0\n",
       " 6140    0\n",
       " Name: predicted, Length: 6141, dtype: int64)"
      ]
     },
     "execution_count": 132,
     "metadata": {},
     "output_type": "execute_result"
    }
   ],
   "source": [
    "y_train_pred_final.Converted, y_train_pred_final.predicted"
   ]
  },
  {
   "cell_type": "code",
   "execution_count": 133,
   "id": "1aaaac0f",
   "metadata": {},
   "outputs": [],
   "source": [
    "p, r, thresholds = precision_recall_curve(y_train_pred_final.Converted, y_train_pred_final.Converted_Prob)"
   ]
  },
  {
   "cell_type": "code",
   "execution_count": 134,
   "id": "5a7efe63",
   "metadata": {},
   "outputs": [
    {
     "data": {
      "image/png": "[encoded data removed]",
      "text/plain": [
       "<Figure size 720x360 with 1 Axes>"
      ]
     },
     "metadata": {
      "needs_background": "light"
     },
     "output_type": "display_data"
    }
   ],
   "source": [
    "plt.figure(figsize=(10,5))\n",
    "plt.plot(thresholds, p[:-1], \"g-\")\n",
    "plt.plot(thresholds, r[:-1], \"r-\")\n",
    "plt.xticks(np.arange(0,1,step=0.05))\n",
    "plt.xticks(rotation=90)\n",
    "plt.show()"
   ]
  },
  {
   "cell_type": "markdown",
   "id": "e3ca23f8",
   "metadata": {},
   "source": [
    "From the curve above, 0.35 is the optimum point based on recall-precision tradeoff but at 0.25 we are getting approximately similar results in terms of conversion probability so we will take 0.25 as the cut off as we want the model to have higher sensitivity."
   ]
  },
  {
   "cell_type": "markdown",
   "id": "6a84cb25",
   "metadata": {},
   "source": [
    "### Step 11: Making predictions on the test set"
   ]
  },
  {
   "cell_type": "code",
   "execution_count": 135,
   "id": "da45b678",
   "metadata": {},
   "outputs": [],
   "source": [
    "# X-test, y-test\n",
    "y_test=leads_test.pop('Converted')\n",
    "X_test=leads_test.iloc[:,1:]"
   ]
  },
  {
   "cell_type": "code",
   "execution_count": 136,
   "id": "90001505",
   "metadata": {},
   "outputs": [
    {
     "name": "stdout",
     "output_type": "stream",
     "text": [
      "(2632, 100)\n",
      "(2632,)\n"
     ]
    }
   ],
   "source": [
    "print(X_test.shape)\n",
    "print(y_test.shape)"
   ]
  },
  {
   "cell_type": "code",
   "execution_count": 137,
   "id": "e8a9f28f",
   "metadata": {},
   "outputs": [
    {
     "data": {
      "text/html": [
       "<div>\n",
       "<style scoped>\n",
       "    .dataframe tbody tr th:only-of-type {\n",
       "        vertical-align: middle;\n",
       "    }\n",
       "\n",
       "    .dataframe tbody tr th {\n",
       "        vertical-align: top;\n",
       "    }\n",
       "\n",
       "    .dataframe thead th {\n",
       "        text-align: right;\n",
       "    }\n",
       "</style>\n",
       "<table border=\"1\" class=\"dataframe\">\n",
       "  <thead>\n",
       "    <tr style=\"text-align: right;\">\n",
       "      <th></th>\n",
       "      <th>Do Not Email</th>\n",
       "      <th>TotalVisits</th>\n",
       "      <th>Total Time Spent on Website</th>\n",
       "      <th>Page Views Per Visit</th>\n",
       "      <th>A free copy of Mastering The Interview</th>\n",
       "      <th>Lead Origin_Landing Page Submission</th>\n",
       "      <th>Lead Origin_Lead Add Form</th>\n",
       "      <th>Lead Origin_Lead Import</th>\n",
       "      <th>Lead Origin_Quick Add Form</th>\n",
       "      <th>Lead Source_Direct Traffic</th>\n",
       "      <th>...</th>\n",
       "      <th>Last Notable Activity_Form Submitted on Website</th>\n",
       "      <th>Last Notable Activity_Had a Phone Conversation</th>\n",
       "      <th>Last Notable Activity_Modified</th>\n",
       "      <th>Last Notable Activity_Olark Chat Conversation</th>\n",
       "      <th>Last Notable Activity_Page Visited on Website</th>\n",
       "      <th>Last Notable Activity_Resubscribed to emails</th>\n",
       "      <th>Last Notable Activity_SMS Sent</th>\n",
       "      <th>Last Notable Activity_Unreachable</th>\n",
       "      <th>Last Notable Activity_Unsubscribed</th>\n",
       "      <th>Last Notable Activity_View in browser link Clicked</th>\n",
       "    </tr>\n",
       "  </thead>\n",
       "  <tbody>\n",
       "    <tr>\n",
       "      <th>4595</th>\n",
       "      <td>0</td>\n",
       "      <td>4.0</td>\n",
       "      <td>1411</td>\n",
       "      <td>4.0</td>\n",
       "      <td>0</td>\n",
       "      <td>1</td>\n",
       "      <td>0</td>\n",
       "      <td>0</td>\n",
       "      <td>0</td>\n",
       "      <td>0</td>\n",
       "      <td>...</td>\n",
       "      <td>0</td>\n",
       "      <td>0</td>\n",
       "      <td>0</td>\n",
       "      <td>0</td>\n",
       "      <td>0</td>\n",
       "      <td>0</td>\n",
       "      <td>1</td>\n",
       "      <td>0</td>\n",
       "      <td>0</td>\n",
       "      <td>0</td>\n",
       "    </tr>\n",
       "    <tr>\n",
       "      <th>898</th>\n",
       "      <td>0</td>\n",
       "      <td>2.0</td>\n",
       "      <td>164</td>\n",
       "      <td>2.0</td>\n",
       "      <td>0</td>\n",
       "      <td>1</td>\n",
       "      <td>0</td>\n",
       "      <td>0</td>\n",
       "      <td>0</td>\n",
       "      <td>0</td>\n",
       "      <td>...</td>\n",
       "      <td>0</td>\n",
       "      <td>0</td>\n",
       "      <td>1</td>\n",
       "      <td>0</td>\n",
       "      <td>0</td>\n",
       "      <td>0</td>\n",
       "      <td>0</td>\n",
       "      <td>0</td>\n",
       "      <td>0</td>\n",
       "      <td>0</td>\n",
       "    </tr>\n",
       "    <tr>\n",
       "      <th>6597</th>\n",
       "      <td>0</td>\n",
       "      <td>4.0</td>\n",
       "      <td>102</td>\n",
       "      <td>4.0</td>\n",
       "      <td>0</td>\n",
       "      <td>1</td>\n",
       "      <td>0</td>\n",
       "      <td>0</td>\n",
       "      <td>0</td>\n",
       "      <td>0</td>\n",
       "      <td>...</td>\n",
       "      <td>0</td>\n",
       "      <td>0</td>\n",
       "      <td>0</td>\n",
       "      <td>0</td>\n",
       "      <td>0</td>\n",
       "      <td>0</td>\n",
       "      <td>0</td>\n",
       "      <td>0</td>\n",
       "      <td>0</td>\n",
       "      <td>0</td>\n",
       "    </tr>\n",
       "    <tr>\n",
       "      <th>8303</th>\n",
       "      <td>1</td>\n",
       "      <td>3.0</td>\n",
       "      <td>63</td>\n",
       "      <td>3.0</td>\n",
       "      <td>1</td>\n",
       "      <td>1</td>\n",
       "      <td>0</td>\n",
       "      <td>0</td>\n",
       "      <td>0</td>\n",
       "      <td>1</td>\n",
       "      <td>...</td>\n",
       "      <td>0</td>\n",
       "      <td>0</td>\n",
       "      <td>1</td>\n",
       "      <td>0</td>\n",
       "      <td>0</td>\n",
       "      <td>0</td>\n",
       "      <td>0</td>\n",
       "      <td>0</td>\n",
       "      <td>0</td>\n",
       "      <td>0</td>\n",
       "    </tr>\n",
       "    <tr>\n",
       "      <th>4300</th>\n",
       "      <td>0</td>\n",
       "      <td>2.0</td>\n",
       "      <td>1271</td>\n",
       "      <td>2.0</td>\n",
       "      <td>0</td>\n",
       "      <td>0</td>\n",
       "      <td>0</td>\n",
       "      <td>0</td>\n",
       "      <td>0</td>\n",
       "      <td>0</td>\n",
       "      <td>...</td>\n",
       "      <td>0</td>\n",
       "      <td>0</td>\n",
       "      <td>0</td>\n",
       "      <td>0</td>\n",
       "      <td>0</td>\n",
       "      <td>0</td>\n",
       "      <td>0</td>\n",
       "      <td>0</td>\n",
       "      <td>0</td>\n",
       "      <td>0</td>\n",
       "    </tr>\n",
       "  </tbody>\n",
       "</table>\n",
       "<p>5 rows × 100 columns</p>\n",
       "</div>"
      ],
      "text/plain": [
       "      Do Not Email  TotalVisits  Total Time Spent on Website  \\\n",
       "4595             0          4.0                         1411   \n",
       "898              0          2.0                          164   \n",
       "6597             0          4.0                          102   \n",
       "8303             1          3.0                           63   \n",
       "4300             0          2.0                         1271   \n",
       "\n",
       "      Page Views Per Visit  A free copy of Mastering The Interview  \\\n",
       "4595                   4.0                                       0   \n",
       "898                    2.0                                       0   \n",
       "6597                   4.0                                       0   \n",
       "8303                   3.0                                       1   \n",
       "4300                   2.0                                       0   \n",
       "\n",
       "      Lead Origin_Landing Page Submission  Lead Origin_Lead Add Form  \\\n",
       "4595                                    1                          0   \n",
       "898                                     1                          0   \n",
       "6597                                    1                          0   \n",
       "8303                                    1                          0   \n",
       "4300                                    0                          0   \n",
       "\n",
       "      Lead Origin_Lead Import  Lead Origin_Quick Add Form  \\\n",
       "4595                        0                           0   \n",
       "898                         0                           0   \n",
       "6597                        0                           0   \n",
       "8303                        0                           0   \n",
       "4300                        0                           0   \n",
       "\n",
       "      Lead Source_Direct Traffic  ...  \\\n",
       "4595                           0  ...   \n",
       "898                            0  ...   \n",
       "6597                           0  ...   \n",
       "8303                           1  ...   \n",
       "4300                           0  ...   \n",
       "\n",
       "      Last Notable Activity_Form Submitted on Website  \\\n",
       "4595                                                0   \n",
       "898                                                 0   \n",
       "6597                                                0   \n",
       "8303                                                0   \n",
       "4300                                                0   \n",
       "\n",
       "      Last Notable Activity_Had a Phone Conversation  \\\n",
       "4595                                               0   \n",
       "898                                                0   \n",
       "6597                                               0   \n",
       "8303                                               0   \n",
       "4300                                               0   \n",
       "\n",
       "      Last Notable Activity_Modified  \\\n",
       "4595                               0   \n",
       "898                                1   \n",
       "6597                               0   \n",
       "8303                               1   \n",
       "4300                               0   \n",
       "\n",
       "      Last Notable Activity_Olark Chat Conversation  \\\n",
       "4595                                              0   \n",
       "898                                               0   \n",
       "6597                                              0   \n",
       "8303                                              0   \n",
       "4300                                              0   \n",
       "\n",
       "      Last Notable Activity_Page Visited on Website  \\\n",
       "4595                                              0   \n",
       "898                                               0   \n",
       "6597                                              0   \n",
       "8303                                              0   \n",
       "4300                                              0   \n",
       "\n",
       "      Last Notable Activity_Resubscribed to emails  \\\n",
       "4595                                             0   \n",
       "898                                              0   \n",
       "6597                                             0   \n",
       "8303                                             0   \n",
       "4300                                             0   \n",
       "\n",
       "      Last Notable Activity_SMS Sent  Last Notable Activity_Unreachable  \\\n",
       "4595                               1                                  0   \n",
       "898                                0                                  0   \n",
       "6597                               0                                  0   \n",
       "8303                               0                                  0   \n",
       "4300                               0                                  0   \n",
       "\n",
       "      Last Notable Activity_Unsubscribed  \\\n",
       "4595                                   0   \n",
       "898                                    0   \n",
       "6597                                   0   \n",
       "8303                                   0   \n",
       "4300                                   0   \n",
       "\n",
       "      Last Notable Activity_View in browser link Clicked  \n",
       "4595                                                  0   \n",
       "898                                                   0   \n",
       "6597                                                  0   \n",
       "8303                                                  0   \n",
       "4300                                                  0   \n",
       "\n",
       "[5 rows x 100 columns]"
      ]
     },
     "execution_count": 137,
     "metadata": {},
     "output_type": "execute_result"
    }
   ],
   "source": [
    "X_test.head()"
   ]
  },
  {
   "cell_type": "code",
   "execution_count": 138,
   "id": "15f6a8a1",
   "metadata": {},
   "outputs": [],
   "source": [
    "X_test[['TotalVisits','Total Time Spent on Website','Page Views Per Visit']] = scaler.transform(X_test[['TotalVisits','Total Time Spent on Website','Page Views Per Visit']])"
   ]
  },
  {
   "cell_type": "code",
   "execution_count": 139,
   "id": "56e5faad",
   "metadata": {},
   "outputs": [
    {
     "data": {
      "text/html": [
       "<div>\n",
       "<style scoped>\n",
       "    .dataframe tbody tr th:only-of-type {\n",
       "        vertical-align: middle;\n",
       "    }\n",
       "\n",
       "    .dataframe tbody tr th {\n",
       "        vertical-align: top;\n",
       "    }\n",
       "\n",
       "    .dataframe thead th {\n",
       "        text-align: right;\n",
       "    }\n",
       "</style>\n",
       "<table border=\"1\" class=\"dataframe\">\n",
       "  <thead>\n",
       "    <tr style=\"text-align: right;\">\n",
       "      <th></th>\n",
       "      <th>Total Time Spent on Website</th>\n",
       "      <th>Lead Origin_Lead Add Form</th>\n",
       "      <th>Lead Source_Olark Chat</th>\n",
       "      <th>Lead Source_Welingak Website</th>\n",
       "      <th>Last Activity_Olark Chat Conversation</th>\n",
       "      <th>Tags_Closed by Horizzon</th>\n",
       "      <th>Tags_Lost to EINS</th>\n",
       "      <th>Tags_Others</th>\n",
       "      <th>Tags_Ringing</th>\n",
       "      <th>Tags_Will revert after reading the email</th>\n",
       "      <th>Last Notable Activity_SMS Sent</th>\n",
       "    </tr>\n",
       "  </thead>\n",
       "  <tbody>\n",
       "    <tr>\n",
       "      <th>4595</th>\n",
       "      <td>0.636446</td>\n",
       "      <td>0</td>\n",
       "      <td>0</td>\n",
       "      <td>0</td>\n",
       "      <td>0</td>\n",
       "      <td>0</td>\n",
       "      <td>0</td>\n",
       "      <td>0</td>\n",
       "      <td>1</td>\n",
       "      <td>0</td>\n",
       "      <td>1</td>\n",
       "    </tr>\n",
       "    <tr>\n",
       "      <th>898</th>\n",
       "      <td>0.073974</td>\n",
       "      <td>0</td>\n",
       "      <td>0</td>\n",
       "      <td>0</td>\n",
       "      <td>0</td>\n",
       "      <td>0</td>\n",
       "      <td>0</td>\n",
       "      <td>0</td>\n",
       "      <td>1</td>\n",
       "      <td>0</td>\n",
       "      <td>0</td>\n",
       "    </tr>\n",
       "    <tr>\n",
       "      <th>6597</th>\n",
       "      <td>0.046008</td>\n",
       "      <td>0</td>\n",
       "      <td>0</td>\n",
       "      <td>0</td>\n",
       "      <td>0</td>\n",
       "      <td>0</td>\n",
       "      <td>0</td>\n",
       "      <td>1</td>\n",
       "      <td>0</td>\n",
       "      <td>0</td>\n",
       "      <td>0</td>\n",
       "    </tr>\n",
       "    <tr>\n",
       "      <th>8303</th>\n",
       "      <td>0.028417</td>\n",
       "      <td>0</td>\n",
       "      <td>0</td>\n",
       "      <td>0</td>\n",
       "      <td>0</td>\n",
       "      <td>0</td>\n",
       "      <td>0</td>\n",
       "      <td>1</td>\n",
       "      <td>0</td>\n",
       "      <td>0</td>\n",
       "      <td>0</td>\n",
       "    </tr>\n",
       "    <tr>\n",
       "      <th>4300</th>\n",
       "      <td>0.573297</td>\n",
       "      <td>0</td>\n",
       "      <td>0</td>\n",
       "      <td>0</td>\n",
       "      <td>0</td>\n",
       "      <td>0</td>\n",
       "      <td>0</td>\n",
       "      <td>1</td>\n",
       "      <td>0</td>\n",
       "      <td>0</td>\n",
       "      <td>0</td>\n",
       "    </tr>\n",
       "  </tbody>\n",
       "</table>\n",
       "</div>"
      ],
      "text/plain": [
       "      Total Time Spent on Website  Lead Origin_Lead Add Form  \\\n",
       "4595                     0.636446                          0   \n",
       "898                      0.073974                          0   \n",
       "6597                     0.046008                          0   \n",
       "8303                     0.028417                          0   \n",
       "4300                     0.573297                          0   \n",
       "\n",
       "      Lead Source_Olark Chat  Lead Source_Welingak Website  \\\n",
       "4595                       0                             0   \n",
       "898                        0                             0   \n",
       "6597                       0                             0   \n",
       "8303                       0                             0   \n",
       "4300                       0                             0   \n",
       "\n",
       "      Last Activity_Olark Chat Conversation  Tags_Closed by Horizzon  \\\n",
       "4595                                      0                        0   \n",
       "898                                       0                        0   \n",
       "6597                                      0                        0   \n",
       "8303                                      0                        0   \n",
       "4300                                      0                        0   \n",
       "\n",
       "      Tags_Lost to EINS  Tags_Others  Tags_Ringing  \\\n",
       "4595                  0            0             1   \n",
       "898                   0            0             1   \n",
       "6597                  0            1             0   \n",
       "8303                  0            1             0   \n",
       "4300                  0            1             0   \n",
       "\n",
       "      Tags_Will revert after reading the email  Last Notable Activity_SMS Sent  \n",
       "4595                                         0                               1  \n",
       "898                                          0                               0  \n",
       "6597                                         0                               0  \n",
       "8303                                         0                               0  \n",
       "4300                                         0                               0  "
      ]
     },
     "execution_count": 139,
     "metadata": {},
     "output_type": "execute_result"
    }
   ],
   "source": [
    "X_test = X_test[col]\n",
    "X_test.head()"
   ]
  },
  {
   "cell_type": "code",
   "execution_count": 140,
   "id": "0fac6106",
   "metadata": {},
   "outputs": [],
   "source": [
    "X_test_sm = sm.add_constant(X_test)"
   ]
  },
  {
   "cell_type": "markdown",
   "id": "bbd57933",
   "metadata": {},
   "source": [
    "#### Making predictions on the test set"
   ]
  },
  {
   "cell_type": "code",
   "execution_count": 141,
   "id": "9f54b748",
   "metadata": {},
   "outputs": [],
   "source": [
    "y_test_pred = res.predict(X_test_sm)"
   ]
  },
  {
   "cell_type": "code",
   "execution_count": 142,
   "id": "84c0580e",
   "metadata": {},
   "outputs": [
    {
     "data": {
      "text/plain": [
       "4595    0.223302\n",
       "898     0.001862\n",
       "6597    0.056828\n",
       "8303    0.052914\n",
       "4300    0.366786\n",
       "6761    0.010742\n",
       "7082    0.999043\n",
       "4483    0.607183\n",
       "1423    0.981318\n",
       "8748    0.836459\n",
       "dtype: float64"
      ]
     },
     "execution_count": 142,
     "metadata": {},
     "output_type": "execute_result"
    }
   ],
   "source": [
    "y_test_pred[:10]"
   ]
  },
  {
   "cell_type": "code",
   "execution_count": 143,
   "id": "0afdffd7",
   "metadata": {},
   "outputs": [
    {
     "data": {
      "text/html": [
       "<div>\n",
       "<style scoped>\n",
       "    .dataframe tbody tr th:only-of-type {\n",
       "        vertical-align: middle;\n",
       "    }\n",
       "\n",
       "    .dataframe tbody tr th {\n",
       "        vertical-align: top;\n",
       "    }\n",
       "\n",
       "    .dataframe thead th {\n",
       "        text-align: right;\n",
       "    }\n",
       "</style>\n",
       "<table border=\"1\" class=\"dataframe\">\n",
       "  <thead>\n",
       "    <tr style=\"text-align: right;\">\n",
       "      <th></th>\n",
       "      <th>0</th>\n",
       "    </tr>\n",
       "  </thead>\n",
       "  <tbody>\n",
       "    <tr>\n",
       "      <th>4595</th>\n",
       "      <td>0.223302</td>\n",
       "    </tr>\n",
       "    <tr>\n",
       "      <th>898</th>\n",
       "      <td>0.001862</td>\n",
       "    </tr>\n",
       "    <tr>\n",
       "      <th>6597</th>\n",
       "      <td>0.056828</td>\n",
       "    </tr>\n",
       "    <tr>\n",
       "      <th>8303</th>\n",
       "      <td>0.052914</td>\n",
       "    </tr>\n",
       "    <tr>\n",
       "      <th>4300</th>\n",
       "      <td>0.366786</td>\n",
       "    </tr>\n",
       "  </tbody>\n",
       "</table>\n",
       "</div>"
      ],
      "text/plain": [
       "             0\n",
       "4595  0.223302\n",
       "898   0.001862\n",
       "6597  0.056828\n",
       "8303  0.052914\n",
       "4300  0.366786"
      ]
     },
     "execution_count": 143,
     "metadata": {},
     "output_type": "execute_result"
    }
   ],
   "source": [
    "# Converting y_pred to a dataframe which is an array\n",
    "y_pred_1 = pd.DataFrame(y_test_pred)\n",
    "y_pred_1.head()"
   ]
  },
  {
   "cell_type": "code",
   "execution_count": 144,
   "id": "34cc1a89",
   "metadata": {},
   "outputs": [],
   "source": [
    "# Converting y_test to dataframe\n",
    "y_test_df = pd.DataFrame(y_test)"
   ]
  },
  {
   "cell_type": "code",
   "execution_count": 145,
   "id": "522cf54f",
   "metadata": {},
   "outputs": [],
   "source": [
    "# Putting CustID to index\n",
    "y_test_df['Lead ID'] = y_test_df.index"
   ]
  },
  {
   "cell_type": "code",
   "execution_count": 146,
   "id": "683bec0e",
   "metadata": {},
   "outputs": [],
   "source": [
    "# Removing index for both dataframes to append them side by side \n",
    "y_pred_1.reset_index(drop=True, inplace=True)\n",
    "y_test_df.reset_index(drop=True, inplace=True)"
   ]
  },
  {
   "cell_type": "code",
   "execution_count": 147,
   "id": "d36c2237",
   "metadata": {},
   "outputs": [],
   "source": [
    "# Appending y_test_df and y_pred_1\n",
    "y_pred_final = pd.concat([y_test_df, y_pred_1],axis=1)"
   ]
  },
  {
   "cell_type": "code",
   "execution_count": 148,
   "id": "0f26689c",
   "metadata": {},
   "outputs": [
    {
     "data": {
      "text/html": [
       "<div>\n",
       "<style scoped>\n",
       "    .dataframe tbody tr th:only-of-type {\n",
       "        vertical-align: middle;\n",
       "    }\n",
       "\n",
       "    .dataframe tbody tr th {\n",
       "        vertical-align: top;\n",
       "    }\n",
       "\n",
       "    .dataframe thead th {\n",
       "        text-align: right;\n",
       "    }\n",
       "</style>\n",
       "<table border=\"1\" class=\"dataframe\">\n",
       "  <thead>\n",
       "    <tr style=\"text-align: right;\">\n",
       "      <th></th>\n",
       "      <th>Converted</th>\n",
       "      <th>Lead ID</th>\n",
       "      <th>0</th>\n",
       "    </tr>\n",
       "  </thead>\n",
       "  <tbody>\n",
       "    <tr>\n",
       "      <th>0</th>\n",
       "      <td>0</td>\n",
       "      <td>4595</td>\n",
       "      <td>0.223302</td>\n",
       "    </tr>\n",
       "    <tr>\n",
       "      <th>1</th>\n",
       "      <td>0</td>\n",
       "      <td>898</td>\n",
       "      <td>0.001862</td>\n",
       "    </tr>\n",
       "    <tr>\n",
       "      <th>2</th>\n",
       "      <td>0</td>\n",
       "      <td>6597</td>\n",
       "      <td>0.056828</td>\n",
       "    </tr>\n",
       "    <tr>\n",
       "      <th>3</th>\n",
       "      <td>0</td>\n",
       "      <td>8303</td>\n",
       "      <td>0.052914</td>\n",
       "    </tr>\n",
       "    <tr>\n",
       "      <th>4</th>\n",
       "      <td>0</td>\n",
       "      <td>4300</td>\n",
       "      <td>0.366786</td>\n",
       "    </tr>\n",
       "  </tbody>\n",
       "</table>\n",
       "</div>"
      ],
      "text/plain": [
       "   Converted  Lead ID         0\n",
       "0          0     4595  0.223302\n",
       "1          0      898  0.001862\n",
       "2          0     6597  0.056828\n",
       "3          0     8303  0.052914\n",
       "4          0     4300  0.366786"
      ]
     },
     "execution_count": 148,
     "metadata": {},
     "output_type": "execute_result"
    }
   ],
   "source": [
    "y_pred_final.head()"
   ]
  },
  {
   "cell_type": "code",
   "execution_count": 149,
   "id": "9ca28d15",
   "metadata": {},
   "outputs": [],
   "source": [
    "# Renaming the column \n",
    "y_pred_final= y_pred_final.rename(columns={ 0 : 'Converted_Prob'})"
   ]
  },
  {
   "cell_type": "code",
   "execution_count": 150,
   "id": "149366dd",
   "metadata": {},
   "outputs": [
    {
     "data": {
      "text/html": [
       "<div>\n",
       "<style scoped>\n",
       "    .dataframe tbody tr th:only-of-type {\n",
       "        vertical-align: middle;\n",
       "    }\n",
       "\n",
       "    .dataframe tbody tr th {\n",
       "        vertical-align: top;\n",
       "    }\n",
       "\n",
       "    .dataframe thead th {\n",
       "        text-align: right;\n",
       "    }\n",
       "</style>\n",
       "<table border=\"1\" class=\"dataframe\">\n",
       "  <thead>\n",
       "    <tr style=\"text-align: right;\">\n",
       "      <th></th>\n",
       "      <th>Lead ID</th>\n",
       "      <th>Converted</th>\n",
       "      <th>Converted_Prob</th>\n",
       "    </tr>\n",
       "  </thead>\n",
       "  <tbody>\n",
       "    <tr>\n",
       "      <th>0</th>\n",
       "      <td>4595</td>\n",
       "      <td>0</td>\n",
       "      <td>0.223302</td>\n",
       "    </tr>\n",
       "    <tr>\n",
       "      <th>1</th>\n",
       "      <td>898</td>\n",
       "      <td>0</td>\n",
       "      <td>0.001862</td>\n",
       "    </tr>\n",
       "    <tr>\n",
       "      <th>2</th>\n",
       "      <td>6597</td>\n",
       "      <td>0</td>\n",
       "      <td>0.056828</td>\n",
       "    </tr>\n",
       "    <tr>\n",
       "      <th>3</th>\n",
       "      <td>8303</td>\n",
       "      <td>0</td>\n",
       "      <td>0.052914</td>\n",
       "    </tr>\n",
       "    <tr>\n",
       "      <th>4</th>\n",
       "      <td>4300</td>\n",
       "      <td>0</td>\n",
       "      <td>0.366786</td>\n",
       "    </tr>\n",
       "  </tbody>\n",
       "</table>\n",
       "</div>"
      ],
      "text/plain": [
       "   Lead ID  Converted  Converted_Prob\n",
       "0     4595          0        0.223302\n",
       "1      898          0        0.001862\n",
       "2     6597          0        0.056828\n",
       "3     8303          0        0.052914\n",
       "4     4300          0        0.366786"
      ]
     },
     "execution_count": 150,
     "metadata": {},
     "output_type": "execute_result"
    }
   ],
   "source": [
    "# Rearranging the columns\n",
    "y_pred_final = y_pred_final.reindex(['Lead ID','Converted','Converted_Prob'], axis=1)\n",
    "y_pred_final.head()"
   ]
  },
  {
   "cell_type": "code",
   "execution_count": 151,
   "id": "7a50bc53",
   "metadata": {},
   "outputs": [
    {
     "data": {
      "text/html": [
       "<div>\n",
       "<style scoped>\n",
       "    .dataframe tbody tr th:only-of-type {\n",
       "        vertical-align: middle;\n",
       "    }\n",
       "\n",
       "    .dataframe tbody tr th {\n",
       "        vertical-align: top;\n",
       "    }\n",
       "\n",
       "    .dataframe thead th {\n",
       "        text-align: right;\n",
       "    }\n",
       "</style>\n",
       "<table border=\"1\" class=\"dataframe\">\n",
       "  <thead>\n",
       "    <tr style=\"text-align: right;\">\n",
       "      <th></th>\n",
       "      <th>Lead ID</th>\n",
       "      <th>Converted</th>\n",
       "      <th>Converted_Prob</th>\n",
       "      <th>final_predicted</th>\n",
       "    </tr>\n",
       "  </thead>\n",
       "  <tbody>\n",
       "    <tr>\n",
       "      <th>0</th>\n",
       "      <td>4595</td>\n",
       "      <td>0</td>\n",
       "      <td>0.223302</td>\n",
       "      <td>0</td>\n",
       "    </tr>\n",
       "    <tr>\n",
       "      <th>1</th>\n",
       "      <td>898</td>\n",
       "      <td>0</td>\n",
       "      <td>0.001862</td>\n",
       "      <td>0</td>\n",
       "    </tr>\n",
       "    <tr>\n",
       "      <th>2</th>\n",
       "      <td>6597</td>\n",
       "      <td>0</td>\n",
       "      <td>0.056828</td>\n",
       "      <td>0</td>\n",
       "    </tr>\n",
       "    <tr>\n",
       "      <th>3</th>\n",
       "      <td>8303</td>\n",
       "      <td>0</td>\n",
       "      <td>0.052914</td>\n",
       "      <td>0</td>\n",
       "    </tr>\n",
       "    <tr>\n",
       "      <th>4</th>\n",
       "      <td>4300</td>\n",
       "      <td>0</td>\n",
       "      <td>0.366786</td>\n",
       "      <td>1</td>\n",
       "    </tr>\n",
       "  </tbody>\n",
       "</table>\n",
       "</div>"
      ],
      "text/plain": [
       "   Lead ID  Converted  Converted_Prob  final_predicted\n",
       "0     4595          0        0.223302                0\n",
       "1      898          0        0.001862                0\n",
       "2     6597          0        0.056828                0\n",
       "3     8303          0        0.052914                0\n",
       "4     4300          0        0.366786                1"
      ]
     },
     "execution_count": 151,
     "metadata": {},
     "output_type": "execute_result"
    }
   ],
   "source": [
    "y_pred_final['final_predicted'] = y_pred_final.Converted_Prob.map(lambda x: 1 if x > 0.25 else 0)\n",
    "y_pred_final.head()"
   ]
  },
  {
   "cell_type": "code",
   "execution_count": 152,
   "id": "7948d3ae",
   "metadata": {},
   "outputs": [
    {
     "data": {
      "text/plain": [
       "0.9129939209726444"
      ]
     },
     "execution_count": 152,
     "metadata": {},
     "output_type": "execute_result"
    }
   ],
   "source": [
    "# Checking the overall accuracy.\n",
    "metrics.accuracy_score(y_pred_final.Converted, y_pred_final.final_predicted)"
   ]
  },
  {
   "cell_type": "code",
   "execution_count": 153,
   "id": "b7bf8c3d",
   "metadata": {},
   "outputs": [
    {
     "data": {
      "text/plain": [
       "array([[1474,  143],\n",
       "       [  86,  929]], dtype=int64)"
      ]
     },
     "execution_count": 153,
     "metadata": {},
     "output_type": "execute_result"
    }
   ],
   "source": [
    "confusion2 = metrics.confusion_matrix(y_pred_final.Converted, y_pred_final.final_predicted )\n",
    "confusion2"
   ]
  },
  {
   "cell_type": "code",
   "execution_count": 154,
   "id": "3cac6e44",
   "metadata": {},
   "outputs": [],
   "source": [
    "TP = confusion2[1,1] # true positive \n",
    "TN = confusion2[0,0] # true negatives\n",
    "FP = confusion2[0,1] # false positives\n",
    "FN = confusion2[1,0] # false negatives"
   ]
  },
  {
   "cell_type": "code",
   "execution_count": 155,
   "id": "f89f19a1",
   "metadata": {},
   "outputs": [
    {
     "data": {
      "text/plain": [
       "0.9152709359605912"
      ]
     },
     "execution_count": 155,
     "metadata": {},
     "output_type": "execute_result"
    }
   ],
   "source": [
    "# Let's see the sensitivity of our logistic regression model\n",
    "TP / float(TP+FN)"
   ]
  },
  {
   "cell_type": "code",
   "execution_count": 156,
   "id": "c8b042c9",
   "metadata": {},
   "outputs": [
    {
     "data": {
      "text/plain": [
       "0.9115646258503401"
      ]
     },
     "execution_count": 156,
     "metadata": {},
     "output_type": "execute_result"
    }
   ],
   "source": [
    "# Let us calculate specificity\n",
    "TN / float(TN+FP)"
   ]
  },
  {
   "cell_type": "code",
   "execution_count": 157,
   "id": "b4d5eb44",
   "metadata": {},
   "outputs": [
    {
     "data": {
      "text/plain": [
       "0.9152709359605912"
      ]
     },
     "execution_count": 157,
     "metadata": {},
     "output_type": "execute_result"
    }
   ],
   "source": [
    "recall_score(y_pred_final.Converted, y_pred_final.final_predicted)"
   ]
  },
  {
   "cell_type": "code",
   "execution_count": 158,
   "id": "88723293",
   "metadata": {},
   "outputs": [
    {
     "data": {
      "text/plain": [
       "0.8666044776119403"
      ]
     },
     "execution_count": 158,
     "metadata": {},
     "output_type": "execute_result"
    }
   ],
   "source": [
    "precision_score(y_pred_final.Converted, y_pred_final.final_predicted)"
   ]
  },
  {
   "cell_type": "markdown",
   "id": "cf8e7a5a",
   "metadata": {},
   "source": [
    "#### Calculating Lead Score for complete data set"
   ]
  },
  {
   "cell_type": "code",
   "execution_count": 159,
   "id": "76f791c6",
   "metadata": {},
   "outputs": [
    {
     "data": {
      "text/html": [
       "<div>\n",
       "<style scoped>\n",
       "    .dataframe tbody tr th:only-of-type {\n",
       "        vertical-align: middle;\n",
       "    }\n",
       "\n",
       "    .dataframe tbody tr th {\n",
       "        vertical-align: top;\n",
       "    }\n",
       "\n",
       "    .dataframe thead th {\n",
       "        text-align: right;\n",
       "    }\n",
       "</style>\n",
       "<table border=\"1\" class=\"dataframe\">\n",
       "  <thead>\n",
       "    <tr style=\"text-align: right;\">\n",
       "      <th></th>\n",
       "      <th>Lead Number</th>\n",
       "    </tr>\n",
       "  </thead>\n",
       "  <tbody>\n",
       "    <tr>\n",
       "      <th>5602</th>\n",
       "      <td>606986</td>\n",
       "    </tr>\n",
       "    <tr>\n",
       "      <th>5036</th>\n",
       "      <td>611478</td>\n",
       "    </tr>\n",
       "    <tr>\n",
       "      <th>8970</th>\n",
       "      <td>581574</td>\n",
       "    </tr>\n",
       "    <tr>\n",
       "      <th>5328</th>\n",
       "      <td>608960</td>\n",
       "    </tr>\n",
       "    <tr>\n",
       "      <th>1929</th>\n",
       "      <td>640995</td>\n",
       "    </tr>\n",
       "  </tbody>\n",
       "</table>\n",
       "</div>"
      ],
      "text/plain": [
       "      Lead Number\n",
       "5602       606986\n",
       "5036       611478\n",
       "8970       581574\n",
       "5328       608960\n",
       "1929       640995"
      ]
     },
     "execution_count": 159,
     "metadata": {},
     "output_type": "execute_result"
    }
   ],
   "source": [
    "# merging train and test data\n",
    "train1=pd.DataFrame(leads_train['Lead Number'])\n",
    "train1.head()"
   ]
  },
  {
   "cell_type": "code",
   "execution_count": 160,
   "id": "be3a3a49",
   "metadata": {},
   "outputs": [],
   "source": [
    "train1['Lead ID'] = train1.index"
   ]
  },
  {
   "cell_type": "code",
   "execution_count": 161,
   "id": "8f392e54",
   "metadata": {},
   "outputs": [
    {
     "data": {
      "text/html": [
       "<div>\n",
       "<style scoped>\n",
       "    .dataframe tbody tr th:only-of-type {\n",
       "        vertical-align: middle;\n",
       "    }\n",
       "\n",
       "    .dataframe tbody tr th {\n",
       "        vertical-align: top;\n",
       "    }\n",
       "\n",
       "    .dataframe thead th {\n",
       "        text-align: right;\n",
       "    }\n",
       "</style>\n",
       "<table border=\"1\" class=\"dataframe\">\n",
       "  <thead>\n",
       "    <tr style=\"text-align: right;\">\n",
       "      <th></th>\n",
       "      <th>Converted</th>\n",
       "      <th>Converted_Prob</th>\n",
       "      <th>Lead ID</th>\n",
       "      <th>predicted</th>\n",
       "      <th>0.0</th>\n",
       "      <th>0.1</th>\n",
       "      <th>0.2</th>\n",
       "      <th>0.3</th>\n",
       "      <th>0.4</th>\n",
       "      <th>0.5</th>\n",
       "      <th>0.6</th>\n",
       "      <th>0.7</th>\n",
       "      <th>0.8</th>\n",
       "      <th>0.9</th>\n",
       "      <th>final_predicted</th>\n",
       "    </tr>\n",
       "  </thead>\n",
       "  <tbody>\n",
       "    <tr>\n",
       "      <th>0</th>\n",
       "      <td>1</td>\n",
       "      <td>0.386775</td>\n",
       "      <td>5602</td>\n",
       "      <td>0</td>\n",
       "      <td>1</td>\n",
       "      <td>1</td>\n",
       "      <td>1</td>\n",
       "      <td>1</td>\n",
       "      <td>0</td>\n",
       "      <td>0</td>\n",
       "      <td>0</td>\n",
       "      <td>0</td>\n",
       "      <td>0</td>\n",
       "      <td>0</td>\n",
       "      <td>1</td>\n",
       "    </tr>\n",
       "    <tr>\n",
       "      <th>1</th>\n",
       "      <td>1</td>\n",
       "      <td>0.995434</td>\n",
       "      <td>5036</td>\n",
       "      <td>1</td>\n",
       "      <td>1</td>\n",
       "      <td>1</td>\n",
       "      <td>1</td>\n",
       "      <td>1</td>\n",
       "      <td>1</td>\n",
       "      <td>1</td>\n",
       "      <td>1</td>\n",
       "      <td>1</td>\n",
       "      <td>1</td>\n",
       "      <td>1</td>\n",
       "      <td>1</td>\n",
       "    </tr>\n",
       "    <tr>\n",
       "      <th>2</th>\n",
       "      <td>0</td>\n",
       "      <td>0.018647</td>\n",
       "      <td>8970</td>\n",
       "      <td>0</td>\n",
       "      <td>1</td>\n",
       "      <td>0</td>\n",
       "      <td>0</td>\n",
       "      <td>0</td>\n",
       "      <td>0</td>\n",
       "      <td>0</td>\n",
       "      <td>0</td>\n",
       "      <td>0</td>\n",
       "      <td>0</td>\n",
       "      <td>0</td>\n",
       "      <td>0</td>\n",
       "    </tr>\n",
       "    <tr>\n",
       "      <th>3</th>\n",
       "      <td>0</td>\n",
       "      <td>0.002083</td>\n",
       "      <td>5328</td>\n",
       "      <td>0</td>\n",
       "      <td>1</td>\n",
       "      <td>0</td>\n",
       "      <td>0</td>\n",
       "      <td>0</td>\n",
       "      <td>0</td>\n",
       "      <td>0</td>\n",
       "      <td>0</td>\n",
       "      <td>0</td>\n",
       "      <td>0</td>\n",
       "      <td>0</td>\n",
       "      <td>0</td>\n",
       "    </tr>\n",
       "    <tr>\n",
       "      <th>4</th>\n",
       "      <td>0</td>\n",
       "      <td>0.069881</td>\n",
       "      <td>1929</td>\n",
       "      <td>0</td>\n",
       "      <td>1</td>\n",
       "      <td>0</td>\n",
       "      <td>0</td>\n",
       "      <td>0</td>\n",
       "      <td>0</td>\n",
       "      <td>0</td>\n",
       "      <td>0</td>\n",
       "      <td>0</td>\n",
       "      <td>0</td>\n",
       "      <td>0</td>\n",
       "      <td>0</td>\n",
       "    </tr>\n",
       "  </tbody>\n",
       "</table>\n",
       "</div>"
      ],
      "text/plain": [
       "   Converted  Converted_Prob  Lead ID  predicted  0.0  0.1  0.2  0.3  0.4  \\\n",
       "0          1        0.386775     5602          0    1    1    1    1    0   \n",
       "1          1        0.995434     5036          1    1    1    1    1    1   \n",
       "2          0        0.018647     8970          0    1    0    0    0    0   \n",
       "3          0        0.002083     5328          0    1    0    0    0    0   \n",
       "4          0        0.069881     1929          0    1    0    0    0    0   \n",
       "\n",
       "   0.5  0.6  0.7  0.8  0.9  final_predicted  \n",
       "0    0    0    0    0    0                1  \n",
       "1    1    1    1    1    1                1  \n",
       "2    0    0    0    0    0                0  \n",
       "3    0    0    0    0    0                0  \n",
       "4    0    0    0    0    0                0  "
      ]
     },
     "execution_count": 161,
     "metadata": {},
     "output_type": "execute_result"
    }
   ],
   "source": [
    "y_train_pred_final.head()"
   ]
  },
  {
   "cell_type": "code",
   "execution_count": 162,
   "id": "6ec05942",
   "metadata": {},
   "outputs": [
    {
     "data": {
      "text/html": [
       "<div>\n",
       "<style scoped>\n",
       "    .dataframe tbody tr th:only-of-type {\n",
       "        vertical-align: middle;\n",
       "    }\n",
       "\n",
       "    .dataframe tbody tr th {\n",
       "        vertical-align: top;\n",
       "    }\n",
       "\n",
       "    .dataframe thead th {\n",
       "        text-align: right;\n",
       "    }\n",
       "</style>\n",
       "<table border=\"1\" class=\"dataframe\">\n",
       "  <thead>\n",
       "    <tr style=\"text-align: right;\">\n",
       "      <th></th>\n",
       "      <th>Lead Number</th>\n",
       "      <th>Lead ID</th>\n",
       "      <th>Converted</th>\n",
       "      <th>Converted_Prob</th>\n",
       "      <th>predicted</th>\n",
       "      <th>0.0</th>\n",
       "      <th>0.1</th>\n",
       "      <th>0.2</th>\n",
       "      <th>0.3</th>\n",
       "      <th>0.4</th>\n",
       "      <th>0.5</th>\n",
       "      <th>0.6</th>\n",
       "      <th>0.7</th>\n",
       "      <th>0.8</th>\n",
       "      <th>0.9</th>\n",
       "      <th>final_predicted</th>\n",
       "    </tr>\n",
       "  </thead>\n",
       "  <tbody>\n",
       "    <tr>\n",
       "      <th>0</th>\n",
       "      <td>606986</td>\n",
       "      <td>5602</td>\n",
       "      <td>1</td>\n",
       "      <td>0.386775</td>\n",
       "      <td>0</td>\n",
       "      <td>1</td>\n",
       "      <td>1</td>\n",
       "      <td>1</td>\n",
       "      <td>1</td>\n",
       "      <td>0</td>\n",
       "      <td>0</td>\n",
       "      <td>0</td>\n",
       "      <td>0</td>\n",
       "      <td>0</td>\n",
       "      <td>0</td>\n",
       "      <td>1</td>\n",
       "    </tr>\n",
       "    <tr>\n",
       "      <th>1</th>\n",
       "      <td>611478</td>\n",
       "      <td>5036</td>\n",
       "      <td>1</td>\n",
       "      <td>0.995434</td>\n",
       "      <td>1</td>\n",
       "      <td>1</td>\n",
       "      <td>1</td>\n",
       "      <td>1</td>\n",
       "      <td>1</td>\n",
       "      <td>1</td>\n",
       "      <td>1</td>\n",
       "      <td>1</td>\n",
       "      <td>1</td>\n",
       "      <td>1</td>\n",
       "      <td>1</td>\n",
       "      <td>1</td>\n",
       "    </tr>\n",
       "    <tr>\n",
       "      <th>2</th>\n",
       "      <td>581574</td>\n",
       "      <td>8970</td>\n",
       "      <td>0</td>\n",
       "      <td>0.018647</td>\n",
       "      <td>0</td>\n",
       "      <td>1</td>\n",
       "      <td>0</td>\n",
       "      <td>0</td>\n",
       "      <td>0</td>\n",
       "      <td>0</td>\n",
       "      <td>0</td>\n",
       "      <td>0</td>\n",
       "      <td>0</td>\n",
       "      <td>0</td>\n",
       "      <td>0</td>\n",
       "      <td>0</td>\n",
       "    </tr>\n",
       "    <tr>\n",
       "      <th>3</th>\n",
       "      <td>608960</td>\n",
       "      <td>5328</td>\n",
       "      <td>0</td>\n",
       "      <td>0.002083</td>\n",
       "      <td>0</td>\n",
       "      <td>1</td>\n",
       "      <td>0</td>\n",
       "      <td>0</td>\n",
       "      <td>0</td>\n",
       "      <td>0</td>\n",
       "      <td>0</td>\n",
       "      <td>0</td>\n",
       "      <td>0</td>\n",
       "      <td>0</td>\n",
       "      <td>0</td>\n",
       "      <td>0</td>\n",
       "    </tr>\n",
       "    <tr>\n",
       "      <th>4</th>\n",
       "      <td>640995</td>\n",
       "      <td>1929</td>\n",
       "      <td>0</td>\n",
       "      <td>0.069881</td>\n",
       "      <td>0</td>\n",
       "      <td>1</td>\n",
       "      <td>0</td>\n",
       "      <td>0</td>\n",
       "      <td>0</td>\n",
       "      <td>0</td>\n",
       "      <td>0</td>\n",
       "      <td>0</td>\n",
       "      <td>0</td>\n",
       "      <td>0</td>\n",
       "      <td>0</td>\n",
       "      <td>0</td>\n",
       "    </tr>\n",
       "  </tbody>\n",
       "</table>\n",
       "</div>"
      ],
      "text/plain": [
       "   Lead Number  Lead ID  Converted  Converted_Prob  predicted  0.0  0.1  0.2  \\\n",
       "0       606986     5602          1        0.386775          0    1    1    1   \n",
       "1       611478     5036          1        0.995434          1    1    1    1   \n",
       "2       581574     8970          0        0.018647          0    1    0    0   \n",
       "3       608960     5328          0        0.002083          0    1    0    0   \n",
       "4       640995     1929          0        0.069881          0    1    0    0   \n",
       "\n",
       "   0.3  0.4  0.5  0.6  0.7  0.8  0.9  final_predicted  \n",
       "0    1    0    0    0    0    0    0                1  \n",
       "1    1    1    1    1    1    1    1                1  \n",
       "2    0    0    0    0    0    0    0                0  \n",
       "3    0    0    0    0    0    0    0                0  \n",
       "4    0    0    0    0    0    0    0                0  "
      ]
     },
     "execution_count": 162,
     "metadata": {},
     "output_type": "execute_result"
    }
   ],
   "source": [
    "train2=train1.merge(y_train_pred_final,on='Lead ID')\n",
    "train2.head()"
   ]
  },
  {
   "cell_type": "code",
   "execution_count": 163,
   "id": "c0b4926b",
   "metadata": {},
   "outputs": [],
   "source": [
    "train_df=train2[['Lead ID','Lead Number','Converted','Converted_Prob','final_predicted']]"
   ]
  },
  {
   "cell_type": "code",
   "execution_count": 164,
   "id": "3ad6a290",
   "metadata": {},
   "outputs": [
    {
     "data": {
      "text/html": [
       "<div>\n",
       "<style scoped>\n",
       "    .dataframe tbody tr th:only-of-type {\n",
       "        vertical-align: middle;\n",
       "    }\n",
       "\n",
       "    .dataframe tbody tr th {\n",
       "        vertical-align: top;\n",
       "    }\n",
       "\n",
       "    .dataframe thead th {\n",
       "        text-align: right;\n",
       "    }\n",
       "</style>\n",
       "<table border=\"1\" class=\"dataframe\">\n",
       "  <thead>\n",
       "    <tr style=\"text-align: right;\">\n",
       "      <th></th>\n",
       "      <th>Lead ID</th>\n",
       "      <th>Lead Number</th>\n",
       "      <th>Converted</th>\n",
       "      <th>Converted_Prob</th>\n",
       "      <th>final_predicted</th>\n",
       "    </tr>\n",
       "  </thead>\n",
       "  <tbody>\n",
       "    <tr>\n",
       "      <th>0</th>\n",
       "      <td>5602</td>\n",
       "      <td>606986</td>\n",
       "      <td>1</td>\n",
       "      <td>0.386775</td>\n",
       "      <td>1</td>\n",
       "    </tr>\n",
       "    <tr>\n",
       "      <th>1</th>\n",
       "      <td>5036</td>\n",
       "      <td>611478</td>\n",
       "      <td>1</td>\n",
       "      <td>0.995434</td>\n",
       "      <td>1</td>\n",
       "    </tr>\n",
       "    <tr>\n",
       "      <th>2</th>\n",
       "      <td>8970</td>\n",
       "      <td>581574</td>\n",
       "      <td>0</td>\n",
       "      <td>0.018647</td>\n",
       "      <td>0</td>\n",
       "    </tr>\n",
       "    <tr>\n",
       "      <th>3</th>\n",
       "      <td>5328</td>\n",
       "      <td>608960</td>\n",
       "      <td>0</td>\n",
       "      <td>0.002083</td>\n",
       "      <td>0</td>\n",
       "    </tr>\n",
       "    <tr>\n",
       "      <th>4</th>\n",
       "      <td>1929</td>\n",
       "      <td>640995</td>\n",
       "      <td>0</td>\n",
       "      <td>0.069881</td>\n",
       "      <td>0</td>\n",
       "    </tr>\n",
       "  </tbody>\n",
       "</table>\n",
       "</div>"
      ],
      "text/plain": [
       "   Lead ID  Lead Number  Converted  Converted_Prob  final_predicted\n",
       "0     5602       606986          1        0.386775                1\n",
       "1     5036       611478          1        0.995434                1\n",
       "2     8970       581574          0        0.018647                0\n",
       "3     5328       608960          0        0.002083                0\n",
       "4     1929       640995          0        0.069881                0"
      ]
     },
     "execution_count": 164,
     "metadata": {},
     "output_type": "execute_result"
    }
   ],
   "source": [
    "train_df.head()"
   ]
  },
  {
   "cell_type": "code",
   "execution_count": 165,
   "id": "38c35ae0",
   "metadata": {},
   "outputs": [
    {
     "data": {
      "text/html": [
       "<div>\n",
       "<style scoped>\n",
       "    .dataframe tbody tr th:only-of-type {\n",
       "        vertical-align: middle;\n",
       "    }\n",
       "\n",
       "    .dataframe tbody tr th {\n",
       "        vertical-align: top;\n",
       "    }\n",
       "\n",
       "    .dataframe thead th {\n",
       "        text-align: right;\n",
       "    }\n",
       "</style>\n",
       "<table border=\"1\" class=\"dataframe\">\n",
       "  <thead>\n",
       "    <tr style=\"text-align: right;\">\n",
       "      <th></th>\n",
       "      <th>Lead Number</th>\n",
       "    </tr>\n",
       "  </thead>\n",
       "  <tbody>\n",
       "    <tr>\n",
       "      <th>4595</th>\n",
       "      <td>615719</td>\n",
       "    </tr>\n",
       "    <tr>\n",
       "      <th>898</th>\n",
       "      <td>650862</td>\n",
       "    </tr>\n",
       "    <tr>\n",
       "      <th>6597</th>\n",
       "      <td>599140</td>\n",
       "    </tr>\n",
       "    <tr>\n",
       "      <th>8303</th>\n",
       "      <td>586447</td>\n",
       "    </tr>\n",
       "    <tr>\n",
       "      <th>4300</th>\n",
       "      <td>618575</td>\n",
       "    </tr>\n",
       "  </tbody>\n",
       "</table>\n",
       "</div>"
      ],
      "text/plain": [
       "      Lead Number\n",
       "4595       615719\n",
       "898        650862\n",
       "6597       599140\n",
       "8303       586447\n",
       "4300       618575"
      ]
     },
     "execution_count": 165,
     "metadata": {},
     "output_type": "execute_result"
    }
   ],
   "source": [
    "test1=pd.DataFrame(leads_test['Lead Number'])\n",
    "test1.head()"
   ]
  },
  {
   "cell_type": "code",
   "execution_count": 166,
   "id": "f8810cec",
   "metadata": {},
   "outputs": [],
   "source": [
    "test1['Lead ID'] = test1.index"
   ]
  },
  {
   "cell_type": "code",
   "execution_count": 167,
   "id": "5401eb39",
   "metadata": {},
   "outputs": [
    {
     "data": {
      "text/html": [
       "<div>\n",
       "<style scoped>\n",
       "    .dataframe tbody tr th:only-of-type {\n",
       "        vertical-align: middle;\n",
       "    }\n",
       "\n",
       "    .dataframe tbody tr th {\n",
       "        vertical-align: top;\n",
       "    }\n",
       "\n",
       "    .dataframe thead th {\n",
       "        text-align: right;\n",
       "    }\n",
       "</style>\n",
       "<table border=\"1\" class=\"dataframe\">\n",
       "  <thead>\n",
       "    <tr style=\"text-align: right;\">\n",
       "      <th></th>\n",
       "      <th>Lead Number</th>\n",
       "      <th>Lead ID</th>\n",
       "      <th>Converted</th>\n",
       "      <th>Converted_Prob</th>\n",
       "      <th>final_predicted</th>\n",
       "    </tr>\n",
       "  </thead>\n",
       "  <tbody>\n",
       "    <tr>\n",
       "      <th>0</th>\n",
       "      <td>615719</td>\n",
       "      <td>4595</td>\n",
       "      <td>0</td>\n",
       "      <td>0.223302</td>\n",
       "      <td>0</td>\n",
       "    </tr>\n",
       "    <tr>\n",
       "      <th>1</th>\n",
       "      <td>650862</td>\n",
       "      <td>898</td>\n",
       "      <td>0</td>\n",
       "      <td>0.001862</td>\n",
       "      <td>0</td>\n",
       "    </tr>\n",
       "    <tr>\n",
       "      <th>2</th>\n",
       "      <td>599140</td>\n",
       "      <td>6597</td>\n",
       "      <td>0</td>\n",
       "      <td>0.056828</td>\n",
       "      <td>0</td>\n",
       "    </tr>\n",
       "    <tr>\n",
       "      <th>3</th>\n",
       "      <td>586447</td>\n",
       "      <td>8303</td>\n",
       "      <td>0</td>\n",
       "      <td>0.052914</td>\n",
       "      <td>0</td>\n",
       "    </tr>\n",
       "    <tr>\n",
       "      <th>4</th>\n",
       "      <td>618575</td>\n",
       "      <td>4300</td>\n",
       "      <td>0</td>\n",
       "      <td>0.366786</td>\n",
       "      <td>1</td>\n",
       "    </tr>\n",
       "  </tbody>\n",
       "</table>\n",
       "</div>"
      ],
      "text/plain": [
       "   Lead Number  Lead ID  Converted  Converted_Prob  final_predicted\n",
       "0       615719     4595          0        0.223302                0\n",
       "1       650862      898          0        0.001862                0\n",
       "2       599140     6597          0        0.056828                0\n",
       "3       586447     8303          0        0.052914                0\n",
       "4       618575     4300          0        0.366786                1"
      ]
     },
     "execution_count": 167,
     "metadata": {},
     "output_type": "execute_result"
    }
   ],
   "source": [
    "test2=test1.merge(y_pred_final,on='Lead ID')\n",
    "test2.head()"
   ]
  },
  {
   "cell_type": "code",
   "execution_count": 168,
   "id": "c803e964",
   "metadata": {},
   "outputs": [
    {
     "data": {
      "text/html": [
       "<div>\n",
       "<style scoped>\n",
       "    .dataframe tbody tr th:only-of-type {\n",
       "        vertical-align: middle;\n",
       "    }\n",
       "\n",
       "    .dataframe tbody tr th {\n",
       "        vertical-align: top;\n",
       "    }\n",
       "\n",
       "    .dataframe thead th {\n",
       "        text-align: right;\n",
       "    }\n",
       "</style>\n",
       "<table border=\"1\" class=\"dataframe\">\n",
       "  <thead>\n",
       "    <tr style=\"text-align: right;\">\n",
       "      <th></th>\n",
       "      <th>Lead ID</th>\n",
       "      <th>Lead Number</th>\n",
       "      <th>Converted</th>\n",
       "      <th>Converted_Prob</th>\n",
       "      <th>final_predicted</th>\n",
       "    </tr>\n",
       "  </thead>\n",
       "  <tbody>\n",
       "    <tr>\n",
       "      <th>0</th>\n",
       "      <td>4595</td>\n",
       "      <td>615719</td>\n",
       "      <td>0</td>\n",
       "      <td>0.223302</td>\n",
       "      <td>0</td>\n",
       "    </tr>\n",
       "    <tr>\n",
       "      <th>1</th>\n",
       "      <td>898</td>\n",
       "      <td>650862</td>\n",
       "      <td>0</td>\n",
       "      <td>0.001862</td>\n",
       "      <td>0</td>\n",
       "    </tr>\n",
       "    <tr>\n",
       "      <th>2</th>\n",
       "      <td>6597</td>\n",
       "      <td>599140</td>\n",
       "      <td>0</td>\n",
       "      <td>0.056828</td>\n",
       "      <td>0</td>\n",
       "    </tr>\n",
       "    <tr>\n",
       "      <th>3</th>\n",
       "      <td>8303</td>\n",
       "      <td>586447</td>\n",
       "      <td>0</td>\n",
       "      <td>0.052914</td>\n",
       "      <td>0</td>\n",
       "    </tr>\n",
       "    <tr>\n",
       "      <th>4</th>\n",
       "      <td>4300</td>\n",
       "      <td>618575</td>\n",
       "      <td>0</td>\n",
       "      <td>0.366786</td>\n",
       "      <td>1</td>\n",
       "    </tr>\n",
       "  </tbody>\n",
       "</table>\n",
       "</div>"
      ],
      "text/plain": [
       "   Lead ID  Lead Number  Converted  Converted_Prob  final_predicted\n",
       "0     4595       615719          0        0.223302                0\n",
       "1      898       650862          0        0.001862                0\n",
       "2     6597       599140          0        0.056828                0\n",
       "3     8303       586447          0        0.052914                0\n",
       "4     4300       618575          0        0.366786                1"
      ]
     },
     "execution_count": 168,
     "metadata": {},
     "output_type": "execute_result"
    }
   ],
   "source": [
    "test_df=test2[['Lead ID','Lead Number','Converted','Converted_Prob','final_predicted']]\n",
    "test_df.head()"
   ]
  },
  {
   "cell_type": "code",
   "execution_count": 169,
   "id": "6a47c29e",
   "metadata": {},
   "outputs": [],
   "source": [
    "final_df=pd.concat([train_df,test_df],axis=0)"
   ]
  },
  {
   "cell_type": "code",
   "execution_count": 170,
   "id": "afd0b501",
   "metadata": {},
   "outputs": [
    {
     "data": {
      "text/html": [
       "<div>\n",
       "<style scoped>\n",
       "    .dataframe tbody tr th:only-of-type {\n",
       "        vertical-align: middle;\n",
       "    }\n",
       "\n",
       "    .dataframe tbody tr th {\n",
       "        vertical-align: top;\n",
       "    }\n",
       "\n",
       "    .dataframe thead th {\n",
       "        text-align: right;\n",
       "    }\n",
       "</style>\n",
       "<table border=\"1\" class=\"dataframe\">\n",
       "  <thead>\n",
       "    <tr style=\"text-align: right;\">\n",
       "      <th></th>\n",
       "      <th>Lead ID</th>\n",
       "      <th>Lead Number</th>\n",
       "      <th>Converted</th>\n",
       "      <th>Converted_Prob</th>\n",
       "      <th>final_predicted</th>\n",
       "    </tr>\n",
       "  </thead>\n",
       "  <tbody>\n",
       "    <tr>\n",
       "      <th>0</th>\n",
       "      <td>5602</td>\n",
       "      <td>606986</td>\n",
       "      <td>1</td>\n",
       "      <td>0.386775</td>\n",
       "      <td>1</td>\n",
       "    </tr>\n",
       "    <tr>\n",
       "      <th>1</th>\n",
       "      <td>5036</td>\n",
       "      <td>611478</td>\n",
       "      <td>1</td>\n",
       "      <td>0.995434</td>\n",
       "      <td>1</td>\n",
       "    </tr>\n",
       "    <tr>\n",
       "      <th>2</th>\n",
       "      <td>8970</td>\n",
       "      <td>581574</td>\n",
       "      <td>0</td>\n",
       "      <td>0.018647</td>\n",
       "      <td>0</td>\n",
       "    </tr>\n",
       "    <tr>\n",
       "      <th>3</th>\n",
       "      <td>5328</td>\n",
       "      <td>608960</td>\n",
       "      <td>0</td>\n",
       "      <td>0.002083</td>\n",
       "      <td>0</td>\n",
       "    </tr>\n",
       "    <tr>\n",
       "      <th>4</th>\n",
       "      <td>1929</td>\n",
       "      <td>640995</td>\n",
       "      <td>0</td>\n",
       "      <td>0.069881</td>\n",
       "      <td>0</td>\n",
       "    </tr>\n",
       "  </tbody>\n",
       "</table>\n",
       "</div>"
      ],
      "text/plain": [
       "   Lead ID  Lead Number  Converted  Converted_Prob  final_predicted\n",
       "0     5602       606986          1        0.386775                1\n",
       "1     5036       611478          1        0.995434                1\n",
       "2     8970       581574          0        0.018647                0\n",
       "3     5328       608960          0        0.002083                0\n",
       "4     1929       640995          0        0.069881                0"
      ]
     },
     "execution_count": 170,
     "metadata": {},
     "output_type": "execute_result"
    }
   ],
   "source": [
    "final_df.head()"
   ]
  },
  {
   "cell_type": "code",
   "execution_count": 171,
   "id": "1e81b533",
   "metadata": {},
   "outputs": [
    {
     "data": {
      "text/plain": [
       "(8773, 5)"
      ]
     },
     "execution_count": 171,
     "metadata": {},
     "output_type": "execute_result"
    }
   ],
   "source": [
    "final_df.shape   # it contains same no. of rows as the original dataframe (before splitting)"
   ]
  },
  {
   "cell_type": "code",
   "execution_count": 172,
   "id": "7b14baed",
   "metadata": {},
   "outputs": [
    {
     "data": {
      "text/html": [
       "<div>\n",
       "<style scoped>\n",
       "    .dataframe tbody tr th:only-of-type {\n",
       "        vertical-align: middle;\n",
       "    }\n",
       "\n",
       "    .dataframe tbody tr th {\n",
       "        vertical-align: top;\n",
       "    }\n",
       "\n",
       "    .dataframe thead th {\n",
       "        text-align: right;\n",
       "    }\n",
       "</style>\n",
       "<table border=\"1\" class=\"dataframe\">\n",
       "  <thead>\n",
       "    <tr style=\"text-align: right;\">\n",
       "      <th></th>\n",
       "      <th>Lead ID</th>\n",
       "      <th>Lead Number</th>\n",
       "      <th>Converted</th>\n",
       "      <th>Converted_Prob</th>\n",
       "      <th>final_predicted</th>\n",
       "      <th>Lead Score</th>\n",
       "    </tr>\n",
       "  </thead>\n",
       "  <tbody>\n",
       "    <tr>\n",
       "      <th>0</th>\n",
       "      <td>5602</td>\n",
       "      <td>606986</td>\n",
       "      <td>1</td>\n",
       "      <td>0.386775</td>\n",
       "      <td>1</td>\n",
       "      <td>38.68</td>\n",
       "    </tr>\n",
       "    <tr>\n",
       "      <th>1</th>\n",
       "      <td>5036</td>\n",
       "      <td>611478</td>\n",
       "      <td>1</td>\n",
       "      <td>0.995434</td>\n",
       "      <td>1</td>\n",
       "      <td>99.54</td>\n",
       "    </tr>\n",
       "    <tr>\n",
       "      <th>2</th>\n",
       "      <td>8970</td>\n",
       "      <td>581574</td>\n",
       "      <td>0</td>\n",
       "      <td>0.018647</td>\n",
       "      <td>0</td>\n",
       "      <td>1.86</td>\n",
       "    </tr>\n",
       "    <tr>\n",
       "      <th>3</th>\n",
       "      <td>5328</td>\n",
       "      <td>608960</td>\n",
       "      <td>0</td>\n",
       "      <td>0.002083</td>\n",
       "      <td>0</td>\n",
       "      <td>0.21</td>\n",
       "    </tr>\n",
       "    <tr>\n",
       "      <th>4</th>\n",
       "      <td>1929</td>\n",
       "      <td>640995</td>\n",
       "      <td>0</td>\n",
       "      <td>0.069881</td>\n",
       "      <td>0</td>\n",
       "      <td>6.99</td>\n",
       "    </tr>\n",
       "  </tbody>\n",
       "</table>\n",
       "</div>"
      ],
      "text/plain": [
       "   Lead ID  Lead Number  Converted  Converted_Prob  final_predicted  \\\n",
       "0     5602       606986          1        0.386775                1   \n",
       "1     5036       611478          1        0.995434                1   \n",
       "2     8970       581574          0        0.018647                0   \n",
       "3     5328       608960          0        0.002083                0   \n",
       "4     1929       640995          0        0.069881                0   \n",
       "\n",
       "   Lead Score  \n",
       "0       38.68  \n",
       "1       99.54  \n",
       "2        1.86  \n",
       "3        0.21  \n",
       "4        6.99  "
      ]
     },
     "execution_count": 172,
     "metadata": {},
     "output_type": "execute_result"
    }
   ],
   "source": [
    "# Lead Score\n",
    "final_df['Lead Score']=round(final_df.Converted_Prob*100,2)\n",
    "final_df.head()"
   ]
  },
  {
   "cell_type": "code",
   "execution_count": 173,
   "id": "be369bc5",
   "metadata": {},
   "outputs": [
    {
     "data": {
      "text/html": [
       "<div>\n",
       "<style scoped>\n",
       "    .dataframe tbody tr th:only-of-type {\n",
       "        vertical-align: middle;\n",
       "    }\n",
       "\n",
       "    .dataframe tbody tr th {\n",
       "        vertical-align: top;\n",
       "    }\n",
       "\n",
       "    .dataframe thead th {\n",
       "        text-align: right;\n",
       "    }\n",
       "</style>\n",
       "<table border=\"1\" class=\"dataframe\">\n",
       "  <thead>\n",
       "    <tr style=\"text-align: right;\">\n",
       "      <th></th>\n",
       "      <th>Lead ID</th>\n",
       "      <th>Lead Number</th>\n",
       "      <th>Converted</th>\n",
       "      <th>Converted_Prob</th>\n",
       "      <th>final_predicted</th>\n",
       "      <th>Lead Score</th>\n",
       "    </tr>\n",
       "  </thead>\n",
       "  <tbody>\n",
       "    <tr>\n",
       "      <th>693</th>\n",
       "      <td>6620</td>\n",
       "      <td>598991</td>\n",
       "      <td>1</td>\n",
       "      <td>0.999987</td>\n",
       "      <td>1</td>\n",
       "      <td>100.00</td>\n",
       "    </tr>\n",
       "    <tr>\n",
       "      <th>944</th>\n",
       "      <td>4662</td>\n",
       "      <td>614998</td>\n",
       "      <td>1</td>\n",
       "      <td>0.999958</td>\n",
       "      <td>1</td>\n",
       "      <td>100.00</td>\n",
       "    </tr>\n",
       "    <tr>\n",
       "      <th>672</th>\n",
       "      <td>949</td>\n",
       "      <td>650234</td>\n",
       "      <td>1</td>\n",
       "      <td>0.999978</td>\n",
       "      <td>1</td>\n",
       "      <td>100.00</td>\n",
       "    </tr>\n",
       "    <tr>\n",
       "      <th>627</th>\n",
       "      <td>177</td>\n",
       "      <td>658648</td>\n",
       "      <td>1</td>\n",
       "      <td>0.999980</td>\n",
       "      <td>1</td>\n",
       "      <td>100.00</td>\n",
       "    </tr>\n",
       "    <tr>\n",
       "      <th>430</th>\n",
       "      <td>5942</td>\n",
       "      <td>604240</td>\n",
       "      <td>1</td>\n",
       "      <td>0.999970</td>\n",
       "      <td>1</td>\n",
       "      <td>100.00</td>\n",
       "    </tr>\n",
       "    <tr>\n",
       "      <th>5955</th>\n",
       "      <td>3615</td>\n",
       "      <td>625862</td>\n",
       "      <td>1</td>\n",
       "      <td>0.999976</td>\n",
       "      <td>1</td>\n",
       "      <td>100.00</td>\n",
       "    </tr>\n",
       "    <tr>\n",
       "      <th>2214</th>\n",
       "      <td>7234</td>\n",
       "      <td>593962</td>\n",
       "      <td>1</td>\n",
       "      <td>0.999874</td>\n",
       "      <td>1</td>\n",
       "      <td>99.99</td>\n",
       "    </tr>\n",
       "    <tr>\n",
       "      <th>1502</th>\n",
       "      <td>936</td>\n",
       "      <td>650338</td>\n",
       "      <td>1</td>\n",
       "      <td>0.999897</td>\n",
       "      <td>1</td>\n",
       "      <td>99.99</td>\n",
       "    </tr>\n",
       "    <tr>\n",
       "      <th>3238</th>\n",
       "      <td>4062</td>\n",
       "      <td>621078</td>\n",
       "      <td>1</td>\n",
       "      <td>0.999913</td>\n",
       "      <td>1</td>\n",
       "      <td>99.99</td>\n",
       "    </tr>\n",
       "    <tr>\n",
       "      <th>2306</th>\n",
       "      <td>2688</td>\n",
       "      <td>633904</td>\n",
       "      <td>1</td>\n",
       "      <td>0.999929</td>\n",
       "      <td>1</td>\n",
       "      <td>99.99</td>\n",
       "    </tr>\n",
       "    <tr>\n",
       "      <th>3405</th>\n",
       "      <td>6937</td>\n",
       "      <td>596446</td>\n",
       "      <td>1</td>\n",
       "      <td>0.999929</td>\n",
       "      <td>1</td>\n",
       "      <td>99.99</td>\n",
       "    </tr>\n",
       "    <tr>\n",
       "      <th>848</th>\n",
       "      <td>6546</td>\n",
       "      <td>599573</td>\n",
       "      <td>1</td>\n",
       "      <td>0.999904</td>\n",
       "      <td>1</td>\n",
       "      <td>99.99</td>\n",
       "    </tr>\n",
       "    <tr>\n",
       "      <th>1163</th>\n",
       "      <td>7482</td>\n",
       "      <td>592240</td>\n",
       "      <td>1</td>\n",
       "      <td>0.999929</td>\n",
       "      <td>1</td>\n",
       "      <td>99.99</td>\n",
       "    </tr>\n",
       "    <tr>\n",
       "      <th>1648</th>\n",
       "      <td>8120</td>\n",
       "      <td>587853</td>\n",
       "      <td>1</td>\n",
       "      <td>0.999910</td>\n",
       "      <td>1</td>\n",
       "      <td>99.99</td>\n",
       "    </tr>\n",
       "    <tr>\n",
       "      <th>4021</th>\n",
       "      <td>3286</td>\n",
       "      <td>628512</td>\n",
       "      <td>1</td>\n",
       "      <td>0.999784</td>\n",
       "      <td>1</td>\n",
       "      <td>99.98</td>\n",
       "    </tr>\n",
       "    <tr>\n",
       "      <th>5834</th>\n",
       "      <td>4812</td>\n",
       "      <td>613818</td>\n",
       "      <td>1</td>\n",
       "      <td>0.999784</td>\n",
       "      <td>1</td>\n",
       "      <td>99.98</td>\n",
       "    </tr>\n",
       "    <tr>\n",
       "      <th>3406</th>\n",
       "      <td>6243</td>\n",
       "      <td>601868</td>\n",
       "      <td>1</td>\n",
       "      <td>0.999803</td>\n",
       "      <td>1</td>\n",
       "      <td>99.98</td>\n",
       "    </tr>\n",
       "    <tr>\n",
       "      <th>4771</th>\n",
       "      <td>5839</td>\n",
       "      <td>605107</td>\n",
       "      <td>1</td>\n",
       "      <td>0.999784</td>\n",
       "      <td>1</td>\n",
       "      <td>99.98</td>\n",
       "    </tr>\n",
       "    <tr>\n",
       "      <th>602</th>\n",
       "      <td>2011</td>\n",
       "      <td>640191</td>\n",
       "      <td>1</td>\n",
       "      <td>0.999819</td>\n",
       "      <td>1</td>\n",
       "      <td>99.98</td>\n",
       "    </tr>\n",
       "    <tr>\n",
       "      <th>4604</th>\n",
       "      <td>3425</td>\n",
       "      <td>627475</td>\n",
       "      <td>1</td>\n",
       "      <td>0.999784</td>\n",
       "      <td>1</td>\n",
       "      <td>99.98</td>\n",
       "    </tr>\n",
       "  </tbody>\n",
       "</table>\n",
       "</div>"
      ],
      "text/plain": [
       "      Lead ID  Lead Number  Converted  Converted_Prob  final_predicted  \\\n",
       "693      6620       598991          1        0.999987                1   \n",
       "944      4662       614998          1        0.999958                1   \n",
       "672       949       650234          1        0.999978                1   \n",
       "627       177       658648          1        0.999980                1   \n",
       "430      5942       604240          1        0.999970                1   \n",
       "5955     3615       625862          1        0.999976                1   \n",
       "2214     7234       593962          1        0.999874                1   \n",
       "1502      936       650338          1        0.999897                1   \n",
       "3238     4062       621078          1        0.999913                1   \n",
       "2306     2688       633904          1        0.999929                1   \n",
       "3405     6937       596446          1        0.999929                1   \n",
       "848      6546       599573          1        0.999904                1   \n",
       "1163     7482       592240          1        0.999929                1   \n",
       "1648     8120       587853          1        0.999910                1   \n",
       "4021     3286       628512          1        0.999784                1   \n",
       "5834     4812       613818          1        0.999784                1   \n",
       "3406     6243       601868          1        0.999803                1   \n",
       "4771     5839       605107          1        0.999784                1   \n",
       "602      2011       640191          1        0.999819                1   \n",
       "4604     3425       627475          1        0.999784                1   \n",
       "\n",
       "      Lead Score  \n",
       "693       100.00  \n",
       "944       100.00  \n",
       "672       100.00  \n",
       "627       100.00  \n",
       "430       100.00  \n",
       "5955      100.00  \n",
       "2214       99.99  \n",
       "1502       99.99  \n",
       "3238       99.99  \n",
       "2306       99.99  \n",
       "3405       99.99  \n",
       "848        99.99  \n",
       "1163       99.99  \n",
       "1648       99.99  \n",
       "4021       99.98  \n",
       "5834       99.98  \n",
       "3406       99.98  \n",
       "4771       99.98  \n",
       "602        99.98  \n",
       "4604       99.98  "
      ]
     },
     "execution_count": 173,
     "metadata": {},
     "output_type": "execute_result"
    }
   ],
   "source": [
    "final_df.sort_values('Lead Score', ascending=False).iloc[:20,:]"
   ]
  },
  {
   "cell_type": "code",
   "execution_count": 176,
   "id": "4a7ec4da",
   "metadata": {},
   "outputs": [
    {
     "data": {
      "text/html": [
       "<div>\n",
       "<style scoped>\n",
       "    .dataframe tbody tr th:only-of-type {\n",
       "        vertical-align: middle;\n",
       "    }\n",
       "\n",
       "    .dataframe tbody tr th {\n",
       "        vertical-align: top;\n",
       "    }\n",
       "\n",
       "    .dataframe thead th {\n",
       "        text-align: right;\n",
       "    }\n",
       "</style>\n",
       "<table border=\"1\" class=\"dataframe\">\n",
       "  <thead>\n",
       "    <tr style=\"text-align: right;\">\n",
       "      <th></th>\n",
       "      <th>Lead ID</th>\n",
       "      <th>Lead Number</th>\n",
       "      <th>Converted</th>\n",
       "      <th>Converted_Prob</th>\n",
       "      <th>final_predicted</th>\n",
       "      <th>Lead Score</th>\n",
       "    </tr>\n",
       "  </thead>\n",
       "  <tbody>\n",
       "    <tr>\n",
       "      <th>693</th>\n",
       "      <td>6620</td>\n",
       "      <td>598991</td>\n",
       "      <td>1</td>\n",
       "      <td>0.999987</td>\n",
       "      <td>1</td>\n",
       "      <td>100.00</td>\n",
       "    </tr>\n",
       "    <tr>\n",
       "      <th>944</th>\n",
       "      <td>4662</td>\n",
       "      <td>614998</td>\n",
       "      <td>1</td>\n",
       "      <td>0.999958</td>\n",
       "      <td>1</td>\n",
       "      <td>100.00</td>\n",
       "    </tr>\n",
       "    <tr>\n",
       "      <th>672</th>\n",
       "      <td>949</td>\n",
       "      <td>650234</td>\n",
       "      <td>1</td>\n",
       "      <td>0.999978</td>\n",
       "      <td>1</td>\n",
       "      <td>100.00</td>\n",
       "    </tr>\n",
       "    <tr>\n",
       "      <th>627</th>\n",
       "      <td>177</td>\n",
       "      <td>658648</td>\n",
       "      <td>1</td>\n",
       "      <td>0.999980</td>\n",
       "      <td>1</td>\n",
       "      <td>100.00</td>\n",
       "    </tr>\n",
       "    <tr>\n",
       "      <th>430</th>\n",
       "      <td>5942</td>\n",
       "      <td>604240</td>\n",
       "      <td>1</td>\n",
       "      <td>0.999970</td>\n",
       "      <td>1</td>\n",
       "      <td>100.00</td>\n",
       "    </tr>\n",
       "    <tr>\n",
       "      <th>...</th>\n",
       "      <td>...</td>\n",
       "      <td>...</td>\n",
       "      <td>...</td>\n",
       "      <td>...</td>\n",
       "      <td>...</td>\n",
       "      <td>...</td>\n",
       "    </tr>\n",
       "    <tr>\n",
       "      <th>758</th>\n",
       "      <td>863</td>\n",
       "      <td>651339</td>\n",
       "      <td>0</td>\n",
       "      <td>0.000378</td>\n",
       "      <td>0</td>\n",
       "      <td>0.04</td>\n",
       "    </tr>\n",
       "    <tr>\n",
       "      <th>269</th>\n",
       "      <td>8614</td>\n",
       "      <td>584023</td>\n",
       "      <td>0</td>\n",
       "      <td>0.000443</td>\n",
       "      <td>0</td>\n",
       "      <td>0.04</td>\n",
       "    </tr>\n",
       "    <tr>\n",
       "      <th>698</th>\n",
       "      <td>1461</td>\n",
       "      <td>644871</td>\n",
       "      <td>0</td>\n",
       "      <td>0.000302</td>\n",
       "      <td>0</td>\n",
       "      <td>0.03</td>\n",
       "    </tr>\n",
       "    <tr>\n",
       "      <th>1763</th>\n",
       "      <td>3276</td>\n",
       "      <td>628594</td>\n",
       "      <td>0</td>\n",
       "      <td>0.000317</td>\n",
       "      <td>0</td>\n",
       "      <td>0.03</td>\n",
       "    </tr>\n",
       "    <tr>\n",
       "      <th>1233</th>\n",
       "      <td>3551</td>\n",
       "      <td>626471</td>\n",
       "      <td>0</td>\n",
       "      <td>0.000325</td>\n",
       "      <td>0</td>\n",
       "      <td>0.03</td>\n",
       "    </tr>\n",
       "  </tbody>\n",
       "</table>\n",
       "<p>8773 rows × 6 columns</p>\n",
       "</div>"
      ],
      "text/plain": [
       "      Lead ID  Lead Number  Converted  Converted_Prob  final_predicted  \\\n",
       "693      6620       598991          1        0.999987                1   \n",
       "944      4662       614998          1        0.999958                1   \n",
       "672       949       650234          1        0.999978                1   \n",
       "627       177       658648          1        0.999980                1   \n",
       "430      5942       604240          1        0.999970                1   \n",
       "...       ...          ...        ...             ...              ...   \n",
       "758       863       651339          0        0.000378                0   \n",
       "269      8614       584023          0        0.000443                0   \n",
       "698      1461       644871          0        0.000302                0   \n",
       "1763     3276       628594          0        0.000317                0   \n",
       "1233     3551       626471          0        0.000325                0   \n",
       "\n",
       "      Lead Score  \n",
       "693       100.00  \n",
       "944       100.00  \n",
       "672       100.00  \n",
       "627       100.00  \n",
       "430       100.00  \n",
       "...          ...  \n",
       "758         0.04  \n",
       "269         0.04  \n",
       "698         0.03  \n",
       "1763        0.03  \n",
       "1233        0.03  \n",
       "\n",
       "[8773 rows x 6 columns]"
      ]
     },
     "execution_count": 176,
     "metadata": {},
     "output_type": "execute_result"
    }
   ],
   "source": [
    "# Fianl dataframe having Lead scores in the descending order\n",
    "df_final=final_df.sort_values('Lead Score', ascending=False)\n",
    "df_final"
   ]
  },
  {
   "cell_type": "markdown",
   "id": "b59b6064",
   "metadata": {},
   "source": [
    "### Conclusion"
   ]
  },
  {
   "cell_type": "code",
   "execution_count": 177,
   "id": "ee90710a",
   "metadata": {},
   "outputs": [
    {
     "data": {
      "image/png": "[encoded data removed]",
      "text/plain": [
       "<Figure size 432x288 with 1 Axes>"
      ]
     },
     "metadata": {
      "needs_background": "light"
     },
     "output_type": "display_data"
    }
   ],
   "source": [
    "res.params.plot.bar()\n",
    "plt.show()"
   ]
  },
  {
   "cell_type": "markdown",
   "id": "76fc3af6",
   "metadata": {},
   "source": [
    "Top 3 predictors for higher conversions are:\n",
    "- Tags_Closed by horizzon\n",
    "- Tags_Lost to EINS\n",
    "- Tags_Will revert after reading the email"
   ]
  },
  {
   "cell_type": "markdown",
   "id": "a50954c0",
   "metadata": {},
   "source": [
    "We have taken cut-off point at 0.25\n",
    "- For Train Data:\n",
    "Accuracy = 91.10,\n",
    "Sensitivity or Recall = 90.61,\n",
    "Specificity = 91.40,\n",
    "Precision = 86.52\n",
    "\n",
    "- For Test Data:\n",
    "Accuracy = 91.29,\n",
    "Sensitivity or Recall = 91.52,\n",
    "Specificity = 91.16,\n",
    "Precision = 86.66"
   ]
  },
  {
   "cell_type": "code",
   "execution_count": null,
   "id": "4f9649eb",
   "metadata": {},
   "outputs": [],
   "source": []
  }
 ],
 "metadata": {
  "kernelspec": {
   "display_name": "Python 3 (ipykernel)",
   "language": "python",
   "name": "python3"
  },
  "language_info": {
   "codemirror_mode": {
    "name": "ipython",
    "version": 3
   },
   "file_extension": ".py",
   "mimetype": "text/x-python",
   "name": "python",
   "nbconvert_exporter": "python",
   "pygments_lexer": "ipython3",
   "version": "3.9.12"
  }
 },
 "nbformat": 4,
 "nbformat_minor": 5
}
